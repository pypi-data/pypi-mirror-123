{
 "cells": [
  {
   "cell_type": "markdown",
   "metadata": {},
   "source": [
    "# Introduction"
   ]
  },
  {
   "cell_type": "markdown",
   "metadata": {},
   "source": [
    "Before we start, you should install motif and the jupyter widget\n",
    "```\n",
    "!pip install pymotif\n",
    "```"
   ]
  },
  {
   "cell_type": "markdown",
   "metadata": {},
   "source": [
    "A brief introduction to Pymotif's functionality. Start by importing it:"
   ]
  },
  {
   "cell_type": "code",
   "execution_count": 1,
   "metadata": {},
   "outputs": [],
   "source": [
    "from pymotif import Motif"
   ]
  },
  {
   "cell_type": "markdown",
   "metadata": {},
   "source": [
    "## 1. Data Import\n",
    "\n",
    "Pymotif offers a variety of data import options:"
   ]
  },
  {
   "cell_type": "markdown",
   "metadata": {},
   "source": [
    "#### JSON Data\n",
    "\n",
    "If you download your graph data from the Motif UI (floppy disk button right above 'Data Sources'), it will be saved as a JSON file. This makes it easy to share your graph with someone else - you just have to send the file to them and they can import it like this:"
   ]
  },
  {
   "cell_type": "code",
   "execution_count": 2,
   "metadata": {},
   "outputs": [
    {
     "name": "stdout",
     "output_type": "stream",
     "text": [
      "Reading JSON file, all other params will be ignored...\n"
     ]
    },
    {
     "data": {
      "application/vnd.jupyter.widget-view+json": {
       "model_id": "a9dde6d26a86471d90e965755335f8ae",
       "version_major": 2,
       "version_minor": 0
      },
      "text/plain": [
       "Motif(value=None, state={'data': [{'nodes': [{'create_date': '2019-01-03T00:00:00', 'icon': 'account_balance',…"
      ]
     },
     "metadata": {},
     "output_type": "display_data"
    }
   ],
   "source": [
    "# path to local dataset\n",
    "json_path = 'data/sample.json'\n",
    "\n",
    "motif_json = Motif(json_path=json_path)\n",
    "motif_json.plot()"
   ]
  },
  {
   "cell_type": "markdown",
   "metadata": {},
   "source": [
    "Note the message that appears: `Reading JSON file, all other params will be ignored...`, which means the `json_path` parameter overwrites any other parameter passed to the `Motif()` object."
   ]
  },
  {
   "cell_type": "markdown",
   "metadata": {},
   "source": [
    "#### NetworkX Graphs\n",
    "\n",
    "If you have NetworkX or NetworkX-compatible graph data, it can be imported into Motif. In this example, we convert a `.gml` file into a NetworkX graph, then plot it in Motif:"
   ]
  },
  {
   "cell_type": "code",
   "execution_count": 3,
   "metadata": {},
   "outputs": [],
   "source": [
    "import networkx as nx\n",
    "\n",
    "# path to local dataset\n",
    "gml = 'data/karate.gml'\n",
    "\n",
    "# read using networkx\n",
    "nx_graph = nx.read_gml(gml)"
   ]
  },
  {
   "cell_type": "code",
   "execution_count": 4,
   "metadata": {},
   "outputs": [
    {
     "data": {
      "application/vnd.jupyter.widget-view+json": {
       "model_id": "24757e6b34e1461c9f2a89c3bae29ff3",
       "version_major": 2,
       "version_minor": 0
      },
      "text/plain": [
       "Motif(value=None, state={'data': [{'nodes': [{'id': '1', 'value': '1', 'name': '1'}, {'id': '2', 'value': '2',…"
      ]
     },
     "metadata": {},
     "output_type": "display_data"
    }
   ],
   "source": [
    "motif_nx = Motif(nx_graph=nx_graph, title='NetworkX')\n",
    "motif_nx.plot()"
   ]
  },
  {
   "cell_type": "markdown",
   "metadata": {},
   "source": [
    "#### Neo4j Data\n",
    "\n",
    "If you have data stored in a Neo4j database, it can also be plotted in Motif (change the placeholders to your own connection data):"
   ]
  },
  {
   "cell_type": "code",
   "execution_count": null,
   "metadata": {},
   "outputs": [],
   "source": [
    "import neo4j\n",
    "\n",
    "neo4j_uri = 'bolt://3.238.89.105:7687'\n",
    "neo4j_auth = ('neo4j', 'surveyors-beat-weed')\n",
    "neo4j_driver = neo4j.GraphDatabase.driver(uri=neo4j_uri, auth=neo4j_auth)\n",
    "neo4j_query = 'MATCH p=()-[r:ACTED_IN]->() RETURN p LIMIT 25'\n",
    "\n",
    "# get query results and create a Motif object from it\n",
    "neo4j_results = neo4j_driver.session().run(neo4j_query)\n",
    "motif_neo4j = Motif(neo4j_graph=neo4j_results.graph(), title='Neo4j')\n",
    "\n",
    "motif_neo4j.plot()"
   ]
  },
  {
   "cell_type": "markdown",
   "metadata": {},
   "source": [
    "See `neo4j_demo.ipynb` for more examples."
   ]
  },
  {
   "cell_type": "markdown",
   "metadata": {},
   "source": [
    "#### CSV Edgelists\n",
    "\n",
    "Plot graphs stored in CSV edgelists:"
   ]
  },
  {
   "cell_type": "code",
   "execution_count": 5,
   "metadata": {},
   "outputs": [
    {
     "data": {
      "application/vnd.jupyter.widget-view+json": {
       "model_id": "fcd096b48571406e87e5124b5bfbae7d",
       "version_major": 2,
       "version_minor": 0
      },
      "text/plain": [
       "Motif(value=None, state={'data': [{'nodes': [{'id': 'credit_card_13', 'value': 'credit_card_13', 'name': 'cred…"
      ]
     },
     "metadata": {},
     "output_type": "display_data"
    }
   ],
   "source": [
    "# path to local dataset\n",
    "csv_path = 'data/edgelist.csv'\n",
    "\n",
    "motif_csv = Motif(csv_path=csv_path, title='CSV')\n",
    "motif_csv.plot()"
   ]
  },
  {
   "cell_type": "markdown",
   "metadata": {},
   "source": [
    "---\n",
    "\n",
    "## 2. Save Data And Style\n",
    "\n",
    "You might have noticed a button at the bottom of each Motif widget. It will be useful when interacting with the graph via the UI. We'll import a graph, make a small change via the UI, then save it:"
   ]
  },
  {
   "cell_type": "code",
   "execution_count": 6,
   "metadata": {},
   "outputs": [
    {
     "name": "stdout",
     "output_type": "stream",
     "text": [
      "Reading JSON file, all other params will be ignored...\n"
     ]
    },
    {
     "data": {
      "application/vnd.jupyter.widget-view+json": {
       "model_id": "7cb8118520924d6db7a8d2937f638cc4",
       "version_major": 2,
       "version_minor": 0
      },
      "text/plain": [
       "Motif(value=None, state={'data': [{'nodes': [{'create_date': '2019-01-03T00:00:00', 'icon': 'account_balance',…"
      ]
     },
     "metadata": {},
     "output_type": "display_data"
    }
   ],
   "source": [
    "motif_saved_style = Motif(json_path=json_path)\n",
    "motif_saved_style"
   ]
  },
  {
   "cell_type": "markdown",
   "metadata": {},
   "source": [
    "In the graph above, change the layout with these steps:\n",
    "- Click on the 'Styles' icon on the left panel\n",
    "- Under `Layout`, change the selection from `Concentric` to `Radial`\n",
    "\n",
    "The nodes and edges should now be arranged differently.\n",
    "\n",
    "Save the current style by clicking on the `SAVE DATA AND STYLE` button, then plot the graph again in the following cell:"
   ]
  },
  {
   "cell_type": "code",
   "execution_count": 7,
   "metadata": {},
   "outputs": [
    {
     "data": {
      "application/vnd.jupyter.widget-view+json": {
       "model_id": "7cb8118520924d6db7a8d2937f638cc4",
       "version_major": 2,
       "version_minor": 0
      },
      "text/plain": [
       "Motif(value=None, state={'data': [{'nodes': [{'create_date': '2019-01-03T00:00:00', 'icon': 'account_balance',…"
      ]
     },
     "metadata": {},
     "output_type": "display_data"
    }
   ],
   "source": [
    "motif_saved_style"
   ]
  },
  {
   "cell_type": "markdown",
   "metadata": {},
   "source": [
    "Note how the style persists and the graph is still in a radial layout!"
   ]
  },
  {
   "cell_type": "markdown",
   "metadata": {},
   "source": [
    "---\n",
    "\n",
    "## 3. Set Style With Code\n",
    "\n",
    "We can also set styles via code. Let's change the graph above back to a `Concentric` layout:"
   ]
  },
  {
   "cell_type": "code",
   "execution_count": null,
   "metadata": {},
   "outputs": [],
   "source": [
    "style = {'layout': {'type': 'concentric'}}\n",
    "motif_saved_style.set_style(style)\n",
    "\n",
    "motif_saved_style"
   ]
  },
  {
   "cell_type": "markdown",
   "metadata": {},
   "source": [
    "You can also apply the current styling of one graph to another. An example:"
   ]
  },
  {
   "cell_type": "code",
   "execution_count": null,
   "metadata": {},
   "outputs": [],
   "source": [
    "nice_graph = Motif()\n",
    "\n",
    "# do styling here via UI / code\n",
    "# ...\n",
    "\n",
    "# extract the styles from graph\n",
    "nice_style = nice_graph.state['style']\n",
    "\n",
    "# apply style to another graph\n",
    "# ugly_graph = Motif(...)\n",
    "ugly_graph.set_style(nice_style)"
   ]
  },
  {
   "cell_type": "markdown",
   "metadata": {},
   "source": [
    "---\n",
    "\n",
    "## 4. Add Graphs\n",
    "\n",
    "You can add new graphs to existing Motif objects. We'll create a graph with the same JSON data as above, then add the CSV data into it:"
   ]
  },
  {
   "cell_type": "code",
   "execution_count": 8,
   "metadata": {},
   "outputs": [
    {
     "name": "stdout",
     "output_type": "stream",
     "text": [
      "Reading JSON file, all other params will be ignored...\n"
     ]
    },
    {
     "data": {
      "application/vnd.jupyter.widget-view+json": {
       "model_id": "515282aa729c499192672589fc6c2cc5",
       "version_major": 2,
       "version_minor": 0
      },
      "text/plain": [
       "Motif(value=None, state={'data': [{'nodes': [{'create_date': '2019-01-03T00:00:00', 'icon': 'account_balance',…"
      ]
     },
     "metadata": {},
     "output_type": "display_data"
    }
   ],
   "source": [
    "# create initial graph with just json data\n",
    "motif_json_and_csv = Motif(json_path=json_path)\n",
    "\n",
    "# add csv data to it\n",
    "motif_json_and_csv.add_graph(csv_path=csv_path)\n",
    "\n",
    "motif_json_and_csv"
   ]
  },
  {
   "cell_type": "markdown",
   "metadata": {},
   "source": [
    "Hopefully the graphs you combine turn out more meaningful than this!"
   ]
  },
  {
   "cell_type": "markdown",
   "metadata": {},
   "source": [
    "---\n",
    "\n",
    "## 5. Plotting\n",
    "\n",
    "You've already done a lot of this - just know that for now, a graph can be plotted with or without using the `.plot()` method:"
   ]
  },
  {
   "cell_type": "code",
   "execution_count": null,
   "metadata": {},
   "outputs": [],
   "source": [
    "m = Motif()\n",
    "\n",
    "# this\n",
    "m\n",
    "\n",
    "# is the same as this\n",
    "m.plot()"
   ]
  },
  {
   "cell_type": "markdown",
   "metadata": {},
   "source": [
    "---\n",
    "\n",
    "## 6. State\n",
    "\n",
    "To find out the underlying state of a Motif object at a point in time, access the `.state` instance attribute. It will show its graph data (i.e. the nodes and edges) and style:"
   ]
  },
  {
   "cell_type": "code",
   "execution_count": null,
   "metadata": {},
   "outputs": [],
   "source": [
    "# should be empty since nothing was defined above\n",
    "m.state"
   ]
  },
  {
   "cell_type": "markdown",
   "metadata": {},
   "source": [
    "## 7. Export"
   ]
  },
  {
   "cell_type": "markdown",
   "metadata": {},
   "source": [
    "Save widget state to share the notebook or export it to html.\n",
    "\n",
    "For Jupyter Lab: Settings -> Save Widget State Automatically\n",
    "For Jupyter Notebook: Widgets -> Save Notebook Widget State"
   ]
  },
  {
   "cell_type": "markdown",
   "metadata": {},
   "source": [
    "To convert to html:\n",
    "\n",
    "```bash\n",
    "jupyter nbconvert --to html [file].ipynb \n",
    "```"
   ]
  }
 ],
 "metadata": {
  "kernelspec": {
   "display_name": "Python 3",
   "language": "python",
   "name": "python3"
  },
  "language_info": {
   "codemirror_mode": {
    "name": "ipython",
    "version": 3
   },
   "file_extension": ".py",
   "mimetype": "text/x-python",
   "name": "python",
   "nbconvert_exporter": "python",
   "pygments_lexer": "ipython3",
   "version": "3.8.10"
  },
  "widgets": {
   "application/vnd.jupyter.widget-state+json": {
    "state": {
     "24757e6b34e1461c9f2a89c3bae29ff3": {
      "model_module": "@cylynx/pymotif",
      "model_module_version": "^0.0.1",
      "model_name": "MotifModel",
      "state": {
       "_model_module_version": "^0.0.1",
       "_view_module_version": "^0.0.1",
       "layout": "IPY_MODEL_bd810e36efc94568906fd75edc38aca0",
       "state": {
        "data": [
         {
          "edges": [
           {
            "source": "1",
            "target": "2"
           },
           {
            "source": "1",
            "target": "3"
           },
           {
            "source": "1",
            "target": "4"
           },
           {
            "source": "1",
            "target": "5"
           },
           {
            "source": "1",
            "target": "6"
           },
           {
            "source": "1",
            "target": "7"
           },
           {
            "source": "1",
            "target": "8"
           },
           {
            "source": "1",
            "target": "9"
           },
           {
            "source": "1",
            "target": "11"
           },
           {
            "source": "1",
            "target": "12"
           },
           {
            "source": "1",
            "target": "13"
           },
           {
            "source": "1",
            "target": "14"
           },
           {
            "source": "1",
            "target": "18"
           },
           {
            "source": "1",
            "target": "20"
           },
           {
            "source": "1",
            "target": "22"
           },
           {
            "source": "1",
            "target": "32"
           },
           {
            "source": "2",
            "target": "3"
           },
           {
            "source": "2",
            "target": "4"
           },
           {
            "source": "2",
            "target": "8"
           },
           {
            "source": "2",
            "target": "14"
           },
           {
            "source": "2",
            "target": "18"
           },
           {
            "source": "2",
            "target": "20"
           },
           {
            "source": "2",
            "target": "22"
           },
           {
            "source": "2",
            "target": "31"
           },
           {
            "source": "3",
            "target": "4"
           },
           {
            "source": "3",
            "target": "8"
           },
           {
            "source": "3",
            "target": "9"
           },
           {
            "source": "3",
            "target": "10"
           },
           {
            "source": "3",
            "target": "14"
           },
           {
            "source": "3",
            "target": "28"
           },
           {
            "source": "3",
            "target": "29"
           },
           {
            "source": "3",
            "target": "33"
           },
           {
            "source": "4",
            "target": "8"
           },
           {
            "source": "4",
            "target": "13"
           },
           {
            "source": "4",
            "target": "14"
           },
           {
            "source": "5",
            "target": "7"
           },
           {
            "source": "5",
            "target": "11"
           },
           {
            "source": "6",
            "target": "7"
           },
           {
            "source": "6",
            "target": "11"
           },
           {
            "source": "6",
            "target": "17"
           },
           {
            "source": "7",
            "target": "17"
           },
           {
            "source": "9",
            "target": "31"
           },
           {
            "source": "9",
            "target": "33"
           },
           {
            "source": "9",
            "target": "34"
           },
           {
            "source": "10",
            "target": "34"
           },
           {
            "source": "14",
            "target": "34"
           },
           {
            "source": "15",
            "target": "33"
           },
           {
            "source": "15",
            "target": "34"
           },
           {
            "source": "16",
            "target": "33"
           },
           {
            "source": "16",
            "target": "34"
           },
           {
            "source": "19",
            "target": "33"
           },
           {
            "source": "19",
            "target": "34"
           },
           {
            "source": "20",
            "target": "34"
           },
           {
            "source": "21",
            "target": "33"
           },
           {
            "source": "21",
            "target": "34"
           },
           {
            "source": "23",
            "target": "33"
           },
           {
            "source": "23",
            "target": "34"
           },
           {
            "source": "24",
            "target": "26"
           },
           {
            "source": "24",
            "target": "28"
           },
           {
            "source": "24",
            "target": "30"
           },
           {
            "source": "24",
            "target": "33"
           },
           {
            "source": "24",
            "target": "34"
           },
           {
            "source": "25",
            "target": "26"
           },
           {
            "source": "25",
            "target": "28"
           },
           {
            "source": "25",
            "target": "32"
           },
           {
            "source": "26",
            "target": "32"
           },
           {
            "source": "27",
            "target": "30"
           },
           {
            "source": "27",
            "target": "34"
           },
           {
            "source": "28",
            "target": "34"
           },
           {
            "source": "29",
            "target": "32"
           },
           {
            "source": "29",
            "target": "34"
           },
           {
            "source": "30",
            "target": "33"
           },
           {
            "source": "30",
            "target": "34"
           },
           {
            "source": "31",
            "target": "33"
           },
           {
            "source": "31",
            "target": "34"
           },
           {
            "source": "32",
            "target": "33"
           },
           {
            "source": "32",
            "target": "34"
           },
           {
            "source": "33",
            "target": "34"
           }
          ],
          "metadata": {
           "title": "NetworkX"
          },
          "nodes": [
           {
            "id": "1",
            "name": "1",
            "value": "1"
           },
           {
            "id": "2",
            "name": "2",
            "value": "2"
           },
           {
            "id": "3",
            "name": "3",
            "value": "3"
           },
           {
            "id": "4",
            "name": "4",
            "value": "4"
           },
           {
            "id": "5",
            "name": "5",
            "value": "5"
           },
           {
            "id": "6",
            "name": "6",
            "value": "6"
           },
           {
            "id": "7",
            "name": "7",
            "value": "7"
           },
           {
            "id": "8",
            "name": "8",
            "value": "8"
           },
           {
            "id": "9",
            "name": "9",
            "value": "9"
           },
           {
            "id": "10",
            "name": "10",
            "value": "10"
           },
           {
            "id": "11",
            "name": "11",
            "value": "11"
           },
           {
            "id": "12",
            "name": "12",
            "value": "12"
           },
           {
            "id": "13",
            "name": "13",
            "value": "13"
           },
           {
            "id": "14",
            "name": "14",
            "value": "14"
           },
           {
            "id": "15",
            "name": "15",
            "value": "15"
           },
           {
            "id": "16",
            "name": "16",
            "value": "16"
           },
           {
            "id": "17",
            "name": "17",
            "value": "17"
           },
           {
            "id": "18",
            "name": "18",
            "value": "18"
           },
           {
            "id": "19",
            "name": "19",
            "value": "19"
           },
           {
            "id": "20",
            "name": "20",
            "value": "20"
           },
           {
            "id": "21",
            "name": "21",
            "value": "21"
           },
           {
            "id": "22",
            "name": "22",
            "value": "22"
           },
           {
            "id": "23",
            "name": "23",
            "value": "23"
           },
           {
            "id": "24",
            "name": "24",
            "value": "24"
           },
           {
            "id": "25",
            "name": "25",
            "value": "25"
           },
           {
            "id": "26",
            "name": "26",
            "value": "26"
           },
           {
            "id": "27",
            "name": "27",
            "value": "27"
           },
           {
            "id": "28",
            "name": "28",
            "value": "28"
           },
           {
            "id": "29",
            "name": "29",
            "value": "29"
           },
           {
            "id": "30",
            "name": "30",
            "value": "30"
           },
           {
            "id": "31",
            "name": "31",
            "value": "31"
           },
           {
            "id": "32",
            "name": "32",
            "value": "32"
           },
           {
            "id": "33",
            "name": "33",
            "value": "33"
           },
           {
            "id": "34",
            "name": "34",
            "value": "34"
           }
          ]
         }
        ],
        "style": {}
       }
      }
     },
     "3b69a03c428a468aab9b93c3177d7eae": {
      "model_module": "@jupyter-widgets/base",
      "model_module_version": "1.2.0",
      "model_name": "LayoutModel",
      "state": {}
     },
     "515282aa729c499192672589fc6c2cc5": {
      "model_module": "@cylynx/pymotif",
      "model_module_version": "^0.0.1",
      "model_name": "MotifModel",
      "state": {
       "_model_module_version": "^0.0.1",
       "_view_module_version": "^0.0.1",
       "layout": "IPY_MODEL_cd90eaa52af8415bbc279ad0d504eece",
       "state": {
        "data": [
         {
          "edges": [
           {
            "amount": 1000000,
            "balance": 200000,
            "category": "ib_txn",
            "data": {},
            "date": "2020-01-01T00:00:00",
            "defaultStyle": {},
            "id": "ib_txn_1",
            "is_foreign_source": 0,
            "is_foreign_target": 1,
            "is_high_risk_source_target_location": 0,
            "relation": "ib_transfer",
            "source": "account_103",
            "source_owner": "customer_103",
            "target": "account_904",
            "target_owner": "other_banks",
            "time": "00:00:00"
           },
           {
            "amount": 100000,
            "balance": "-",
            "category": "ib_txn",
            "data": {},
            "date": "2020-01-02T01:00:00",
            "defaultStyle": {},
            "id": "ib_txn_2",
            "is_foreign_source": 1,
            "is_foreign_target": 0,
            "is_high_risk_source_target_location": 0,
            "relation": "ib_transfer",
            "source": "account_903",
            "source_owner": "other_banks",
            "target": "account_103",
            "target_owner": "customer_103",
            "time": "01:00:00"
           },
           {
            "amount": 50000,
            "balance": 250000,
            "category": "ib_txn",
            "data": {},
            "date": "2020-01-02T02:00:00",
            "defaultStyle": {},
            "id": "ib_txn_3",
            "is_foreign_source": 0,
            "is_foreign_target": 1,
            "is_high_risk_source_target_location": 0,
            "relation": "ib_transfer",
            "source": "account_103",
            "source_owner": "customer_103",
            "target": "account_904",
            "target_owner": "other_banks",
            "time": "02:00:00"
           },
           {
            "amount": 2000000,
            "balance": "-",
            "category": "ib_txn",
            "data": {},
            "date": "2020-01-01T03:00:00",
            "defaultStyle": {},
            "id": "ib_txn_4",
            "is_foreign_source": 1,
            "is_foreign_target": 0,
            "is_high_risk_source_target_location": 0,
            "relation": "ib_transfer",
            "source": "account_904",
            "source_owner": "other_banks",
            "target": "account_103",
            "target_owner": "customer_103",
            "time": "03:00:00"
           },
           {
            "amount": 1000000,
            "balance": 1250000,
            "category": "ib_txn",
            "data": {},
            "date": "2020-01-02T04:00:00",
            "defaultStyle": {},
            "id": "ib_txn_5",
            "is_foreign_source": 0,
            "is_foreign_target": 1,
            "is_high_risk_source_target_location": 0,
            "relation": "ib_transfer",
            "source": "account_103",
            "source_owner": "customer_103",
            "target": "account_903",
            "target_owner": "other_banks",
            "time": "04:00:00"
           },
           {
            "amount": 1000000,
            "balance": 250000,
            "category": "ib_txn",
            "data": {},
            "date": "2020-01-02T05:00:00",
            "defaultStyle": {},
            "id": "ib_txn_6",
            "is_foreign_source": 0,
            "is_foreign_target": 1,
            "is_high_risk_source_target_location": 0,
            "relation": "ib_transfer",
            "source": "account_103",
            "source_owner": "customer_103",
            "target": "account_903",
            "target_owner": "other_banks",
            "time": "05:00:00"
           },
           {
            "amount": 250000,
            "balance": 10000,
            "category": "ib_txn",
            "data": {},
            "date": "2020-01-01T06:00:00",
            "defaultStyle": {},
            "id": "ib_txn_7",
            "is_foreign_source": 0,
            "is_foreign_target": 0,
            "is_high_risk_source_target_location": 0,
            "relation": "ib_transfer",
            "source": "account_901",
            "source_owner": "customer_901",
            "target": "account_103",
            "target_owner": "customer_103",
            "time": "06:00:00"
           },
           {
            "amount": 250000,
            "balance": 300000,
            "category": "ib_txn",
            "data": {},
            "date": "2020-01-01T06:30:00",
            "defaultStyle": {},
            "id": "ib_txn_8",
            "is_foreign_source": 0,
            "is_foreign_target": 0,
            "is_high_risk_source_target_location": 0,
            "relation": "ib_transfer",
            "source": "account_902",
            "source_owner": "customer_902",
            "target": "account_103",
            "target_owner": "customer_103",
            "time": "06:30:00"
           },
           {
            "amount": 250000,
            "balance": "-",
            "category": "ib_txn",
            "data": {},
            "date": "2020-01-02T06:00:00",
            "defaultStyle": {},
            "id": "ib_txn_9",
            "is_foreign_source": 1,
            "is_foreign_target": 0,
            "is_high_risk_source_target_location": 0,
            "relation": "ib_transfer",
            "source": "account_903",
            "source_owner": "other_banks",
            "target": "account_103",
            "target_owner": "customer_103",
            "time": "06:00:00"
           },
           {
            "amount": 250000,
            "balance": "-",
            "category": "ib_txn",
            "data": {},
            "date": "2020-01-01T00:00:00",
            "defaultStyle": {},
            "id": "ib_txn_10",
            "is_foreign_source": 1,
            "is_foreign_target": 0,
            "is_high_risk_source_target_location": 0,
            "relation": "ib_transfer",
            "source": "account_904",
            "source_owner": "other_banks",
            "target": "account_103",
            "target_owner": "customer_103",
            "time": "00:00:00"
           },
           {
            "amount": 125000,
            "balance": 225000,
            "category": "ib_txn",
            "data": {},
            "date": "2020-01-03T22:00:00",
            "defaultStyle": {},
            "id": "ib_txn_72",
            "is_foreign_source": 0,
            "is_foreign_target": 0,
            "is_high_risk_source_target_location": 0,
            "relation": "ib_transfer",
            "source": "account_7",
            "source_owner": "customer_7",
            "target": "account_103",
            "target_owner": "customer_103",
            "time": "22:00:00"
           },
           {
            "amount": 250000,
            "balance": 475000,
            "category": "ib_txn",
            "data": {},
            "date": "2020-01-03T22:00:00",
            "defaultStyle": {},
            "id": "ib_txn_73",
            "is_foreign_source": 0,
            "is_foreign_target": 0,
            "is_high_risk_source_target_location": 0,
            "relation": "ib_transfer",
            "source": "account_55",
            "source_owner": "customer_55",
            "target": "account_103",
            "target_owner": "customer_103",
            "time": "22:00:00"
           },
           {
            "amount": 150000,
            "balance": 625000,
            "category": "ib_txn",
            "data": {},
            "date": "2020-01-04T18:00:00",
            "defaultStyle": {},
            "id": "ib_txn_74",
            "is_foreign_source": 0,
            "is_foreign_target": 0,
            "is_high_risk_source_target_location": 0,
            "relation": "ib_transfer",
            "source": "account_20",
            "source_owner": "customer_20",
            "target": "account_103",
            "target_owner": "customer_103",
            "time": "18:00:00"
           },
           {
            "amount": 300000,
            "balance": 925000,
            "category": "ib_txn",
            "data": {},
            "date": "2020-01-04T18:00:00",
            "defaultStyle": {},
            "id": "ib_txn_75",
            "is_foreign_source": 0,
            "is_foreign_target": 0,
            "is_high_risk_source_target_location": 0,
            "relation": "ib_transfer",
            "source": "account_81",
            "source_owner": "customer_81",
            "target": "account_103",
            "target_owner": "customer_103",
            "time": "18:00:00"
           },
           {
            "category": "ownership",
            "data": {},
            "defaultStyle": {},
            "id": "ownership_210",
            "relation": "owns",
            "source": "customer_7",
            "target": "account_7"
           },
           {
            "category": "ownership",
            "data": {},
            "defaultStyle": {},
            "id": "ownership_223",
            "relation": "owns",
            "source": "customer_20",
            "target": "account_20"
           },
           {
            "category": "ownership",
            "data": {},
            "defaultStyle": {},
            "id": "ownership_258",
            "relation": "owns",
            "source": "customer_55",
            "target": "account_55"
           },
           {
            "category": "ownership",
            "data": {},
            "defaultStyle": {},
            "id": "ownership_284",
            "relation": "owns",
            "source": "customer_81",
            "target": "account_81"
           },
           {
            "category": "ownership",
            "data": {},
            "defaultStyle": {},
            "id": "ownership_306",
            "relation": "owns",
            "source": "customer_103",
            "target": "account_103"
           },
           {
            "category": "ownership",
            "data": {},
            "defaultStyle": {},
            "id": "ownership_307",
            "relation": "owns",
            "source": "customer_901",
            "target": "account_901"
           },
           {
            "category": "ownership",
            "data": {},
            "defaultStyle": {},
            "id": "ownership_308",
            "relation": "owns",
            "source": "customer_902",
            "target": "account_902"
           },
           {
            "category": "ownership",
            "data": {},
            "defaultStyle": {},
            "id": "ownership_310",
            "relation": "owns",
            "source": "other_banks",
            "target": "account_903"
           },
           {
            "category": "ownership",
            "data": {},
            "defaultStyle": {},
            "id": "ownership_311",
            "relation": "owns",
            "source": "other_banks",
            "target": "account_904"
           }
          ],
          "metadata": {
           "fields": {
            "edges": [
             {
              "analyzerType": "INT",
              "format": "",
              "name": "amount",
              "type": "integer"
             },
             {
              "analyzerType": "STRING",
              "format": "",
              "name": "category",
              "type": "string"
             },
             {
              "analyzerType": "DATETIME",
              "format": "YYYY-M-DTH:m:s",
              "name": "date",
              "type": "timestamp"
             },
             {
              "analyzerType": "STRING",
              "format": "",
              "name": "id",
              "type": "string"
             },
             {
              "analyzerType": "INT",
              "format": "",
              "name": "is_foreign_source",
              "type": "integer"
             },
             {
              "analyzerType": "INT",
              "format": "",
              "name": "is_foreign_target",
              "type": "integer"
             },
             {
              "analyzerType": "INT",
              "format": "",
              "name": "is_high_risk_source_target_location",
              "type": "integer"
             },
             {
              "analyzerType": "STRING",
              "format": "",
              "name": "relation",
              "type": "string"
             },
             {
              "analyzerType": "STRING",
              "format": "",
              "name": "source",
              "type": "string"
             },
             {
              "analyzerType": "STRING",
              "format": "",
              "name": "source_owner",
              "type": "string"
             },
             {
              "analyzerType": "STRING",
              "format": "",
              "name": "target",
              "type": "string"
             },
             {
              "analyzerType": "STRING",
              "format": "",
              "name": "target_owner",
              "type": "string"
             },
             {
              "analyzerType": "TIME",
              "format": "H:m:s",
              "name": "time",
              "type": "time"
             }
            ],
            "nodes": [
             {
              "analyzerType": "DATETIME",
              "format": "YYYY-M-DTH:m:s",
              "name": "create_date",
              "type": "timestamp"
             },
             {
              "analyzerType": "STRING",
              "format": "",
              "name": "icon",
              "type": "string"
             },
             {
              "analyzerType": "STRING",
              "format": "",
              "name": "id",
              "type": "string"
             },
             {
              "analyzerType": "INT",
              "format": "",
              "name": "is_different_bank",
              "type": "integer"
             },
             {
              "analyzerType": "STRING",
              "format": "",
              "name": "address",
              "type": "string"
             },
             {
              "analyzerType": "STRING",
              "format": "",
              "name": "customer_type",
              "type": "string"
             },
             {
              "analyzerType": "STRING",
              "format": "",
              "name": "first_name",
              "type": "string"
             },
             {
              "analyzerType": "STRING",
              "format": "",
              "name": "last_name",
              "type": "string"
             },
             {
              "analyzerType": "STRING",
              "format": "",
              "name": "phone",
              "type": "string"
             },
             {
              "analyzerType": "STRING",
              "format": "",
              "name": "remarks",
              "type": "string"
             },
             {
              "analyzerType": "STRING",
              "format": "",
              "name": "risk_category",
              "type": "string"
             },
             {
              "analyzerType": "INT",
              "format": "",
              "name": "risk_score",
              "type": "integer"
             }
            ]
           },
           "groupEdges": {
            "availability": true,
            "toggle": true
           },
           "key": "K6T5dLXLY",
           "title": "Banking Connections"
          },
          "nodes": [
           {
            "create_date": "2019-01-03T00:00:00",
            "data": {},
            "defaultStyle": {},
            "icon": "account_balance",
            "id": "account_7",
            "is_different_bank": 0
           },
           {
            "create_date": "2019-01-05T00:00:00",
            "data": {},
            "defaultStyle": {},
            "icon": "account_balance",
            "id": "account_20",
            "is_different_bank": 0
           },
           {
            "create_date": "2019-01-07T00:00:00",
            "data": {},
            "defaultStyle": {},
            "icon": "account_balance",
            "id": "account_55",
            "is_different_bank": 0
           },
           {
            "create_date": "2019-01-15T00:00:00",
            "data": {},
            "defaultStyle": {},
            "icon": "account_balance",
            "id": "account_81",
            "is_different_bank": 0
           },
           {
            "create_date": "2019-01-15T00:00:00",
            "data": {},
            "defaultStyle": {},
            "icon": "account_balance",
            "id": "account_103",
            "is_different_bank": 0
           },
           {
            "create_date": "2019-01-03T00:00:00",
            "data": {},
            "defaultStyle": {},
            "icon": "account_balance",
            "id": "account_901",
            "is_different_bank": 0
           },
           {
            "create_date": "2019-01-10T00:00:00",
            "data": {},
            "defaultStyle": {},
            "icon": "account_balance",
            "id": "account_902",
            "is_different_bank": 0
           },
           {
            "create_date": "2019-01-09T00:00:00",
            "data": {},
            "defaultStyle": {},
            "icon": "account_balance",
            "id": "account_903",
            "is_different_bank": 1
           },
           {
            "create_date": "2019-01-08T00:00:00",
            "data": {},
            "defaultStyle": {},
            "icon": "account_balance",
            "id": "account_904",
            "is_different_bank": 1
           },
           {
            "address": "-",
            "customer_type": "retail",
            "data": {},
            "defaultStyle": {},
            "first_name": "-",
            "icon": "account_box",
            "id": "customer_7",
            "last_name": "-",
            "phone": "-",
            "remarks": "high-value IB txn into customer 103's account",
            "risk_category": "medium",
            "risk_score": 50
           },
           {
            "address": "-",
            "customer_type": "retail",
            "data": {},
            "defaultStyle": {},
            "first_name": "-",
            "icon": "account_box",
            "id": "customer_20",
            "last_name": "-",
            "phone": "-",
            "remarks": "high-value IB txn into customer 103's account",
            "risk_category": "medium",
            "risk_score": 50
           },
           {
            "address": "-",
            "customer_type": "retail",
            "data": {},
            "defaultStyle": {},
            "first_name": "-",
            "icon": "account_box",
            "id": "customer_55",
            "last_name": "-",
            "phone": "-",
            "remarks": "high-value IB txn into customer 103's account",
            "risk_category": "medium",
            "risk_score": 50
           },
           {
            "address": "-",
            "customer_type": "retail",
            "data": {},
            "defaultStyle": {},
            "first_name": "-",
            "icon": "account_box",
            "id": "customer_81",
            "last_name": "-",
            "phone": "-",
            "remarks": "high-value IB txn into customer 103's account",
            "risk_category": "medium",
            "risk_score": 50
           },
           {
            "address": "103 RD",
            "customer_type": "retail",
            "data": {},
            "defaultStyle": {},
            "first_name": "john",
            "icon": "account_box",
            "id": "customer_103",
            "last_name": "doe",
            "phone": "+65 0000 0103",
            "remarks": "high-value purchases from luxury retailer. source of funds from 4 related accounts",
            "risk_category": "high",
            "risk_score": 99
           },
           {
            "address": "901 RD",
            "customer_type": "retail",
            "data": {},
            "defaultStyle": {},
            "first_name": "jane",
            "icon": "account_box",
            "id": "customer_901",
            "last_name": "doe",
            "phone": "+65 0000 0103",
            "remarks": "source of funds for customer 103's purchase of luxury items. customer has same phone number as customer 103.",
            "risk_category": "medium",
            "risk_score": 74
           },
           {
            "address": "103 RD",
            "customer_type": "retail",
            "data": {},
            "defaultStyle": {},
            "first_name": "jim",
            "icon": "account_box",
            "id": "customer_902",
            "last_name": "smith",
            "phone": "+65 0000 0902",
            "remarks": "source of funds for customer 103's purchase of luxury items. customer has same address as customer 103.",
            "risk_category": "medium",
            "risk_score": 74
           },
           {
            "address": "-",
            "customer_type": "-",
            "data": {},
            "defaultStyle": {},
            "first_name": "-",
            "icon": "-",
            "id": "other_banks",
            "last_name": "-",
            "phone": "-",
            "remarks": "other banks",
            "risk_category": "-",
            "risk_score": "-"
           }
          ]
         },
         {
          "edges": [
           {
            "amount": "$139.00",
            "category": "credit_card_txn",
            "date": "2020-01-01",
            "id": "credit_card_txn_1",
            "key": 0,
            "pos_id": "pos_1",
            "relation": "pays",
            "source": "credit_card_13",
            "source_owner": "customer_13",
            "target": "other_banks",
            "target_owner": "other_banks",
            "time": "00:00"
           },
           {
            "amount": "$179.00",
            "category": "credit_card_txn",
            "date": "2020-01-01",
            "id": "credit_card_txn_2",
            "key": 0,
            "pos_id": "pos_3",
            "relation": "pays",
            "source": "credit_card_75",
            "source_owner": "customer_75",
            "target": "other_banks",
            "target_owner": "other_banks",
            "time": "00:03"
           },
           {
            "amount": "$183.00",
            "category": "credit_card_txn",
            "date": "2020-01-01",
            "id": "credit_card_txn_19",
            "key": 1,
            "pos_id": "pos_2",
            "relation": "pays",
            "source": "credit_card_75",
            "source_owner": "customer_75",
            "target": "other_banks",
            "target_owner": "other_banks",
            "time": "00:49"
           },
           {
            "amount": "$200.00",
            "category": "credit_card_txn",
            "date": "2020-01-01",
            "id": "credit_card_txn_3",
            "key": 0,
            "pos_id": "pos_1",
            "relation": "pays",
            "source": "credit_card_69",
            "source_owner": "customer_69",
            "target": "other_banks",
            "target_owner": "other_banks",
            "time": "00:05"
           },
           {
            "amount": "$53.00",
            "category": "credit_card_txn",
            "date": "2020-01-01",
            "id": "credit_card_txn_32",
            "key": 1,
            "pos_id": "pos_1",
            "relation": "pays",
            "source": "credit_card_69",
            "source_owner": "customer_69",
            "target": "other_banks",
            "target_owner": "other_banks",
            "time": "01:31"
           },
           {
            "amount": "$109.00",
            "category": "credit_card_txn",
            "date": "2020-01-01",
            "id": "credit_card_txn_4",
            "key": 0,
            "pos_id": "pos_2",
            "relation": "pays",
            "source": "credit_card_38",
            "source_owner": "customer_38",
            "target": "other_banks",
            "target_owner": "other_banks",
            "time": "00:06"
           },
           {
            "amount": "$200.00",
            "category": "credit_card_txn",
            "date": "2020-01-01",
            "id": "credit_card_txn_46",
            "key": 1,
            "pos_id": "pos_3",
            "relation": "pays",
            "source": "credit_card_38",
            "source_owner": "customer_38",
            "target": "other_banks",
            "target_owner": "other_banks",
            "time": "02:27"
           },
           {
            "amount": "$13.00",
            "category": "credit_card_txn",
            "date": "2020-01-01",
            "id": "credit_card_txn_53",
            "key": 2,
            "pos_id": "pos_2",
            "relation": "pays",
            "source": "credit_card_38",
            "source_owner": "customer_38",
            "target": "other_banks",
            "target_owner": "other_banks",
            "time": "02:46"
           },
           {
            "amount": "$164.00",
            "category": "credit_card_txn",
            "date": "2020-01-01",
            "id": "credit_card_txn_5",
            "key": 0,
            "pos_id": "pos_1",
            "relation": "pays",
            "source": "credit_card_94",
            "source_owner": "customer_94",
            "target": "other_banks",
            "target_owner": "other_banks",
            "time": "00:08"
           },
           {
            "amount": "$143.00",
            "category": "credit_card_txn",
            "date": "2020-01-01",
            "id": "credit_card_txn_9",
            "key": 1,
            "pos_id": "pos_3",
            "relation": "pays",
            "source": "credit_card_94",
            "source_owner": "customer_94",
            "target": "other_banks",
            "target_owner": "other_banks",
            "time": "00:20"
           },
           {
            "amount": "$60.00",
            "category": "credit_card_txn",
            "date": "2020-01-01",
            "id": "credit_card_txn_58",
            "key": 2,
            "pos_id": "pos_1",
            "relation": "pays",
            "source": "credit_card_94",
            "source_owner": "customer_94",
            "target": "other_banks",
            "target_owner": "other_banks",
            "time": "12:14"
           },
           {
            "amount": "$150.00",
            "category": "credit_card_txn",
            "date": "2020-01-01",
            "id": "credit_card_txn_6",
            "key": 0,
            "pos_id": "pos_2",
            "relation": "pays",
            "source": "credit_card_95",
            "source_owner": "customer_95",
            "target": "other_banks",
            "target_owner": "other_banks",
            "time": "00:11"
           },
           {
            "amount": "$144.00",
            "category": "credit_card_txn",
            "date": "2020-01-01",
            "id": "credit_card_txn_28",
            "key": 1,
            "pos_id": "pos_1",
            "relation": "pays",
            "source": "credit_card_95",
            "source_owner": "customer_95",
            "target": "other_banks",
            "target_owner": "other_banks",
            "time": "01:15"
           },
           {
            "amount": "$79.00",
            "category": "credit_card_txn",
            "date": "2020-01-01",
            "id": "credit_card_txn_7",
            "key": 0,
            "pos_id": "pos_1",
            "relation": "pays",
            "source": "credit_card_97",
            "source_owner": "customer_97",
            "target": "other_banks",
            "target_owner": "other_banks",
            "time": "00:14"
           },
           {
            "amount": "$27.00",
            "category": "credit_card_txn",
            "date": "2020-01-01",
            "id": "credit_card_txn_38",
            "key": 1,
            "pos_id": "pos_3",
            "relation": "pays",
            "source": "credit_card_97",
            "source_owner": "customer_97",
            "target": "other_banks",
            "target_owner": "other_banks",
            "time": "01:56"
           },
           {
            "amount": "$193.00",
            "category": "credit_card_txn",
            "date": "2020-01-01",
            "id": "credit_card_txn_8",
            "key": 0,
            "pos_id": "pos_2",
            "relation": "pays",
            "source": "credit_card_66",
            "source_owner": "customer_66",
            "target": "other_banks",
            "target_owner": "other_banks",
            "time": "00:18"
           },
           {
            "amount": "$190.00",
            "category": "credit_card_txn",
            "date": "2020-01-01",
            "id": "credit_card_txn_10",
            "key": 0,
            "pos_id": "pos_1",
            "relation": "pays",
            "source": "credit_card_34",
            "source_owner": "customer_34",
            "target": "other_banks",
            "target_owner": "other_banks",
            "time": "00:21"
           },
           {
            "amount": "$138.00",
            "category": "credit_card_txn",
            "date": "2020-01-01",
            "id": "credit_card_txn_11",
            "key": 0,
            "pos_id": "pos_3",
            "relation": "pays",
            "source": "credit_card_20",
            "source_owner": "customer_20",
            "target": "other_banks",
            "target_owner": "other_banks",
            "time": "00:22"
           },
           {
            "amount": "$74.00",
            "category": "credit_card_txn",
            "date": "2020-01-01",
            "id": "credit_card_txn_41",
            "key": 1,
            "pos_id": "pos_2",
            "relation": "pays",
            "source": "credit_card_20",
            "source_owner": "customer_20",
            "target": "other_banks",
            "target_owner": "other_banks",
            "time": "02:08"
           },
           {
            "amount": "$99.00",
            "category": "credit_card_txn",
            "date": "2020-01-01",
            "id": "credit_card_txn_45",
            "key": 2,
            "pos_id": "pos_3",
            "relation": "pays",
            "source": "credit_card_20",
            "source_owner": "customer_20",
            "target": "other_banks",
            "target_owner": "other_banks",
            "time": "02:24"
           },
           {
            "amount": "$83.00",
            "category": "credit_card_txn",
            "date": "2020-01-01",
            "id": "credit_card_txn_12",
            "key": 0,
            "pos_id": "pos_1",
            "relation": "pays",
            "source": "credit_card_36",
            "source_owner": "customer_36",
            "target": "other_banks",
            "target_owner": "other_banks",
            "time": "00:23"
           },
           {
            "amount": "$118.00",
            "category": "credit_card_txn",
            "date": "2020-01-01",
            "id": "credit_card_txn_37",
            "key": 1,
            "pos_id": "pos_3",
            "relation": "pays",
            "source": "credit_card_36",
            "source_owner": "customer_36",
            "target": "other_banks",
            "target_owner": "other_banks",
            "time": "01:51"
           },
           {
            "amount": "$166.00",
            "category": "credit_card_txn",
            "date": "2020-01-01",
            "id": "credit_card_txn_43",
            "key": 2,
            "pos_id": "pos_2",
            "relation": "pays",
            "source": "credit_card_36",
            "source_owner": "customer_36",
            "target": "other_banks",
            "target_owner": "other_banks",
            "time": "02:16"
           },
           {
            "amount": "$29.00",
            "category": "credit_card_txn",
            "date": "2020-01-01",
            "id": "credit_card_txn_13",
            "key": 0,
            "pos_id": "pos_3",
            "relation": "pays",
            "source": "credit_card_91",
            "source_owner": "customer_91",
            "target": "other_banks",
            "target_owner": "other_banks",
            "time": "00:28"
           },
           {
            "amount": "$184.00",
            "category": "credit_card_txn",
            "date": "2020-01-01",
            "id": "credit_card_txn_14",
            "key": 0,
            "pos_id": "pos_2",
            "relation": "pays",
            "source": "credit_card_5",
            "source_owner": "customer_3",
            "target": "other_banks",
            "target_owner": "other_banks",
            "time": "00:31"
           },
           {
            "amount": "$138.00",
            "category": "credit_card_txn",
            "date": "2020-01-01",
            "id": "credit_card_txn_15",
            "key": 0,
            "pos_id": "pos_1",
            "relation": "pays",
            "source": "credit_card_4",
            "source_owner": "customer_3",
            "target": "other_banks",
            "target_owner": "other_banks",
            "time": "00:32"
           },
           {
            "amount": "$24.00",
            "category": "credit_card_txn",
            "date": "2020-01-01",
            "id": "credit_card_txn_16",
            "key": 1,
            "pos_id": "pos_1",
            "relation": "pays",
            "source": "credit_card_4",
            "source_owner": "customer_3",
            "target": "other_banks",
            "target_owner": "other_banks",
            "time": "00:34"
           },
           {
            "amount": "$128.00",
            "category": "credit_card_txn",
            "date": "2020-01-01",
            "id": "credit_card_txn_17",
            "key": 0,
            "pos_id": "pos_3",
            "relation": "pays",
            "source": "credit_card_71",
            "source_owner": "customer_71",
            "target": "other_banks",
            "target_owner": "other_banks",
            "time": "00:40"
           },
           {
            "amount": "$23.00",
            "category": "credit_card_txn",
            "date": "2020-01-01",
            "id": "credit_card_txn_51",
            "key": 1,
            "pos_id": "pos_3",
            "relation": "pays",
            "source": "credit_card_71",
            "source_owner": "customer_71",
            "target": "other_banks",
            "target_owner": "other_banks",
            "time": "02:40"
           },
           {
            "amount": "$29.00",
            "category": "credit_card_txn",
            "date": "2020-01-01",
            "id": "credit_card_txn_18",
            "key": 0,
            "pos_id": "pos_1",
            "relation": "pays",
            "source": "credit_card_26",
            "source_owner": "customer_26",
            "target": "other_banks",
            "target_owner": "other_banks",
            "time": "00:44"
           },
           {
            "amount": "$188.00",
            "category": "credit_card_txn",
            "date": "2020-01-01",
            "id": "credit_card_txn_34",
            "key": 1,
            "pos_id": "pos_2",
            "relation": "pays",
            "source": "credit_card_26",
            "source_owner": "customer_26",
            "target": "other_banks",
            "target_owner": "other_banks",
            "time": "01:40"
           },
           {
            "amount": "$56.00",
            "category": "credit_card_txn",
            "date": "2020-01-01",
            "id": "credit_card_txn_69",
            "key": 2,
            "pos_id": "pos_3",
            "relation": "pays",
            "source": "credit_card_26",
            "source_owner": "customer_26",
            "target": "other_banks",
            "target_owner": "other_banks",
            "time": "15:03"
           },
           {
            "amount": "$20.00",
            "category": "credit_card_txn",
            "date": "2020-01-01",
            "id": "credit_card_txn_20",
            "key": 0,
            "pos_id": "pos_2",
            "relation": "pays",
            "source": "credit_card_16",
            "source_owner": "customer_16",
            "target": "other_banks",
            "target_owner": "other_banks",
            "time": "00:50"
           },
           {
            "amount": "$182.00",
            "category": "credit_card_txn",
            "date": "2020-01-01",
            "id": "credit_card_txn_21",
            "key": 1,
            "pos_id": "pos_3",
            "relation": "pays",
            "source": "credit_card_16",
            "source_owner": "customer_16",
            "target": "other_banks",
            "target_owner": "other_banks",
            "time": "00:54"
           },
           {
            "amount": "$197.00",
            "category": "credit_card_txn",
            "date": "2020-01-01",
            "id": "credit_card_txn_22",
            "key": 0,
            "pos_id": "pos_2",
            "relation": "pays",
            "source": "credit_card_55",
            "source_owner": "customer_55",
            "target": "other_banks",
            "target_owner": "other_banks",
            "time": "00:58"
           },
           {
            "amount": "$45.00",
            "category": "credit_card_txn",
            "date": "2020-01-01",
            "id": "credit_card_txn_23",
            "key": 0,
            "pos_id": "pos_3",
            "relation": "pays",
            "source": "credit_card_3",
            "source_owner": "customer_2",
            "target": "other_banks",
            "target_owner": "other_banks",
            "time": "01:00"
           },
           {
            "amount": "$77.00",
            "category": "credit_card_txn",
            "date": "2020-01-01",
            "id": "credit_card_txn_33",
            "key": 1,
            "pos_id": "pos_2",
            "relation": "pays",
            "source": "credit_card_3",
            "source_owner": "customer_2",
            "target": "other_banks",
            "target_owner": "other_banks",
            "time": "01:35"
           },
           {
            "amount": "$32.00",
            "category": "credit_card_txn",
            "date": "2020-01-01",
            "id": "credit_card_txn_39",
            "key": 2,
            "pos_id": "pos_2",
            "relation": "pays",
            "source": "credit_card_3",
            "source_owner": "customer_2",
            "target": "other_banks",
            "target_owner": "other_banks",
            "time": "02:00"
           },
           {
            "amount": "$138.00",
            "category": "credit_card_txn",
            "date": "2020-01-01",
            "id": "credit_card_txn_40",
            "key": 3,
            "pos_id": "pos_3",
            "relation": "pays",
            "source": "credit_card_3",
            "source_owner": "customer_2",
            "target": "other_banks",
            "target_owner": "other_banks",
            "time": "02:03"
           },
           {
            "amount": "$108.00",
            "category": "credit_card_txn",
            "date": "2020-01-01",
            "id": "credit_card_txn_24",
            "key": 0,
            "pos_id": "pos_1",
            "relation": "pays",
            "source": "credit_card_6",
            "source_owner": "customer_3",
            "target": "other_banks",
            "target_owner": "other_banks",
            "time": "01:05"
           },
           {
            "amount": "$25.00",
            "category": "credit_card_txn",
            "date": "2020-01-01",
            "id": "credit_card_txn_25",
            "key": 0,
            "pos_id": "pos_2",
            "relation": "pays",
            "source": "credit_card_1",
            "source_owner": "customer_1",
            "target": "other_banks",
            "target_owner": "other_banks",
            "time": "01:06"
           },
           {
            "amount": "$16.00",
            "category": "credit_card_txn",
            "date": "2020-01-01",
            "id": "credit_card_txn_54",
            "key": 1,
            "pos_id": "pos_3",
            "relation": "pays",
            "source": "credit_card_1",
            "source_owner": "customer_1",
            "target": "other_banks",
            "target_owner": "other_banks",
            "time": "12:00"
           },
           {
            "amount": "$133.00",
            "category": "credit_card_txn",
            "date": "2020-01-01",
            "id": "credit_card_txn_26",
            "key": 0,
            "pos_id": "pos_3",
            "relation": "pays",
            "source": "credit_card_25",
            "source_owner": "customer_25",
            "target": "other_banks",
            "target_owner": "other_banks",
            "time": "01:07"
           },
           {
            "amount": "$27.00",
            "category": "credit_card_txn",
            "date": "2020-01-01",
            "id": "credit_card_txn_27",
            "key": 0,
            "pos_id": "pos_3",
            "relation": "pays",
            "source": "credit_card_93",
            "source_owner": "customer_93",
            "target": "other_banks",
            "target_owner": "other_banks",
            "time": "01:11"
           },
           {
            "amount": "$106.00",
            "category": "credit_card_txn",
            "date": "2020-01-01",
            "id": "credit_card_txn_29",
            "key": 0,
            "pos_id": "pos_3",
            "relation": "pays",
            "source": "credit_card_2",
            "source_owner": "customer_2",
            "target": "other_banks",
            "target_owner": "other_banks",
            "time": "01:20"
           },
           {
            "amount": "$132.00",
            "category": "credit_card_txn",
            "date": "2020-01-01",
            "id": "credit_card_txn_44",
            "key": 1,
            "pos_id": "pos_1",
            "relation": "pays",
            "source": "credit_card_2",
            "source_owner": "customer_2",
            "target": "other_banks",
            "target_owner": "other_banks",
            "time": "02:20"
           },
           {
            "amount": "$43.00",
            "category": "credit_card_txn",
            "date": "2020-01-01",
            "id": "credit_card_txn_30",
            "key": 0,
            "pos_id": "pos_3",
            "relation": "pays",
            "source": "credit_card_43",
            "source_owner": "customer_43",
            "target": "other_banks",
            "target_owner": "other_banks",
            "time": "01:22"
           },
           {
            "amount": "$187.00",
            "category": "credit_card_txn",
            "date": "2020-01-01",
            "id": "credit_card_txn_31",
            "key": 0,
            "pos_id": "pos_1",
            "relation": "pays",
            "source": "credit_card_12",
            "source_owner": "customer_12",
            "target": "other_banks",
            "target_owner": "other_banks",
            "time": "01:27"
           },
           {
            "amount": "$154.00",
            "category": "credit_card_txn",
            "date": "2020-01-01",
            "id": "credit_card_txn_35",
            "key": 0,
            "pos_id": "pos_2",
            "relation": "pays",
            "source": "credit_card_100",
            "source_owner": "customer_100",
            "target": "other_banks",
            "target_owner": "other_banks",
            "time": "01:44"
           },
           {
            "amount": "$128.00",
            "category": "credit_card_txn",
            "date": "2020-01-01",
            "id": "credit_card_txn_36",
            "key": 0,
            "pos_id": "pos_1",
            "relation": "pays",
            "source": "credit_card_48",
            "source_owner": "customer_48",
            "target": "other_banks",
            "target_owner": "other_banks",
            "time": "01:46"
           },
           {
            "amount": "$56.00",
            "category": "credit_card_txn",
            "date": "2020-01-01",
            "id": "credit_card_txn_42",
            "key": 0,
            "pos_id": "pos_2",
            "relation": "pays",
            "source": "credit_card_86",
            "source_owner": "customer_86",
            "target": "other_banks",
            "target_owner": "other_banks",
            "time": "02:13"
           },
           {
            "amount": "$11.00",
            "category": "credit_card_txn",
            "date": "2020-01-01",
            "id": "credit_card_txn_47",
            "key": 0,
            "pos_id": "pos_3",
            "relation": "pays",
            "source": "credit_card_22",
            "source_owner": "customer_22",
            "target": "other_banks",
            "target_owner": "other_banks",
            "time": "02:28"
           },
           {
            "amount": "$151.00",
            "category": "credit_card_txn",
            "date": "2020-01-01",
            "id": "credit_card_txn_48",
            "key": 0,
            "pos_id": "pos_3",
            "relation": "pays",
            "source": "credit_card_57",
            "source_owner": "customer_57",
            "target": "other_banks",
            "target_owner": "other_banks",
            "time": "02:30"
           },
           {
            "amount": "$93.00",
            "category": "credit_card_txn",
            "date": "2020-01-01",
            "id": "credit_card_txn_50",
            "key": 1,
            "pos_id": "pos_2",
            "relation": "pays",
            "source": "credit_card_57",
            "source_owner": "customer_57",
            "target": "other_banks",
            "target_owner": "other_banks",
            "time": "02:38"
           },
           {
            "amount": "$183.00",
            "category": "credit_card_txn",
            "date": "2020-01-01",
            "id": "credit_card_txn_49",
            "key": 0,
            "pos_id": "pos_3",
            "relation": "pays",
            "source": "credit_card_50",
            "source_owner": "customer_50",
            "target": "other_banks",
            "target_owner": "other_banks",
            "time": "02:33"
           },
           {
            "amount": "$170.00",
            "category": "credit_card_txn",
            "date": "2020-01-01",
            "id": "credit_card_txn_52",
            "key": 0,
            "pos_id": "pos_3",
            "relation": "pays",
            "source": "credit_card_31",
            "source_owner": "customer_31",
            "target": "other_banks",
            "target_owner": "other_banks",
            "time": "02:43"
           },
           {
            "amount": "$18.00",
            "category": "credit_card_txn",
            "date": "2020-01-01",
            "id": "credit_card_txn_55",
            "key": 0,
            "pos_id": "pos_1",
            "relation": "pays",
            "source": "credit_card_61",
            "source_owner": "customer_61",
            "target": "other_banks",
            "target_owner": "other_banks",
            "time": "12:00"
           },
           {
            "amount": "$31.00",
            "category": "credit_card_txn",
            "date": "2020-01-01",
            "id": "credit_card_txn_56",
            "key": 0,
            "pos_id": "pos_3",
            "relation": "pays",
            "source": "credit_card_58",
            "source_owner": "customer_58",
            "target": "other_banks",
            "target_owner": "other_banks",
            "time": "12:04"
           },
           {
            "amount": "$124.00",
            "category": "credit_card_txn",
            "date": "2020-01-01",
            "id": "credit_card_txn_75",
            "key": 1,
            "pos_id": "pos_1",
            "relation": "pays",
            "source": "credit_card_58",
            "source_owner": "customer_58",
            "target": "other_banks",
            "target_owner": "other_banks",
            "time": "15:26"
           },
           {
            "amount": "$94.00",
            "category": "credit_card_txn",
            "date": "2020-01-01",
            "id": "credit_card_txn_57",
            "key": 0,
            "pos_id": "pos_1",
            "relation": "pays",
            "source": "credit_card_78",
            "source_owner": "customer_78",
            "target": "other_banks",
            "target_owner": "other_banks",
            "time": "12:09"
           },
           {
            "amount": "$50,000.00",
            "category": "credit_card_txn",
            "date": "2020-01-01",
            "id": "credit_card_txn_59",
            "key": 0,
            "pos_id": "pos_101",
            "relation": "pays",
            "source": "credit_card_102",
            "source_owner": "customer_102",
            "target": "account_101",
            "target_owner": "customer_101",
            "time": "12:15"
           },
           {
            "amount": "$50,000.00",
            "category": "credit_card_txn",
            "date": "2020-01-01",
            "id": "credit_card_txn_60",
            "key": 1,
            "pos_id": "pos_101",
            "relation": "pays",
            "source": "credit_card_102",
            "source_owner": "customer_102",
            "target": "account_101",
            "target_owner": "customer_101",
            "time": "12:16"
           },
           {
            "amount": "$50,000.00",
            "category": "credit_card_txn",
            "date": "2020-01-01",
            "id": "credit_card_txn_61",
            "key": 2,
            "pos_id": "pos_101",
            "relation": "pays",
            "source": "credit_card_102",
            "source_owner": "customer_102",
            "target": "account_101",
            "target_owner": "customer_101",
            "time": "12:17"
           },
           {
            "amount": "$50,000.00",
            "category": "credit_card_txn",
            "date": "2020-01-01",
            "id": "credit_card_txn_62",
            "key": 3,
            "pos_id": "pos_101",
            "relation": "pays",
            "source": "credit_card_102",
            "source_owner": "customer_102",
            "target": "account_101",
            "target_owner": "customer_101",
            "time": "12:18"
           },
           {
            "amount": "$50,000.00",
            "category": "credit_card_txn",
            "date": "2020-01-01",
            "id": "credit_card_txn_63",
            "key": 4,
            "pos_id": "pos_101",
            "relation": "pays",
            "source": "credit_card_102",
            "source_owner": "customer_102",
            "target": "account_101",
            "target_owner": "customer_101",
            "time": "12:19"
           },
           {
            "amount": "$50,000.00",
            "category": "credit_card_txn",
            "date": "2020-01-01",
            "id": "credit_card_txn_64",
            "key": 5,
            "pos_id": "pos_101",
            "relation": "pays",
            "source": "credit_card_102",
            "source_owner": "customer_102",
            "target": "account_101",
            "target_owner": "customer_101",
            "time": "12:20"
           },
           {
            "amount": "$50,000.00",
            "category": "credit_card_txn",
            "date": "2020-01-01",
            "id": "credit_card_txn_65",
            "key": 6,
            "pos_id": "pos_101",
            "relation": "pays",
            "source": "credit_card_102",
            "source_owner": "customer_102",
            "target": "account_101",
            "target_owner": "customer_101",
            "time": "12:21"
           },
           {
            "amount": "$50,000.00",
            "category": "credit_card_txn",
            "date": "2020-01-01",
            "id": "credit_card_txn_66",
            "key": 7,
            "pos_id": "pos_101",
            "relation": "pays",
            "source": "credit_card_102",
            "source_owner": "customer_102",
            "target": "account_101",
            "target_owner": "customer_101",
            "time": "12:22"
           },
           {
            "amount": "$50,000.00",
            "category": "credit_card_txn",
            "date": "2020-01-01",
            "id": "credit_card_txn_67",
            "key": 8,
            "pos_id": "pos_101",
            "relation": "pays",
            "source": "credit_card_102",
            "source_owner": "customer_102",
            "target": "account_101",
            "target_owner": "customer_101",
            "time": "12:23"
           },
           {
            "amount": "$50,000.00",
            "category": "credit_card_txn",
            "date": "2020-01-01",
            "id": "credit_card_txn_68",
            "key": 9,
            "pos_id": "pos_101",
            "relation": "pays",
            "source": "credit_card_102",
            "source_owner": "customer_102",
            "target": "account_101",
            "target_owner": "customer_101",
            "time": "12:24"
           },
           {
            "amount": "$153.00",
            "category": "credit_card_txn",
            "date": "2020-01-01",
            "id": "credit_card_txn_70",
            "key": 0,
            "pos_id": "pos_3",
            "relation": "pays",
            "source": "credit_card_88",
            "source_owner": "customer_88",
            "target": "other_banks",
            "target_owner": "other_banks",
            "time": "15:08"
           },
           {
            "amount": "$42.00",
            "category": "credit_card_txn",
            "date": "2020-01-01",
            "id": "credit_card_txn_71",
            "key": 0,
            "pos_id": "pos_1",
            "relation": "pays",
            "source": "credit_card_63",
            "source_owner": "customer_63",
            "target": "other_banks",
            "target_owner": "other_banks",
            "time": "15:14"
           },
           {
            "amount": "$139.00",
            "category": "credit_card_txn",
            "date": "2020-01-01",
            "id": "credit_card_txn_72",
            "key": 0,
            "pos_id": "pos_3",
            "relation": "pays",
            "source": "credit_card_70",
            "source_owner": "customer_70",
            "target": "other_banks",
            "target_owner": "other_banks",
            "time": "15:17"
           },
           {
            "amount": "$52.00",
            "category": "credit_card_txn",
            "date": "2020-01-01",
            "id": "credit_card_txn_73",
            "key": 0,
            "pos_id": "pos_2",
            "relation": "pays",
            "source": "credit_card_30",
            "source_owner": "customer_30",
            "target": "other_banks",
            "target_owner": "other_banks",
            "time": "15:18"
           },
           {
            "amount": "$53.00",
            "category": "credit_card_txn",
            "date": "2020-01-01",
            "id": "credit_card_txn_74",
            "key": 0,
            "pos_id": "pos_1",
            "relation": "pays",
            "source": "credit_card_27",
            "source_owner": "customer_27",
            "target": "other_banks",
            "target_owner": "other_banks",
            "time": "15:21"
           },
           {
            "amount": "$14.00",
            "category": "credit_card_txn",
            "date": "2020-01-01",
            "id": "credit_card_txn_76",
            "key": 0,
            "pos_id": "pos_3",
            "relation": "pays",
            "source": "credit_card_87",
            "source_owner": "customer_87",
            "target": "other_banks",
            "target_owner": "other_banks",
            "time": "15:27"
           },
           {
            "amount": "$13.00",
            "category": "credit_card_txn",
            "date": "2020-01-01",
            "id": "credit_card_txn_77",
            "key": 0,
            "pos_id": "pos_3",
            "relation": "pays",
            "source": "credit_card_84",
            "source_owner": "customer_84",
            "target": "other_banks",
            "target_owner": "other_banks",
            "time": "15:28"
           },
           {
            "amount": "$825,000.00",
            "category": "credit_card_txn",
            "date": "2020-01-01",
            "id": "credit_card_txn_78",
            "key": 0,
            "pos_id": "pos_200",
            "relation": "pays",
            "source": "credit_card_103",
            "source_owner": "customer_103",
            "target": "other_banks",
            "target_owner": "other_banks",
            "time": "16:00"
           }
          ],
          "nodes": [
           {
            "id": "credit_card_13",
            "name": "credit_card_13",
            "value": "credit_card_13"
           },
           {
            "id": "other_banks",
            "name": "other_banks",
            "value": "other_banks"
           },
           {
            "id": "credit_card_75",
            "name": "credit_card_75",
            "value": "credit_card_75"
           },
           {
            "id": "credit_card_69",
            "name": "credit_card_69",
            "value": "credit_card_69"
           },
           {
            "id": "credit_card_38",
            "name": "credit_card_38",
            "value": "credit_card_38"
           },
           {
            "id": "credit_card_94",
            "name": "credit_card_94",
            "value": "credit_card_94"
           },
           {
            "id": "credit_card_95",
            "name": "credit_card_95",
            "value": "credit_card_95"
           },
           {
            "id": "credit_card_97",
            "name": "credit_card_97",
            "value": "credit_card_97"
           },
           {
            "id": "credit_card_66",
            "name": "credit_card_66",
            "value": "credit_card_66"
           },
           {
            "id": "credit_card_34",
            "name": "credit_card_34",
            "value": "credit_card_34"
           },
           {
            "id": "credit_card_20",
            "name": "credit_card_20",
            "value": "credit_card_20"
           },
           {
            "id": "credit_card_36",
            "name": "credit_card_36",
            "value": "credit_card_36"
           },
           {
            "id": "credit_card_91",
            "name": "credit_card_91",
            "value": "credit_card_91"
           },
           {
            "id": "credit_card_5",
            "name": "credit_card_5",
            "value": "credit_card_5"
           },
           {
            "id": "credit_card_4",
            "name": "credit_card_4",
            "value": "credit_card_4"
           },
           {
            "id": "credit_card_71",
            "name": "credit_card_71",
            "value": "credit_card_71"
           },
           {
            "id": "credit_card_26",
            "name": "credit_card_26",
            "value": "credit_card_26"
           },
           {
            "id": "credit_card_16",
            "name": "credit_card_16",
            "value": "credit_card_16"
           },
           {
            "id": "credit_card_55",
            "name": "credit_card_55",
            "value": "credit_card_55"
           },
           {
            "id": "credit_card_3",
            "name": "credit_card_3",
            "value": "credit_card_3"
           },
           {
            "id": "credit_card_6",
            "name": "credit_card_6",
            "value": "credit_card_6"
           },
           {
            "id": "credit_card_1",
            "name": "credit_card_1",
            "value": "credit_card_1"
           },
           {
            "id": "credit_card_25",
            "name": "credit_card_25",
            "value": "credit_card_25"
           },
           {
            "id": "credit_card_93",
            "name": "credit_card_93",
            "value": "credit_card_93"
           },
           {
            "id": "credit_card_2",
            "name": "credit_card_2",
            "value": "credit_card_2"
           },
           {
            "id": "credit_card_43",
            "name": "credit_card_43",
            "value": "credit_card_43"
           },
           {
            "id": "credit_card_12",
            "name": "credit_card_12",
            "value": "credit_card_12"
           },
           {
            "id": "credit_card_100",
            "name": "credit_card_100",
            "value": "credit_card_100"
           },
           {
            "id": "credit_card_48",
            "name": "credit_card_48",
            "value": "credit_card_48"
           },
           {
            "id": "credit_card_86",
            "name": "credit_card_86",
            "value": "credit_card_86"
           },
           {
            "id": "credit_card_22",
            "name": "credit_card_22",
            "value": "credit_card_22"
           },
           {
            "id": "credit_card_57",
            "name": "credit_card_57",
            "value": "credit_card_57"
           },
           {
            "id": "credit_card_50",
            "name": "credit_card_50",
            "value": "credit_card_50"
           },
           {
            "id": "credit_card_31",
            "name": "credit_card_31",
            "value": "credit_card_31"
           },
           {
            "id": "credit_card_61",
            "name": "credit_card_61",
            "value": "credit_card_61"
           },
           {
            "id": "credit_card_58",
            "name": "credit_card_58",
            "value": "credit_card_58"
           },
           {
            "id": "credit_card_78",
            "name": "credit_card_78",
            "value": "credit_card_78"
           },
           {
            "id": "credit_card_102",
            "name": "credit_card_102",
            "value": "credit_card_102"
           },
           {
            "id": "account_101",
            "name": "account_101",
            "value": "account_101"
           },
           {
            "id": "credit_card_88",
            "name": "credit_card_88",
            "value": "credit_card_88"
           },
           {
            "id": "credit_card_63",
            "name": "credit_card_63",
            "value": "credit_card_63"
           },
           {
            "id": "credit_card_70",
            "name": "credit_card_70",
            "value": "credit_card_70"
           },
           {
            "id": "credit_card_30",
            "name": "credit_card_30",
            "value": "credit_card_30"
           },
           {
            "id": "credit_card_27",
            "name": "credit_card_27",
            "value": "credit_card_27"
           },
           {
            "id": "credit_card_87",
            "name": "credit_card_87",
            "value": "credit_card_87"
           },
           {
            "id": "credit_card_84",
            "name": "credit_card_84",
            "value": "credit_card_84"
           },
           {
            "id": "credit_card_103",
            "name": "credit_card_103",
            "value": "credit_card_103"
           }
          ]
         }
        ],
        "style": {}
       }
      }
     },
     "7cb8118520924d6db7a8d2937f638cc4": {
      "model_module": "@cylynx/pymotif",
      "model_module_version": "^0.0.1",
      "model_name": "MotifModel",
      "state": {
       "_model_module_version": "^0.0.1",
       "_view_module_version": "^0.0.1",
       "layout": "IPY_MODEL_e1e8a9af12a7437b8621827220201498",
       "state": {
        "data": [
         {
          "edges": [
           {
            "amount": 1000000,
            "balance": 200000,
            "category": "ib_txn",
            "data": {},
            "date": "2020-01-01T00:00:00",
            "defaultStyle": {},
            "id": "ib_txn_1",
            "is_foreign_source": 0,
            "is_foreign_target": 1,
            "is_high_risk_source_target_location": 0,
            "relation": "ib_transfer",
            "source": "account_103",
            "source_owner": "customer_103",
            "target": "account_904",
            "target_owner": "other_banks",
            "time": "00:00:00"
           },
           {
            "amount": 100000,
            "balance": "-",
            "category": "ib_txn",
            "data": {},
            "date": "2020-01-02T01:00:00",
            "defaultStyle": {},
            "id": "ib_txn_2",
            "is_foreign_source": 1,
            "is_foreign_target": 0,
            "is_high_risk_source_target_location": 0,
            "relation": "ib_transfer",
            "source": "account_903",
            "source_owner": "other_banks",
            "target": "account_103",
            "target_owner": "customer_103",
            "time": "01:00:00"
           },
           {
            "amount": 50000,
            "balance": 250000,
            "category": "ib_txn",
            "data": {},
            "date": "2020-01-02T02:00:00",
            "defaultStyle": {},
            "id": "ib_txn_3",
            "is_foreign_source": 0,
            "is_foreign_target": 1,
            "is_high_risk_source_target_location": 0,
            "relation": "ib_transfer",
            "source": "account_103",
            "source_owner": "customer_103",
            "target": "account_904",
            "target_owner": "other_banks",
            "time": "02:00:00"
           },
           {
            "amount": 2000000,
            "balance": "-",
            "category": "ib_txn",
            "data": {},
            "date": "2020-01-01T03:00:00",
            "defaultStyle": {},
            "id": "ib_txn_4",
            "is_foreign_source": 1,
            "is_foreign_target": 0,
            "is_high_risk_source_target_location": 0,
            "relation": "ib_transfer",
            "source": "account_904",
            "source_owner": "other_banks",
            "target": "account_103",
            "target_owner": "customer_103",
            "time": "03:00:00"
           },
           {
            "amount": 1000000,
            "balance": 1250000,
            "category": "ib_txn",
            "data": {},
            "date": "2020-01-02T04:00:00",
            "defaultStyle": {},
            "id": "ib_txn_5",
            "is_foreign_source": 0,
            "is_foreign_target": 1,
            "is_high_risk_source_target_location": 0,
            "relation": "ib_transfer",
            "source": "account_103",
            "source_owner": "customer_103",
            "target": "account_903",
            "target_owner": "other_banks",
            "time": "04:00:00"
           },
           {
            "amount": 1000000,
            "balance": 250000,
            "category": "ib_txn",
            "data": {},
            "date": "2020-01-02T05:00:00",
            "defaultStyle": {},
            "id": "ib_txn_6",
            "is_foreign_source": 0,
            "is_foreign_target": 1,
            "is_high_risk_source_target_location": 0,
            "relation": "ib_transfer",
            "source": "account_103",
            "source_owner": "customer_103",
            "target": "account_903",
            "target_owner": "other_banks",
            "time": "05:00:00"
           },
           {
            "amount": 250000,
            "balance": 10000,
            "category": "ib_txn",
            "data": {},
            "date": "2020-01-01T06:00:00",
            "defaultStyle": {},
            "id": "ib_txn_7",
            "is_foreign_source": 0,
            "is_foreign_target": 0,
            "is_high_risk_source_target_location": 0,
            "relation": "ib_transfer",
            "source": "account_901",
            "source_owner": "customer_901",
            "target": "account_103",
            "target_owner": "customer_103",
            "time": "06:00:00"
           },
           {
            "amount": 250000,
            "balance": 300000,
            "category": "ib_txn",
            "data": {},
            "date": "2020-01-01T06:30:00",
            "defaultStyle": {},
            "id": "ib_txn_8",
            "is_foreign_source": 0,
            "is_foreign_target": 0,
            "is_high_risk_source_target_location": 0,
            "relation": "ib_transfer",
            "source": "account_902",
            "source_owner": "customer_902",
            "target": "account_103",
            "target_owner": "customer_103",
            "time": "06:30:00"
           },
           {
            "amount": 250000,
            "balance": "-",
            "category": "ib_txn",
            "data": {},
            "date": "2020-01-02T06:00:00",
            "defaultStyle": {},
            "id": "ib_txn_9",
            "is_foreign_source": 1,
            "is_foreign_target": 0,
            "is_high_risk_source_target_location": 0,
            "relation": "ib_transfer",
            "source": "account_903",
            "source_owner": "other_banks",
            "target": "account_103",
            "target_owner": "customer_103",
            "time": "06:00:00"
           },
           {
            "amount": 250000,
            "balance": "-",
            "category": "ib_txn",
            "data": {},
            "date": "2020-01-01T00:00:00",
            "defaultStyle": {},
            "id": "ib_txn_10",
            "is_foreign_source": 1,
            "is_foreign_target": 0,
            "is_high_risk_source_target_location": 0,
            "relation": "ib_transfer",
            "source": "account_904",
            "source_owner": "other_banks",
            "target": "account_103",
            "target_owner": "customer_103",
            "time": "00:00:00"
           },
           {
            "amount": 125000,
            "balance": 225000,
            "category": "ib_txn",
            "data": {},
            "date": "2020-01-03T22:00:00",
            "defaultStyle": {},
            "id": "ib_txn_72",
            "is_foreign_source": 0,
            "is_foreign_target": 0,
            "is_high_risk_source_target_location": 0,
            "relation": "ib_transfer",
            "source": "account_7",
            "source_owner": "customer_7",
            "target": "account_103",
            "target_owner": "customer_103",
            "time": "22:00:00"
           },
           {
            "amount": 250000,
            "balance": 475000,
            "category": "ib_txn",
            "data": {},
            "date": "2020-01-03T22:00:00",
            "defaultStyle": {},
            "id": "ib_txn_73",
            "is_foreign_source": 0,
            "is_foreign_target": 0,
            "is_high_risk_source_target_location": 0,
            "relation": "ib_transfer",
            "source": "account_55",
            "source_owner": "customer_55",
            "target": "account_103",
            "target_owner": "customer_103",
            "time": "22:00:00"
           },
           {
            "amount": 150000,
            "balance": 625000,
            "category": "ib_txn",
            "data": {},
            "date": "2020-01-04T18:00:00",
            "defaultStyle": {},
            "id": "ib_txn_74",
            "is_foreign_source": 0,
            "is_foreign_target": 0,
            "is_high_risk_source_target_location": 0,
            "relation": "ib_transfer",
            "source": "account_20",
            "source_owner": "customer_20",
            "target": "account_103",
            "target_owner": "customer_103",
            "time": "18:00:00"
           },
           {
            "amount": 300000,
            "balance": 925000,
            "category": "ib_txn",
            "data": {},
            "date": "2020-01-04T18:00:00",
            "defaultStyle": {},
            "id": "ib_txn_75",
            "is_foreign_source": 0,
            "is_foreign_target": 0,
            "is_high_risk_source_target_location": 0,
            "relation": "ib_transfer",
            "source": "account_81",
            "source_owner": "customer_81",
            "target": "account_103",
            "target_owner": "customer_103",
            "time": "18:00:00"
           },
           {
            "category": "ownership",
            "data": {},
            "defaultStyle": {},
            "id": "ownership_210",
            "relation": "owns",
            "source": "customer_7",
            "target": "account_7"
           },
           {
            "category": "ownership",
            "data": {},
            "defaultStyle": {},
            "id": "ownership_223",
            "relation": "owns",
            "source": "customer_20",
            "target": "account_20"
           },
           {
            "category": "ownership",
            "data": {},
            "defaultStyle": {},
            "id": "ownership_258",
            "relation": "owns",
            "source": "customer_55",
            "target": "account_55"
           },
           {
            "category": "ownership",
            "data": {},
            "defaultStyle": {},
            "id": "ownership_284",
            "relation": "owns",
            "source": "customer_81",
            "target": "account_81"
           },
           {
            "category": "ownership",
            "data": {},
            "defaultStyle": {},
            "id": "ownership_306",
            "relation": "owns",
            "source": "customer_103",
            "target": "account_103"
           },
           {
            "category": "ownership",
            "data": {},
            "defaultStyle": {},
            "id": "ownership_307",
            "relation": "owns",
            "source": "customer_901",
            "target": "account_901"
           },
           {
            "category": "ownership",
            "data": {},
            "defaultStyle": {},
            "id": "ownership_308",
            "relation": "owns",
            "source": "customer_902",
            "target": "account_902"
           },
           {
            "category": "ownership",
            "data": {},
            "defaultStyle": {},
            "id": "ownership_310",
            "relation": "owns",
            "source": "other_banks",
            "target": "account_903"
           },
           {
            "category": "ownership",
            "data": {},
            "defaultStyle": {},
            "id": "ownership_311",
            "relation": "owns",
            "source": "other_banks",
            "target": "account_904"
           }
          ],
          "metadata": {
           "fields": {
            "edges": [
             {
              "analyzerType": "INT",
              "format": "",
              "name": "amount",
              "type": "integer"
             },
             {
              "analyzerType": "STRING",
              "format": "",
              "name": "category",
              "type": "string"
             },
             {
              "analyzerType": "DATETIME",
              "format": "YYYY-M-DTH:m:s",
              "name": "date",
              "type": "timestamp"
             },
             {
              "analyzerType": "STRING",
              "format": "",
              "name": "id",
              "type": "string"
             },
             {
              "analyzerType": "INT",
              "format": "",
              "name": "is_foreign_source",
              "type": "integer"
             },
             {
              "analyzerType": "INT",
              "format": "",
              "name": "is_foreign_target",
              "type": "integer"
             },
             {
              "analyzerType": "INT",
              "format": "",
              "name": "is_high_risk_source_target_location",
              "type": "integer"
             },
             {
              "analyzerType": "STRING",
              "format": "",
              "name": "relation",
              "type": "string"
             },
             {
              "analyzerType": "STRING",
              "format": "",
              "name": "source",
              "type": "string"
             },
             {
              "analyzerType": "STRING",
              "format": "",
              "name": "source_owner",
              "type": "string"
             },
             {
              "analyzerType": "STRING",
              "format": "",
              "name": "target",
              "type": "string"
             },
             {
              "analyzerType": "STRING",
              "format": "",
              "name": "target_owner",
              "type": "string"
             },
             {
              "analyzerType": "TIME",
              "format": "H:m:s",
              "name": "time",
              "type": "time"
             }
            ],
            "nodes": [
             {
              "analyzerType": "DATETIME",
              "format": "YYYY-M-DTH:m:s",
              "name": "create_date",
              "type": "timestamp"
             },
             {
              "analyzerType": "STRING",
              "format": "",
              "name": "icon",
              "type": "string"
             },
             {
              "analyzerType": "STRING",
              "format": "",
              "name": "id",
              "type": "string"
             },
             {
              "analyzerType": "INT",
              "format": "",
              "name": "is_different_bank",
              "type": "integer"
             },
             {
              "analyzerType": "STRING",
              "format": "",
              "name": "address",
              "type": "string"
             },
             {
              "analyzerType": "STRING",
              "format": "",
              "name": "customer_type",
              "type": "string"
             },
             {
              "analyzerType": "STRING",
              "format": "",
              "name": "first_name",
              "type": "string"
             },
             {
              "analyzerType": "STRING",
              "format": "",
              "name": "last_name",
              "type": "string"
             },
             {
              "analyzerType": "STRING",
              "format": "",
              "name": "phone",
              "type": "string"
             },
             {
              "analyzerType": "STRING",
              "format": "",
              "name": "remarks",
              "type": "string"
             },
             {
              "analyzerType": "STRING",
              "format": "",
              "name": "risk_category",
              "type": "string"
             },
             {
              "analyzerType": "INT",
              "format": "",
              "name": "risk_score",
              "type": "integer"
             }
            ]
           },
           "groupEdges": {
            "availability": true,
            "ids": [
             "group-ib_txn_1",
             "group-ib_txn_5",
             "group-ib_txn_2",
             "group-ib_txn_4"
            ],
            "toggle": true
           },
           "key": "K6T5dLXLY",
           "title": "Banking Connections"
          },
          "nodes": [
           {
            "create_date": "2019-01-03T00:00:00",
            "data": {},
            "defaultStyle": {},
            "icon": "account_balance",
            "id": "account_7",
            "is_different_bank": 0
           },
           {
            "create_date": "2019-01-05T00:00:00",
            "data": {},
            "defaultStyle": {},
            "icon": "account_balance",
            "id": "account_20",
            "is_different_bank": 0
           },
           {
            "create_date": "2019-01-07T00:00:00",
            "data": {},
            "defaultStyle": {},
            "icon": "account_balance",
            "id": "account_55",
            "is_different_bank": 0
           },
           {
            "create_date": "2019-01-15T00:00:00",
            "data": {},
            "defaultStyle": {},
            "icon": "account_balance",
            "id": "account_81",
            "is_different_bank": 0
           },
           {
            "create_date": "2019-01-15T00:00:00",
            "data": {},
            "defaultStyle": {},
            "icon": "account_balance",
            "id": "account_103",
            "is_different_bank": 0
           },
           {
            "create_date": "2019-01-03T00:00:00",
            "data": {},
            "defaultStyle": {},
            "icon": "account_balance",
            "id": "account_901",
            "is_different_bank": 0
           },
           {
            "create_date": "2019-01-10T00:00:00",
            "data": {},
            "defaultStyle": {},
            "icon": "account_balance",
            "id": "account_902",
            "is_different_bank": 0
           },
           {
            "create_date": "2019-01-09T00:00:00",
            "data": {},
            "defaultStyle": {},
            "icon": "account_balance",
            "id": "account_903",
            "is_different_bank": 1
           },
           {
            "create_date": "2019-01-08T00:00:00",
            "data": {},
            "defaultStyle": {},
            "icon": "account_balance",
            "id": "account_904",
            "is_different_bank": 1
           },
           {
            "address": "-",
            "customer_type": "retail",
            "data": {},
            "defaultStyle": {},
            "first_name": "-",
            "icon": "account_box",
            "id": "customer_7",
            "last_name": "-",
            "phone": "-",
            "remarks": "high-value IB txn into customer 103's account",
            "risk_category": "medium",
            "risk_score": 50
           },
           {
            "address": "-",
            "customer_type": "retail",
            "data": {},
            "defaultStyle": {},
            "first_name": "-",
            "icon": "account_box",
            "id": "customer_20",
            "last_name": "-",
            "phone": "-",
            "remarks": "high-value IB txn into customer 103's account",
            "risk_category": "medium",
            "risk_score": 50
           },
           {
            "address": "-",
            "customer_type": "retail",
            "data": {},
            "defaultStyle": {},
            "first_name": "-",
            "icon": "account_box",
            "id": "customer_55",
            "last_name": "-",
            "phone": "-",
            "remarks": "high-value IB txn into customer 103's account",
            "risk_category": "medium",
            "risk_score": 50
           },
           {
            "address": "-",
            "customer_type": "retail",
            "data": {},
            "defaultStyle": {},
            "first_name": "-",
            "icon": "account_box",
            "id": "customer_81",
            "last_name": "-",
            "phone": "-",
            "remarks": "high-value IB txn into customer 103's account",
            "risk_category": "medium",
            "risk_score": 50
           },
           {
            "address": "103 RD",
            "customer_type": "retail",
            "data": {},
            "defaultStyle": {},
            "first_name": "john",
            "icon": "account_box",
            "id": "customer_103",
            "last_name": "doe",
            "phone": "+65 0000 0103",
            "remarks": "high-value purchases from luxury retailer. source of funds from 4 related accounts",
            "risk_category": "high",
            "risk_score": 99
           },
           {
            "address": "901 RD",
            "customer_type": "retail",
            "data": {},
            "defaultStyle": {},
            "first_name": "jane",
            "icon": "account_box",
            "id": "customer_901",
            "last_name": "doe",
            "phone": "+65 0000 0103",
            "remarks": "source of funds for customer 103's purchase of luxury items. customer has same phone number as customer 103.",
            "risk_category": "medium",
            "risk_score": 74
           },
           {
            "address": "103 RD",
            "customer_type": "retail",
            "data": {},
            "defaultStyle": {},
            "first_name": "jim",
            "icon": "account_box",
            "id": "customer_902",
            "last_name": "smith",
            "phone": "+65 0000 0902",
            "remarks": "source of funds for customer 103's purchase of luxury items. customer has same address as customer 103.",
            "risk_category": "medium",
            "risk_score": 74
           },
           {
            "address": "-",
            "customer_type": "-",
            "data": {},
            "defaultStyle": {},
            "first_name": "-",
            "icon": "-",
            "id": "other_banks",
            "last_name": "-",
            "phone": "-",
            "remarks": "other banks",
            "risk_category": "-",
            "risk_score": "-"
           }
          ]
         }
        ],
        "style": {
         "edgeStyle": {
          "label": "none",
          "width": {
           "id": "fixed",
           "value": 1
          }
         },
         "groupEdges": false,
         "layout": {
          "focusNode": "account_7",
          "linkDistance": 200,
          "preventOverlap": true,
          "strictRadial": true,
          "type": "radial",
          "unitRadius": 100,
          "workerEnabled": true
         },
         "nodeStyle": {
          "color": {
           "id": "fixed",
           "value": "#66c2a5"
          },
          "size": {
           "id": "fixed",
           "value": 20
          }
         },
         "resetView": true
        }
       }
      }
     },
     "a9dde6d26a86471d90e965755335f8ae": {
      "model_module": "@cylynx/pymotif",
      "model_module_version": "^0.0.1",
      "model_name": "MotifModel",
      "state": {
       "_model_module_version": "^0.0.1",
       "_view_module_version": "^0.0.1",
       "layout": "IPY_MODEL_3b69a03c428a468aab9b93c3177d7eae",
       "state": {
        "data": [
         {
          "edges": [
           {
            "amount": 1000000,
            "balance": 200000,
            "category": "ib_txn",
            "data": {},
            "date": "2020-01-01T00:00:00",
            "defaultStyle": {},
            "id": "ib_txn_1",
            "is_foreign_source": 0,
            "is_foreign_target": 1,
            "is_high_risk_source_target_location": 0,
            "relation": "ib_transfer",
            "source": "account_103",
            "source_owner": "customer_103",
            "target": "account_904",
            "target_owner": "other_banks",
            "time": "00:00:00"
           },
           {
            "amount": 100000,
            "balance": "-",
            "category": "ib_txn",
            "data": {},
            "date": "2020-01-02T01:00:00",
            "defaultStyle": {},
            "id": "ib_txn_2",
            "is_foreign_source": 1,
            "is_foreign_target": 0,
            "is_high_risk_source_target_location": 0,
            "relation": "ib_transfer",
            "source": "account_903",
            "source_owner": "other_banks",
            "target": "account_103",
            "target_owner": "customer_103",
            "time": "01:00:00"
           },
           {
            "amount": 50000,
            "balance": 250000,
            "category": "ib_txn",
            "data": {},
            "date": "2020-01-02T02:00:00",
            "defaultStyle": {},
            "id": "ib_txn_3",
            "is_foreign_source": 0,
            "is_foreign_target": 1,
            "is_high_risk_source_target_location": 0,
            "relation": "ib_transfer",
            "source": "account_103",
            "source_owner": "customer_103",
            "target": "account_904",
            "target_owner": "other_banks",
            "time": "02:00:00"
           },
           {
            "amount": 2000000,
            "balance": "-",
            "category": "ib_txn",
            "data": {},
            "date": "2020-01-01T03:00:00",
            "defaultStyle": {},
            "id": "ib_txn_4",
            "is_foreign_source": 1,
            "is_foreign_target": 0,
            "is_high_risk_source_target_location": 0,
            "relation": "ib_transfer",
            "source": "account_904",
            "source_owner": "other_banks",
            "target": "account_103",
            "target_owner": "customer_103",
            "time": "03:00:00"
           },
           {
            "amount": 1000000,
            "balance": 1250000,
            "category": "ib_txn",
            "data": {},
            "date": "2020-01-02T04:00:00",
            "defaultStyle": {},
            "id": "ib_txn_5",
            "is_foreign_source": 0,
            "is_foreign_target": 1,
            "is_high_risk_source_target_location": 0,
            "relation": "ib_transfer",
            "source": "account_103",
            "source_owner": "customer_103",
            "target": "account_903",
            "target_owner": "other_banks",
            "time": "04:00:00"
           },
           {
            "amount": 1000000,
            "balance": 250000,
            "category": "ib_txn",
            "data": {},
            "date": "2020-01-02T05:00:00",
            "defaultStyle": {},
            "id": "ib_txn_6",
            "is_foreign_source": 0,
            "is_foreign_target": 1,
            "is_high_risk_source_target_location": 0,
            "relation": "ib_transfer",
            "source": "account_103",
            "source_owner": "customer_103",
            "target": "account_903",
            "target_owner": "other_banks",
            "time": "05:00:00"
           },
           {
            "amount": 250000,
            "balance": 10000,
            "category": "ib_txn",
            "data": {},
            "date": "2020-01-01T06:00:00",
            "defaultStyle": {},
            "id": "ib_txn_7",
            "is_foreign_source": 0,
            "is_foreign_target": 0,
            "is_high_risk_source_target_location": 0,
            "relation": "ib_transfer",
            "source": "account_901",
            "source_owner": "customer_901",
            "target": "account_103",
            "target_owner": "customer_103",
            "time": "06:00:00"
           },
           {
            "amount": 250000,
            "balance": 300000,
            "category": "ib_txn",
            "data": {},
            "date": "2020-01-01T06:30:00",
            "defaultStyle": {},
            "id": "ib_txn_8",
            "is_foreign_source": 0,
            "is_foreign_target": 0,
            "is_high_risk_source_target_location": 0,
            "relation": "ib_transfer",
            "source": "account_902",
            "source_owner": "customer_902",
            "target": "account_103",
            "target_owner": "customer_103",
            "time": "06:30:00"
           },
           {
            "amount": 250000,
            "balance": "-",
            "category": "ib_txn",
            "data": {},
            "date": "2020-01-02T06:00:00",
            "defaultStyle": {},
            "id": "ib_txn_9",
            "is_foreign_source": 1,
            "is_foreign_target": 0,
            "is_high_risk_source_target_location": 0,
            "relation": "ib_transfer",
            "source": "account_903",
            "source_owner": "other_banks",
            "target": "account_103",
            "target_owner": "customer_103",
            "time": "06:00:00"
           },
           {
            "amount": 250000,
            "balance": "-",
            "category": "ib_txn",
            "data": {},
            "date": "2020-01-01T00:00:00",
            "defaultStyle": {},
            "id": "ib_txn_10",
            "is_foreign_source": 1,
            "is_foreign_target": 0,
            "is_high_risk_source_target_location": 0,
            "relation": "ib_transfer",
            "source": "account_904",
            "source_owner": "other_banks",
            "target": "account_103",
            "target_owner": "customer_103",
            "time": "00:00:00"
           },
           {
            "amount": 125000,
            "balance": 225000,
            "category": "ib_txn",
            "data": {},
            "date": "2020-01-03T22:00:00",
            "defaultStyle": {},
            "id": "ib_txn_72",
            "is_foreign_source": 0,
            "is_foreign_target": 0,
            "is_high_risk_source_target_location": 0,
            "relation": "ib_transfer",
            "source": "account_7",
            "source_owner": "customer_7",
            "target": "account_103",
            "target_owner": "customer_103",
            "time": "22:00:00"
           },
           {
            "amount": 250000,
            "balance": 475000,
            "category": "ib_txn",
            "data": {},
            "date": "2020-01-03T22:00:00",
            "defaultStyle": {},
            "id": "ib_txn_73",
            "is_foreign_source": 0,
            "is_foreign_target": 0,
            "is_high_risk_source_target_location": 0,
            "relation": "ib_transfer",
            "source": "account_55",
            "source_owner": "customer_55",
            "target": "account_103",
            "target_owner": "customer_103",
            "time": "22:00:00"
           },
           {
            "amount": 150000,
            "balance": 625000,
            "category": "ib_txn",
            "data": {},
            "date": "2020-01-04T18:00:00",
            "defaultStyle": {},
            "id": "ib_txn_74",
            "is_foreign_source": 0,
            "is_foreign_target": 0,
            "is_high_risk_source_target_location": 0,
            "relation": "ib_transfer",
            "source": "account_20",
            "source_owner": "customer_20",
            "target": "account_103",
            "target_owner": "customer_103",
            "time": "18:00:00"
           },
           {
            "amount": 300000,
            "balance": 925000,
            "category": "ib_txn",
            "data": {},
            "date": "2020-01-04T18:00:00",
            "defaultStyle": {},
            "id": "ib_txn_75",
            "is_foreign_source": 0,
            "is_foreign_target": 0,
            "is_high_risk_source_target_location": 0,
            "relation": "ib_transfer",
            "source": "account_81",
            "source_owner": "customer_81",
            "target": "account_103",
            "target_owner": "customer_103",
            "time": "18:00:00"
           },
           {
            "category": "ownership",
            "data": {},
            "defaultStyle": {},
            "id": "ownership_210",
            "relation": "owns",
            "source": "customer_7",
            "target": "account_7"
           },
           {
            "category": "ownership",
            "data": {},
            "defaultStyle": {},
            "id": "ownership_223",
            "relation": "owns",
            "source": "customer_20",
            "target": "account_20"
           },
           {
            "category": "ownership",
            "data": {},
            "defaultStyle": {},
            "id": "ownership_258",
            "relation": "owns",
            "source": "customer_55",
            "target": "account_55"
           },
           {
            "category": "ownership",
            "data": {},
            "defaultStyle": {},
            "id": "ownership_284",
            "relation": "owns",
            "source": "customer_81",
            "target": "account_81"
           },
           {
            "category": "ownership",
            "data": {},
            "defaultStyle": {},
            "id": "ownership_306",
            "relation": "owns",
            "source": "customer_103",
            "target": "account_103"
           },
           {
            "category": "ownership",
            "data": {},
            "defaultStyle": {},
            "id": "ownership_307",
            "relation": "owns",
            "source": "customer_901",
            "target": "account_901"
           },
           {
            "category": "ownership",
            "data": {},
            "defaultStyle": {},
            "id": "ownership_308",
            "relation": "owns",
            "source": "customer_902",
            "target": "account_902"
           },
           {
            "category": "ownership",
            "data": {},
            "defaultStyle": {},
            "id": "ownership_310",
            "relation": "owns",
            "source": "other_banks",
            "target": "account_903"
           },
           {
            "category": "ownership",
            "data": {},
            "defaultStyle": {},
            "id": "ownership_311",
            "relation": "owns",
            "source": "other_banks",
            "target": "account_904"
           }
          ],
          "metadata": {
           "fields": {
            "edges": [
             {
              "analyzerType": "INT",
              "format": "",
              "name": "amount",
              "type": "integer"
             },
             {
              "analyzerType": "STRING",
              "format": "",
              "name": "category",
              "type": "string"
             },
             {
              "analyzerType": "DATETIME",
              "format": "YYYY-M-DTH:m:s",
              "name": "date",
              "type": "timestamp"
             },
             {
              "analyzerType": "STRING",
              "format": "",
              "name": "id",
              "type": "string"
             },
             {
              "analyzerType": "INT",
              "format": "",
              "name": "is_foreign_source",
              "type": "integer"
             },
             {
              "analyzerType": "INT",
              "format": "",
              "name": "is_foreign_target",
              "type": "integer"
             },
             {
              "analyzerType": "INT",
              "format": "",
              "name": "is_high_risk_source_target_location",
              "type": "integer"
             },
             {
              "analyzerType": "STRING",
              "format": "",
              "name": "relation",
              "type": "string"
             },
             {
              "analyzerType": "STRING",
              "format": "",
              "name": "source",
              "type": "string"
             },
             {
              "analyzerType": "STRING",
              "format": "",
              "name": "source_owner",
              "type": "string"
             },
             {
              "analyzerType": "STRING",
              "format": "",
              "name": "target",
              "type": "string"
             },
             {
              "analyzerType": "STRING",
              "format": "",
              "name": "target_owner",
              "type": "string"
             },
             {
              "analyzerType": "TIME",
              "format": "H:m:s",
              "name": "time",
              "type": "time"
             }
            ],
            "nodes": [
             {
              "analyzerType": "DATETIME",
              "format": "YYYY-M-DTH:m:s",
              "name": "create_date",
              "type": "timestamp"
             },
             {
              "analyzerType": "STRING",
              "format": "",
              "name": "icon",
              "type": "string"
             },
             {
              "analyzerType": "STRING",
              "format": "",
              "name": "id",
              "type": "string"
             },
             {
              "analyzerType": "INT",
              "format": "",
              "name": "is_different_bank",
              "type": "integer"
             },
             {
              "analyzerType": "STRING",
              "format": "",
              "name": "address",
              "type": "string"
             },
             {
              "analyzerType": "STRING",
              "format": "",
              "name": "customer_type",
              "type": "string"
             },
             {
              "analyzerType": "STRING",
              "format": "",
              "name": "first_name",
              "type": "string"
             },
             {
              "analyzerType": "STRING",
              "format": "",
              "name": "last_name",
              "type": "string"
             },
             {
              "analyzerType": "STRING",
              "format": "",
              "name": "phone",
              "type": "string"
             },
             {
              "analyzerType": "STRING",
              "format": "",
              "name": "remarks",
              "type": "string"
             },
             {
              "analyzerType": "STRING",
              "format": "",
              "name": "risk_category",
              "type": "string"
             },
             {
              "analyzerType": "INT",
              "format": "",
              "name": "risk_score",
              "type": "integer"
             }
            ]
           },
           "groupEdges": {
            "availability": true,
            "toggle": true
           },
           "key": "K6T5dLXLY",
           "title": "Banking Connections"
          },
          "nodes": [
           {
            "create_date": "2019-01-03T00:00:00",
            "data": {},
            "defaultStyle": {},
            "icon": "account_balance",
            "id": "account_7",
            "is_different_bank": 0
           },
           {
            "create_date": "2019-01-05T00:00:00",
            "data": {},
            "defaultStyle": {},
            "icon": "account_balance",
            "id": "account_20",
            "is_different_bank": 0
           },
           {
            "create_date": "2019-01-07T00:00:00",
            "data": {},
            "defaultStyle": {},
            "icon": "account_balance",
            "id": "account_55",
            "is_different_bank": 0
           },
           {
            "create_date": "2019-01-15T00:00:00",
            "data": {},
            "defaultStyle": {},
            "icon": "account_balance",
            "id": "account_81",
            "is_different_bank": 0
           },
           {
            "create_date": "2019-01-15T00:00:00",
            "data": {},
            "defaultStyle": {},
            "icon": "account_balance",
            "id": "account_103",
            "is_different_bank": 0
           },
           {
            "create_date": "2019-01-03T00:00:00",
            "data": {},
            "defaultStyle": {},
            "icon": "account_balance",
            "id": "account_901",
            "is_different_bank": 0
           },
           {
            "create_date": "2019-01-10T00:00:00",
            "data": {},
            "defaultStyle": {},
            "icon": "account_balance",
            "id": "account_902",
            "is_different_bank": 0
           },
           {
            "create_date": "2019-01-09T00:00:00",
            "data": {},
            "defaultStyle": {},
            "icon": "account_balance",
            "id": "account_903",
            "is_different_bank": 1
           },
           {
            "create_date": "2019-01-08T00:00:00",
            "data": {},
            "defaultStyle": {},
            "icon": "account_balance",
            "id": "account_904",
            "is_different_bank": 1
           },
           {
            "address": "-",
            "customer_type": "retail",
            "data": {},
            "defaultStyle": {},
            "first_name": "-",
            "icon": "account_box",
            "id": "customer_7",
            "last_name": "-",
            "phone": "-",
            "remarks": "high-value IB txn into customer 103's account",
            "risk_category": "medium",
            "risk_score": 50
           },
           {
            "address": "-",
            "customer_type": "retail",
            "data": {},
            "defaultStyle": {},
            "first_name": "-",
            "icon": "account_box",
            "id": "customer_20",
            "last_name": "-",
            "phone": "-",
            "remarks": "high-value IB txn into customer 103's account",
            "risk_category": "medium",
            "risk_score": 50
           },
           {
            "address": "-",
            "customer_type": "retail",
            "data": {},
            "defaultStyle": {},
            "first_name": "-",
            "icon": "account_box",
            "id": "customer_55",
            "last_name": "-",
            "phone": "-",
            "remarks": "high-value IB txn into customer 103's account",
            "risk_category": "medium",
            "risk_score": 50
           },
           {
            "address": "-",
            "customer_type": "retail",
            "data": {},
            "defaultStyle": {},
            "first_name": "-",
            "icon": "account_box",
            "id": "customer_81",
            "last_name": "-",
            "phone": "-",
            "remarks": "high-value IB txn into customer 103's account",
            "risk_category": "medium",
            "risk_score": 50
           },
           {
            "address": "103 RD",
            "customer_type": "retail",
            "data": {},
            "defaultStyle": {},
            "first_name": "john",
            "icon": "account_box",
            "id": "customer_103",
            "last_name": "doe",
            "phone": "+65 0000 0103",
            "remarks": "high-value purchases from luxury retailer. source of funds from 4 related accounts",
            "risk_category": "high",
            "risk_score": 99
           },
           {
            "address": "901 RD",
            "customer_type": "retail",
            "data": {},
            "defaultStyle": {},
            "first_name": "jane",
            "icon": "account_box",
            "id": "customer_901",
            "last_name": "doe",
            "phone": "+65 0000 0103",
            "remarks": "source of funds for customer 103's purchase of luxury items. customer has same phone number as customer 103.",
            "risk_category": "medium",
            "risk_score": 74
           },
           {
            "address": "103 RD",
            "customer_type": "retail",
            "data": {},
            "defaultStyle": {},
            "first_name": "jim",
            "icon": "account_box",
            "id": "customer_902",
            "last_name": "smith",
            "phone": "+65 0000 0902",
            "remarks": "source of funds for customer 103's purchase of luxury items. customer has same address as customer 103.",
            "risk_category": "medium",
            "risk_score": 74
           },
           {
            "address": "-",
            "customer_type": "-",
            "data": {},
            "defaultStyle": {},
            "first_name": "-",
            "icon": "-",
            "id": "other_banks",
            "last_name": "-",
            "phone": "-",
            "remarks": "other banks",
            "risk_category": "-",
            "risk_score": "-"
           }
          ]
         }
        ],
        "style": {
         "edgeStyle": {
          "label": "none",
          "width": {
           "id": "fixed",
           "value": 1
          }
         },
         "groupEdges": false,
         "layout": {
          "minNodeSpacing": 50,
          "preventOverlap": true,
          "sortBy": "degree",
          "type": "concentric",
          "workerEnabled": true
         },
         "nodeStyle": {
          "color": {
           "id": "fixed",
           "value": "#66c2a5"
          },
          "size": {
           "id": "fixed",
           "value": 20
          }
         },
         "resetView": true
        }
       }
      }
     },
     "bd810e36efc94568906fd75edc38aca0": {
      "model_module": "@jupyter-widgets/base",
      "model_module_version": "1.2.0",
      "model_name": "LayoutModel",
      "state": {}
     },
     "c572a797eeb446109fa6614bb9eb9c17": {
      "model_module": "@jupyter-widgets/base",
      "model_module_version": "1.2.0",
      "model_name": "LayoutModel",
      "state": {}
     },
     "cd90eaa52af8415bbc279ad0d504eece": {
      "model_module": "@jupyter-widgets/base",
      "model_module_version": "1.2.0",
      "model_name": "LayoutModel",
      "state": {}
     },
     "e1e8a9af12a7437b8621827220201498": {
      "model_module": "@jupyter-widgets/base",
      "model_module_version": "1.2.0",
      "model_name": "LayoutModel",
      "state": {}
     },
     "fcd096b48571406e87e5124b5bfbae7d": {
      "model_module": "@cylynx/pymotif",
      "model_module_version": "^0.0.1",
      "model_name": "MotifModel",
      "state": {
       "_model_module_version": "^0.0.1",
       "_view_module_version": "^0.0.1",
       "layout": "IPY_MODEL_c572a797eeb446109fa6614bb9eb9c17",
       "state": {
        "data": [
         {
          "edges": [
           {
            "amount": "$139.00",
            "category": "credit_card_txn",
            "date": "2020-01-01",
            "id": "credit_card_txn_1",
            "key": 0,
            "pos_id": "pos_1",
            "relation": "pays",
            "source": "credit_card_13",
            "source_owner": "customer_13",
            "target": "other_banks",
            "target_owner": "other_banks",
            "time": "00:00"
           },
           {
            "amount": "$179.00",
            "category": "credit_card_txn",
            "date": "2020-01-01",
            "id": "credit_card_txn_2",
            "key": 0,
            "pos_id": "pos_3",
            "relation": "pays",
            "source": "credit_card_75",
            "source_owner": "customer_75",
            "target": "other_banks",
            "target_owner": "other_banks",
            "time": "00:03"
           },
           {
            "amount": "$183.00",
            "category": "credit_card_txn",
            "date": "2020-01-01",
            "id": "credit_card_txn_19",
            "key": 1,
            "pos_id": "pos_2",
            "relation": "pays",
            "source": "credit_card_75",
            "source_owner": "customer_75",
            "target": "other_banks",
            "target_owner": "other_banks",
            "time": "00:49"
           },
           {
            "amount": "$200.00",
            "category": "credit_card_txn",
            "date": "2020-01-01",
            "id": "credit_card_txn_3",
            "key": 0,
            "pos_id": "pos_1",
            "relation": "pays",
            "source": "credit_card_69",
            "source_owner": "customer_69",
            "target": "other_banks",
            "target_owner": "other_banks",
            "time": "00:05"
           },
           {
            "amount": "$53.00",
            "category": "credit_card_txn",
            "date": "2020-01-01",
            "id": "credit_card_txn_32",
            "key": 1,
            "pos_id": "pos_1",
            "relation": "pays",
            "source": "credit_card_69",
            "source_owner": "customer_69",
            "target": "other_banks",
            "target_owner": "other_banks",
            "time": "01:31"
           },
           {
            "amount": "$109.00",
            "category": "credit_card_txn",
            "date": "2020-01-01",
            "id": "credit_card_txn_4",
            "key": 0,
            "pos_id": "pos_2",
            "relation": "pays",
            "source": "credit_card_38",
            "source_owner": "customer_38",
            "target": "other_banks",
            "target_owner": "other_banks",
            "time": "00:06"
           },
           {
            "amount": "$200.00",
            "category": "credit_card_txn",
            "date": "2020-01-01",
            "id": "credit_card_txn_46",
            "key": 1,
            "pos_id": "pos_3",
            "relation": "pays",
            "source": "credit_card_38",
            "source_owner": "customer_38",
            "target": "other_banks",
            "target_owner": "other_banks",
            "time": "02:27"
           },
           {
            "amount": "$13.00",
            "category": "credit_card_txn",
            "date": "2020-01-01",
            "id": "credit_card_txn_53",
            "key": 2,
            "pos_id": "pos_2",
            "relation": "pays",
            "source": "credit_card_38",
            "source_owner": "customer_38",
            "target": "other_banks",
            "target_owner": "other_banks",
            "time": "02:46"
           },
           {
            "amount": "$164.00",
            "category": "credit_card_txn",
            "date": "2020-01-01",
            "id": "credit_card_txn_5",
            "key": 0,
            "pos_id": "pos_1",
            "relation": "pays",
            "source": "credit_card_94",
            "source_owner": "customer_94",
            "target": "other_banks",
            "target_owner": "other_banks",
            "time": "00:08"
           },
           {
            "amount": "$143.00",
            "category": "credit_card_txn",
            "date": "2020-01-01",
            "id": "credit_card_txn_9",
            "key": 1,
            "pos_id": "pos_3",
            "relation": "pays",
            "source": "credit_card_94",
            "source_owner": "customer_94",
            "target": "other_banks",
            "target_owner": "other_banks",
            "time": "00:20"
           },
           {
            "amount": "$60.00",
            "category": "credit_card_txn",
            "date": "2020-01-01",
            "id": "credit_card_txn_58",
            "key": 2,
            "pos_id": "pos_1",
            "relation": "pays",
            "source": "credit_card_94",
            "source_owner": "customer_94",
            "target": "other_banks",
            "target_owner": "other_banks",
            "time": "12:14"
           },
           {
            "amount": "$150.00",
            "category": "credit_card_txn",
            "date": "2020-01-01",
            "id": "credit_card_txn_6",
            "key": 0,
            "pos_id": "pos_2",
            "relation": "pays",
            "source": "credit_card_95",
            "source_owner": "customer_95",
            "target": "other_banks",
            "target_owner": "other_banks",
            "time": "00:11"
           },
           {
            "amount": "$144.00",
            "category": "credit_card_txn",
            "date": "2020-01-01",
            "id": "credit_card_txn_28",
            "key": 1,
            "pos_id": "pos_1",
            "relation": "pays",
            "source": "credit_card_95",
            "source_owner": "customer_95",
            "target": "other_banks",
            "target_owner": "other_banks",
            "time": "01:15"
           },
           {
            "amount": "$79.00",
            "category": "credit_card_txn",
            "date": "2020-01-01",
            "id": "credit_card_txn_7",
            "key": 0,
            "pos_id": "pos_1",
            "relation": "pays",
            "source": "credit_card_97",
            "source_owner": "customer_97",
            "target": "other_banks",
            "target_owner": "other_banks",
            "time": "00:14"
           },
           {
            "amount": "$27.00",
            "category": "credit_card_txn",
            "date": "2020-01-01",
            "id": "credit_card_txn_38",
            "key": 1,
            "pos_id": "pos_3",
            "relation": "pays",
            "source": "credit_card_97",
            "source_owner": "customer_97",
            "target": "other_banks",
            "target_owner": "other_banks",
            "time": "01:56"
           },
           {
            "amount": "$193.00",
            "category": "credit_card_txn",
            "date": "2020-01-01",
            "id": "credit_card_txn_8",
            "key": 0,
            "pos_id": "pos_2",
            "relation": "pays",
            "source": "credit_card_66",
            "source_owner": "customer_66",
            "target": "other_banks",
            "target_owner": "other_banks",
            "time": "00:18"
           },
           {
            "amount": "$190.00",
            "category": "credit_card_txn",
            "date": "2020-01-01",
            "id": "credit_card_txn_10",
            "key": 0,
            "pos_id": "pos_1",
            "relation": "pays",
            "source": "credit_card_34",
            "source_owner": "customer_34",
            "target": "other_banks",
            "target_owner": "other_banks",
            "time": "00:21"
           },
           {
            "amount": "$138.00",
            "category": "credit_card_txn",
            "date": "2020-01-01",
            "id": "credit_card_txn_11",
            "key": 0,
            "pos_id": "pos_3",
            "relation": "pays",
            "source": "credit_card_20",
            "source_owner": "customer_20",
            "target": "other_banks",
            "target_owner": "other_banks",
            "time": "00:22"
           },
           {
            "amount": "$74.00",
            "category": "credit_card_txn",
            "date": "2020-01-01",
            "id": "credit_card_txn_41",
            "key": 1,
            "pos_id": "pos_2",
            "relation": "pays",
            "source": "credit_card_20",
            "source_owner": "customer_20",
            "target": "other_banks",
            "target_owner": "other_banks",
            "time": "02:08"
           },
           {
            "amount": "$99.00",
            "category": "credit_card_txn",
            "date": "2020-01-01",
            "id": "credit_card_txn_45",
            "key": 2,
            "pos_id": "pos_3",
            "relation": "pays",
            "source": "credit_card_20",
            "source_owner": "customer_20",
            "target": "other_banks",
            "target_owner": "other_banks",
            "time": "02:24"
           },
           {
            "amount": "$83.00",
            "category": "credit_card_txn",
            "date": "2020-01-01",
            "id": "credit_card_txn_12",
            "key": 0,
            "pos_id": "pos_1",
            "relation": "pays",
            "source": "credit_card_36",
            "source_owner": "customer_36",
            "target": "other_banks",
            "target_owner": "other_banks",
            "time": "00:23"
           },
           {
            "amount": "$118.00",
            "category": "credit_card_txn",
            "date": "2020-01-01",
            "id": "credit_card_txn_37",
            "key": 1,
            "pos_id": "pos_3",
            "relation": "pays",
            "source": "credit_card_36",
            "source_owner": "customer_36",
            "target": "other_banks",
            "target_owner": "other_banks",
            "time": "01:51"
           },
           {
            "amount": "$166.00",
            "category": "credit_card_txn",
            "date": "2020-01-01",
            "id": "credit_card_txn_43",
            "key": 2,
            "pos_id": "pos_2",
            "relation": "pays",
            "source": "credit_card_36",
            "source_owner": "customer_36",
            "target": "other_banks",
            "target_owner": "other_banks",
            "time": "02:16"
           },
           {
            "amount": "$29.00",
            "category": "credit_card_txn",
            "date": "2020-01-01",
            "id": "credit_card_txn_13",
            "key": 0,
            "pos_id": "pos_3",
            "relation": "pays",
            "source": "credit_card_91",
            "source_owner": "customer_91",
            "target": "other_banks",
            "target_owner": "other_banks",
            "time": "00:28"
           },
           {
            "amount": "$184.00",
            "category": "credit_card_txn",
            "date": "2020-01-01",
            "id": "credit_card_txn_14",
            "key": 0,
            "pos_id": "pos_2",
            "relation": "pays",
            "source": "credit_card_5",
            "source_owner": "customer_3",
            "target": "other_banks",
            "target_owner": "other_banks",
            "time": "00:31"
           },
           {
            "amount": "$138.00",
            "category": "credit_card_txn",
            "date": "2020-01-01",
            "id": "credit_card_txn_15",
            "key": 0,
            "pos_id": "pos_1",
            "relation": "pays",
            "source": "credit_card_4",
            "source_owner": "customer_3",
            "target": "other_banks",
            "target_owner": "other_banks",
            "time": "00:32"
           },
           {
            "amount": "$24.00",
            "category": "credit_card_txn",
            "date": "2020-01-01",
            "id": "credit_card_txn_16",
            "key": 1,
            "pos_id": "pos_1",
            "relation": "pays",
            "source": "credit_card_4",
            "source_owner": "customer_3",
            "target": "other_banks",
            "target_owner": "other_banks",
            "time": "00:34"
           },
           {
            "amount": "$128.00",
            "category": "credit_card_txn",
            "date": "2020-01-01",
            "id": "credit_card_txn_17",
            "key": 0,
            "pos_id": "pos_3",
            "relation": "pays",
            "source": "credit_card_71",
            "source_owner": "customer_71",
            "target": "other_banks",
            "target_owner": "other_banks",
            "time": "00:40"
           },
           {
            "amount": "$23.00",
            "category": "credit_card_txn",
            "date": "2020-01-01",
            "id": "credit_card_txn_51",
            "key": 1,
            "pos_id": "pos_3",
            "relation": "pays",
            "source": "credit_card_71",
            "source_owner": "customer_71",
            "target": "other_banks",
            "target_owner": "other_banks",
            "time": "02:40"
           },
           {
            "amount": "$29.00",
            "category": "credit_card_txn",
            "date": "2020-01-01",
            "id": "credit_card_txn_18",
            "key": 0,
            "pos_id": "pos_1",
            "relation": "pays",
            "source": "credit_card_26",
            "source_owner": "customer_26",
            "target": "other_banks",
            "target_owner": "other_banks",
            "time": "00:44"
           },
           {
            "amount": "$188.00",
            "category": "credit_card_txn",
            "date": "2020-01-01",
            "id": "credit_card_txn_34",
            "key": 1,
            "pos_id": "pos_2",
            "relation": "pays",
            "source": "credit_card_26",
            "source_owner": "customer_26",
            "target": "other_banks",
            "target_owner": "other_banks",
            "time": "01:40"
           },
           {
            "amount": "$56.00",
            "category": "credit_card_txn",
            "date": "2020-01-01",
            "id": "credit_card_txn_69",
            "key": 2,
            "pos_id": "pos_3",
            "relation": "pays",
            "source": "credit_card_26",
            "source_owner": "customer_26",
            "target": "other_banks",
            "target_owner": "other_banks",
            "time": "15:03"
           },
           {
            "amount": "$20.00",
            "category": "credit_card_txn",
            "date": "2020-01-01",
            "id": "credit_card_txn_20",
            "key": 0,
            "pos_id": "pos_2",
            "relation": "pays",
            "source": "credit_card_16",
            "source_owner": "customer_16",
            "target": "other_banks",
            "target_owner": "other_banks",
            "time": "00:50"
           },
           {
            "amount": "$182.00",
            "category": "credit_card_txn",
            "date": "2020-01-01",
            "id": "credit_card_txn_21",
            "key": 1,
            "pos_id": "pos_3",
            "relation": "pays",
            "source": "credit_card_16",
            "source_owner": "customer_16",
            "target": "other_banks",
            "target_owner": "other_banks",
            "time": "00:54"
           },
           {
            "amount": "$197.00",
            "category": "credit_card_txn",
            "date": "2020-01-01",
            "id": "credit_card_txn_22",
            "key": 0,
            "pos_id": "pos_2",
            "relation": "pays",
            "source": "credit_card_55",
            "source_owner": "customer_55",
            "target": "other_banks",
            "target_owner": "other_banks",
            "time": "00:58"
           },
           {
            "amount": "$45.00",
            "category": "credit_card_txn",
            "date": "2020-01-01",
            "id": "credit_card_txn_23",
            "key": 0,
            "pos_id": "pos_3",
            "relation": "pays",
            "source": "credit_card_3",
            "source_owner": "customer_2",
            "target": "other_banks",
            "target_owner": "other_banks",
            "time": "01:00"
           },
           {
            "amount": "$77.00",
            "category": "credit_card_txn",
            "date": "2020-01-01",
            "id": "credit_card_txn_33",
            "key": 1,
            "pos_id": "pos_2",
            "relation": "pays",
            "source": "credit_card_3",
            "source_owner": "customer_2",
            "target": "other_banks",
            "target_owner": "other_banks",
            "time": "01:35"
           },
           {
            "amount": "$32.00",
            "category": "credit_card_txn",
            "date": "2020-01-01",
            "id": "credit_card_txn_39",
            "key": 2,
            "pos_id": "pos_2",
            "relation": "pays",
            "source": "credit_card_3",
            "source_owner": "customer_2",
            "target": "other_banks",
            "target_owner": "other_banks",
            "time": "02:00"
           },
           {
            "amount": "$138.00",
            "category": "credit_card_txn",
            "date": "2020-01-01",
            "id": "credit_card_txn_40",
            "key": 3,
            "pos_id": "pos_3",
            "relation": "pays",
            "source": "credit_card_3",
            "source_owner": "customer_2",
            "target": "other_banks",
            "target_owner": "other_banks",
            "time": "02:03"
           },
           {
            "amount": "$108.00",
            "category": "credit_card_txn",
            "date": "2020-01-01",
            "id": "credit_card_txn_24",
            "key": 0,
            "pos_id": "pos_1",
            "relation": "pays",
            "source": "credit_card_6",
            "source_owner": "customer_3",
            "target": "other_banks",
            "target_owner": "other_banks",
            "time": "01:05"
           },
           {
            "amount": "$25.00",
            "category": "credit_card_txn",
            "date": "2020-01-01",
            "id": "credit_card_txn_25",
            "key": 0,
            "pos_id": "pos_2",
            "relation": "pays",
            "source": "credit_card_1",
            "source_owner": "customer_1",
            "target": "other_banks",
            "target_owner": "other_banks",
            "time": "01:06"
           },
           {
            "amount": "$16.00",
            "category": "credit_card_txn",
            "date": "2020-01-01",
            "id": "credit_card_txn_54",
            "key": 1,
            "pos_id": "pos_3",
            "relation": "pays",
            "source": "credit_card_1",
            "source_owner": "customer_1",
            "target": "other_banks",
            "target_owner": "other_banks",
            "time": "12:00"
           },
           {
            "amount": "$133.00",
            "category": "credit_card_txn",
            "date": "2020-01-01",
            "id": "credit_card_txn_26",
            "key": 0,
            "pos_id": "pos_3",
            "relation": "pays",
            "source": "credit_card_25",
            "source_owner": "customer_25",
            "target": "other_banks",
            "target_owner": "other_banks",
            "time": "01:07"
           },
           {
            "amount": "$27.00",
            "category": "credit_card_txn",
            "date": "2020-01-01",
            "id": "credit_card_txn_27",
            "key": 0,
            "pos_id": "pos_3",
            "relation": "pays",
            "source": "credit_card_93",
            "source_owner": "customer_93",
            "target": "other_banks",
            "target_owner": "other_banks",
            "time": "01:11"
           },
           {
            "amount": "$106.00",
            "category": "credit_card_txn",
            "date": "2020-01-01",
            "id": "credit_card_txn_29",
            "key": 0,
            "pos_id": "pos_3",
            "relation": "pays",
            "source": "credit_card_2",
            "source_owner": "customer_2",
            "target": "other_banks",
            "target_owner": "other_banks",
            "time": "01:20"
           },
           {
            "amount": "$132.00",
            "category": "credit_card_txn",
            "date": "2020-01-01",
            "id": "credit_card_txn_44",
            "key": 1,
            "pos_id": "pos_1",
            "relation": "pays",
            "source": "credit_card_2",
            "source_owner": "customer_2",
            "target": "other_banks",
            "target_owner": "other_banks",
            "time": "02:20"
           },
           {
            "amount": "$43.00",
            "category": "credit_card_txn",
            "date": "2020-01-01",
            "id": "credit_card_txn_30",
            "key": 0,
            "pos_id": "pos_3",
            "relation": "pays",
            "source": "credit_card_43",
            "source_owner": "customer_43",
            "target": "other_banks",
            "target_owner": "other_banks",
            "time": "01:22"
           },
           {
            "amount": "$187.00",
            "category": "credit_card_txn",
            "date": "2020-01-01",
            "id": "credit_card_txn_31",
            "key": 0,
            "pos_id": "pos_1",
            "relation": "pays",
            "source": "credit_card_12",
            "source_owner": "customer_12",
            "target": "other_banks",
            "target_owner": "other_banks",
            "time": "01:27"
           },
           {
            "amount": "$154.00",
            "category": "credit_card_txn",
            "date": "2020-01-01",
            "id": "credit_card_txn_35",
            "key": 0,
            "pos_id": "pos_2",
            "relation": "pays",
            "source": "credit_card_100",
            "source_owner": "customer_100",
            "target": "other_banks",
            "target_owner": "other_banks",
            "time": "01:44"
           },
           {
            "amount": "$128.00",
            "category": "credit_card_txn",
            "date": "2020-01-01",
            "id": "credit_card_txn_36",
            "key": 0,
            "pos_id": "pos_1",
            "relation": "pays",
            "source": "credit_card_48",
            "source_owner": "customer_48",
            "target": "other_banks",
            "target_owner": "other_banks",
            "time": "01:46"
           },
           {
            "amount": "$56.00",
            "category": "credit_card_txn",
            "date": "2020-01-01",
            "id": "credit_card_txn_42",
            "key": 0,
            "pos_id": "pos_2",
            "relation": "pays",
            "source": "credit_card_86",
            "source_owner": "customer_86",
            "target": "other_banks",
            "target_owner": "other_banks",
            "time": "02:13"
           },
           {
            "amount": "$11.00",
            "category": "credit_card_txn",
            "date": "2020-01-01",
            "id": "credit_card_txn_47",
            "key": 0,
            "pos_id": "pos_3",
            "relation": "pays",
            "source": "credit_card_22",
            "source_owner": "customer_22",
            "target": "other_banks",
            "target_owner": "other_banks",
            "time": "02:28"
           },
           {
            "amount": "$151.00",
            "category": "credit_card_txn",
            "date": "2020-01-01",
            "id": "credit_card_txn_48",
            "key": 0,
            "pos_id": "pos_3",
            "relation": "pays",
            "source": "credit_card_57",
            "source_owner": "customer_57",
            "target": "other_banks",
            "target_owner": "other_banks",
            "time": "02:30"
           },
           {
            "amount": "$93.00",
            "category": "credit_card_txn",
            "date": "2020-01-01",
            "id": "credit_card_txn_50",
            "key": 1,
            "pos_id": "pos_2",
            "relation": "pays",
            "source": "credit_card_57",
            "source_owner": "customer_57",
            "target": "other_banks",
            "target_owner": "other_banks",
            "time": "02:38"
           },
           {
            "amount": "$183.00",
            "category": "credit_card_txn",
            "date": "2020-01-01",
            "id": "credit_card_txn_49",
            "key": 0,
            "pos_id": "pos_3",
            "relation": "pays",
            "source": "credit_card_50",
            "source_owner": "customer_50",
            "target": "other_banks",
            "target_owner": "other_banks",
            "time": "02:33"
           },
           {
            "amount": "$170.00",
            "category": "credit_card_txn",
            "date": "2020-01-01",
            "id": "credit_card_txn_52",
            "key": 0,
            "pos_id": "pos_3",
            "relation": "pays",
            "source": "credit_card_31",
            "source_owner": "customer_31",
            "target": "other_banks",
            "target_owner": "other_banks",
            "time": "02:43"
           },
           {
            "amount": "$18.00",
            "category": "credit_card_txn",
            "date": "2020-01-01",
            "id": "credit_card_txn_55",
            "key": 0,
            "pos_id": "pos_1",
            "relation": "pays",
            "source": "credit_card_61",
            "source_owner": "customer_61",
            "target": "other_banks",
            "target_owner": "other_banks",
            "time": "12:00"
           },
           {
            "amount": "$31.00",
            "category": "credit_card_txn",
            "date": "2020-01-01",
            "id": "credit_card_txn_56",
            "key": 0,
            "pos_id": "pos_3",
            "relation": "pays",
            "source": "credit_card_58",
            "source_owner": "customer_58",
            "target": "other_banks",
            "target_owner": "other_banks",
            "time": "12:04"
           },
           {
            "amount": "$124.00",
            "category": "credit_card_txn",
            "date": "2020-01-01",
            "id": "credit_card_txn_75",
            "key": 1,
            "pos_id": "pos_1",
            "relation": "pays",
            "source": "credit_card_58",
            "source_owner": "customer_58",
            "target": "other_banks",
            "target_owner": "other_banks",
            "time": "15:26"
           },
           {
            "amount": "$94.00",
            "category": "credit_card_txn",
            "date": "2020-01-01",
            "id": "credit_card_txn_57",
            "key": 0,
            "pos_id": "pos_1",
            "relation": "pays",
            "source": "credit_card_78",
            "source_owner": "customer_78",
            "target": "other_banks",
            "target_owner": "other_banks",
            "time": "12:09"
           },
           {
            "amount": "$50,000.00",
            "category": "credit_card_txn",
            "date": "2020-01-01",
            "id": "credit_card_txn_59",
            "key": 0,
            "pos_id": "pos_101",
            "relation": "pays",
            "source": "credit_card_102",
            "source_owner": "customer_102",
            "target": "account_101",
            "target_owner": "customer_101",
            "time": "12:15"
           },
           {
            "amount": "$50,000.00",
            "category": "credit_card_txn",
            "date": "2020-01-01",
            "id": "credit_card_txn_60",
            "key": 1,
            "pos_id": "pos_101",
            "relation": "pays",
            "source": "credit_card_102",
            "source_owner": "customer_102",
            "target": "account_101",
            "target_owner": "customer_101",
            "time": "12:16"
           },
           {
            "amount": "$50,000.00",
            "category": "credit_card_txn",
            "date": "2020-01-01",
            "id": "credit_card_txn_61",
            "key": 2,
            "pos_id": "pos_101",
            "relation": "pays",
            "source": "credit_card_102",
            "source_owner": "customer_102",
            "target": "account_101",
            "target_owner": "customer_101",
            "time": "12:17"
           },
           {
            "amount": "$50,000.00",
            "category": "credit_card_txn",
            "date": "2020-01-01",
            "id": "credit_card_txn_62",
            "key": 3,
            "pos_id": "pos_101",
            "relation": "pays",
            "source": "credit_card_102",
            "source_owner": "customer_102",
            "target": "account_101",
            "target_owner": "customer_101",
            "time": "12:18"
           },
           {
            "amount": "$50,000.00",
            "category": "credit_card_txn",
            "date": "2020-01-01",
            "id": "credit_card_txn_63",
            "key": 4,
            "pos_id": "pos_101",
            "relation": "pays",
            "source": "credit_card_102",
            "source_owner": "customer_102",
            "target": "account_101",
            "target_owner": "customer_101",
            "time": "12:19"
           },
           {
            "amount": "$50,000.00",
            "category": "credit_card_txn",
            "date": "2020-01-01",
            "id": "credit_card_txn_64",
            "key": 5,
            "pos_id": "pos_101",
            "relation": "pays",
            "source": "credit_card_102",
            "source_owner": "customer_102",
            "target": "account_101",
            "target_owner": "customer_101",
            "time": "12:20"
           },
           {
            "amount": "$50,000.00",
            "category": "credit_card_txn",
            "date": "2020-01-01",
            "id": "credit_card_txn_65",
            "key": 6,
            "pos_id": "pos_101",
            "relation": "pays",
            "source": "credit_card_102",
            "source_owner": "customer_102",
            "target": "account_101",
            "target_owner": "customer_101",
            "time": "12:21"
           },
           {
            "amount": "$50,000.00",
            "category": "credit_card_txn",
            "date": "2020-01-01",
            "id": "credit_card_txn_66",
            "key": 7,
            "pos_id": "pos_101",
            "relation": "pays",
            "source": "credit_card_102",
            "source_owner": "customer_102",
            "target": "account_101",
            "target_owner": "customer_101",
            "time": "12:22"
           },
           {
            "amount": "$50,000.00",
            "category": "credit_card_txn",
            "date": "2020-01-01",
            "id": "credit_card_txn_67",
            "key": 8,
            "pos_id": "pos_101",
            "relation": "pays",
            "source": "credit_card_102",
            "source_owner": "customer_102",
            "target": "account_101",
            "target_owner": "customer_101",
            "time": "12:23"
           },
           {
            "amount": "$50,000.00",
            "category": "credit_card_txn",
            "date": "2020-01-01",
            "id": "credit_card_txn_68",
            "key": 9,
            "pos_id": "pos_101",
            "relation": "pays",
            "source": "credit_card_102",
            "source_owner": "customer_102",
            "target": "account_101",
            "target_owner": "customer_101",
            "time": "12:24"
           },
           {
            "amount": "$153.00",
            "category": "credit_card_txn",
            "date": "2020-01-01",
            "id": "credit_card_txn_70",
            "key": 0,
            "pos_id": "pos_3",
            "relation": "pays",
            "source": "credit_card_88",
            "source_owner": "customer_88",
            "target": "other_banks",
            "target_owner": "other_banks",
            "time": "15:08"
           },
           {
            "amount": "$42.00",
            "category": "credit_card_txn",
            "date": "2020-01-01",
            "id": "credit_card_txn_71",
            "key": 0,
            "pos_id": "pos_1",
            "relation": "pays",
            "source": "credit_card_63",
            "source_owner": "customer_63",
            "target": "other_banks",
            "target_owner": "other_banks",
            "time": "15:14"
           },
           {
            "amount": "$139.00",
            "category": "credit_card_txn",
            "date": "2020-01-01",
            "id": "credit_card_txn_72",
            "key": 0,
            "pos_id": "pos_3",
            "relation": "pays",
            "source": "credit_card_70",
            "source_owner": "customer_70",
            "target": "other_banks",
            "target_owner": "other_banks",
            "time": "15:17"
           },
           {
            "amount": "$52.00",
            "category": "credit_card_txn",
            "date": "2020-01-01",
            "id": "credit_card_txn_73",
            "key": 0,
            "pos_id": "pos_2",
            "relation": "pays",
            "source": "credit_card_30",
            "source_owner": "customer_30",
            "target": "other_banks",
            "target_owner": "other_banks",
            "time": "15:18"
           },
           {
            "amount": "$53.00",
            "category": "credit_card_txn",
            "date": "2020-01-01",
            "id": "credit_card_txn_74",
            "key": 0,
            "pos_id": "pos_1",
            "relation": "pays",
            "source": "credit_card_27",
            "source_owner": "customer_27",
            "target": "other_banks",
            "target_owner": "other_banks",
            "time": "15:21"
           },
           {
            "amount": "$14.00",
            "category": "credit_card_txn",
            "date": "2020-01-01",
            "id": "credit_card_txn_76",
            "key": 0,
            "pos_id": "pos_3",
            "relation": "pays",
            "source": "credit_card_87",
            "source_owner": "customer_87",
            "target": "other_banks",
            "target_owner": "other_banks",
            "time": "15:27"
           },
           {
            "amount": "$13.00",
            "category": "credit_card_txn",
            "date": "2020-01-01",
            "id": "credit_card_txn_77",
            "key": 0,
            "pos_id": "pos_3",
            "relation": "pays",
            "source": "credit_card_84",
            "source_owner": "customer_84",
            "target": "other_banks",
            "target_owner": "other_banks",
            "time": "15:28"
           },
           {
            "amount": "$825,000.00",
            "category": "credit_card_txn",
            "date": "2020-01-01",
            "id": "credit_card_txn_78",
            "key": 0,
            "pos_id": "pos_200",
            "relation": "pays",
            "source": "credit_card_103",
            "source_owner": "customer_103",
            "target": "other_banks",
            "target_owner": "other_banks",
            "time": "16:00"
           }
          ],
          "metadata": {
           "title": "CSV"
          },
          "nodes": [
           {
            "id": "credit_card_13",
            "name": "credit_card_13",
            "value": "credit_card_13"
           },
           {
            "id": "other_banks",
            "name": "other_banks",
            "value": "other_banks"
           },
           {
            "id": "credit_card_75",
            "name": "credit_card_75",
            "value": "credit_card_75"
           },
           {
            "id": "credit_card_69",
            "name": "credit_card_69",
            "value": "credit_card_69"
           },
           {
            "id": "credit_card_38",
            "name": "credit_card_38",
            "value": "credit_card_38"
           },
           {
            "id": "credit_card_94",
            "name": "credit_card_94",
            "value": "credit_card_94"
           },
           {
            "id": "credit_card_95",
            "name": "credit_card_95",
            "value": "credit_card_95"
           },
           {
            "id": "credit_card_97",
            "name": "credit_card_97",
            "value": "credit_card_97"
           },
           {
            "id": "credit_card_66",
            "name": "credit_card_66",
            "value": "credit_card_66"
           },
           {
            "id": "credit_card_34",
            "name": "credit_card_34",
            "value": "credit_card_34"
           },
           {
            "id": "credit_card_20",
            "name": "credit_card_20",
            "value": "credit_card_20"
           },
           {
            "id": "credit_card_36",
            "name": "credit_card_36",
            "value": "credit_card_36"
           },
           {
            "id": "credit_card_91",
            "name": "credit_card_91",
            "value": "credit_card_91"
           },
           {
            "id": "credit_card_5",
            "name": "credit_card_5",
            "value": "credit_card_5"
           },
           {
            "id": "credit_card_4",
            "name": "credit_card_4",
            "value": "credit_card_4"
           },
           {
            "id": "credit_card_71",
            "name": "credit_card_71",
            "value": "credit_card_71"
           },
           {
            "id": "credit_card_26",
            "name": "credit_card_26",
            "value": "credit_card_26"
           },
           {
            "id": "credit_card_16",
            "name": "credit_card_16",
            "value": "credit_card_16"
           },
           {
            "id": "credit_card_55",
            "name": "credit_card_55",
            "value": "credit_card_55"
           },
           {
            "id": "credit_card_3",
            "name": "credit_card_3",
            "value": "credit_card_3"
           },
           {
            "id": "credit_card_6",
            "name": "credit_card_6",
            "value": "credit_card_6"
           },
           {
            "id": "credit_card_1",
            "name": "credit_card_1",
            "value": "credit_card_1"
           },
           {
            "id": "credit_card_25",
            "name": "credit_card_25",
            "value": "credit_card_25"
           },
           {
            "id": "credit_card_93",
            "name": "credit_card_93",
            "value": "credit_card_93"
           },
           {
            "id": "credit_card_2",
            "name": "credit_card_2",
            "value": "credit_card_2"
           },
           {
            "id": "credit_card_43",
            "name": "credit_card_43",
            "value": "credit_card_43"
           },
           {
            "id": "credit_card_12",
            "name": "credit_card_12",
            "value": "credit_card_12"
           },
           {
            "id": "credit_card_100",
            "name": "credit_card_100",
            "value": "credit_card_100"
           },
           {
            "id": "credit_card_48",
            "name": "credit_card_48",
            "value": "credit_card_48"
           },
           {
            "id": "credit_card_86",
            "name": "credit_card_86",
            "value": "credit_card_86"
           },
           {
            "id": "credit_card_22",
            "name": "credit_card_22",
            "value": "credit_card_22"
           },
           {
            "id": "credit_card_57",
            "name": "credit_card_57",
            "value": "credit_card_57"
           },
           {
            "id": "credit_card_50",
            "name": "credit_card_50",
            "value": "credit_card_50"
           },
           {
            "id": "credit_card_31",
            "name": "credit_card_31",
            "value": "credit_card_31"
           },
           {
            "id": "credit_card_61",
            "name": "credit_card_61",
            "value": "credit_card_61"
           },
           {
            "id": "credit_card_58",
            "name": "credit_card_58",
            "value": "credit_card_58"
           },
           {
            "id": "credit_card_78",
            "name": "credit_card_78",
            "value": "credit_card_78"
           },
           {
            "id": "credit_card_102",
            "name": "credit_card_102",
            "value": "credit_card_102"
           },
           {
            "id": "account_101",
            "name": "account_101",
            "value": "account_101"
           },
           {
            "id": "credit_card_88",
            "name": "credit_card_88",
            "value": "credit_card_88"
           },
           {
            "id": "credit_card_63",
            "name": "credit_card_63",
            "value": "credit_card_63"
           },
           {
            "id": "credit_card_70",
            "name": "credit_card_70",
            "value": "credit_card_70"
           },
           {
            "id": "credit_card_30",
            "name": "credit_card_30",
            "value": "credit_card_30"
           },
           {
            "id": "credit_card_27",
            "name": "credit_card_27",
            "value": "credit_card_27"
           },
           {
            "id": "credit_card_87",
            "name": "credit_card_87",
            "value": "credit_card_87"
           },
           {
            "id": "credit_card_84",
            "name": "credit_card_84",
            "value": "credit_card_84"
           },
           {
            "id": "credit_card_103",
            "name": "credit_card_103",
            "value": "credit_card_103"
           }
          ]
         }
        ],
        "style": {}
       }
      }
     }
    },
    "version_major": 2,
    "version_minor": 0
   }
  }
 },
 "nbformat": 4,
 "nbformat_minor": 4
}
