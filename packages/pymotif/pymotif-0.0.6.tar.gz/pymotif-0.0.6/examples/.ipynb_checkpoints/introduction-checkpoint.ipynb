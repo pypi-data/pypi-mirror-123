{
 "cells": [
  {
   "cell_type": "markdown",
   "metadata": {},
   "source": [
    "# Introduction"
   ]
  },
  {
   "cell_type": "markdown",
   "metadata": {},
   "source": [
    "A brief introduction to Pymotif's functionality. Start by importing it:"
   ]
  },
  {
   "cell_type": "code",
   "execution_count": 1,
   "metadata": {},
   "outputs": [],
   "source": [
    "from pymotif import Motif"
   ]
  },
  {
   "cell_type": "markdown",
   "metadata": {},
   "source": [
    "## 1. Data Import\n",
    "\n",
    "Pymotif offers a variety of data import options:"
   ]
  },
  {
   "cell_type": "markdown",
   "metadata": {},
   "source": [
    "#### JSON Data\n",
    "\n",
    "If you download your graph data from the Motif UI (floppy disk button right above 'Data Sources'), it will be saved as a JSON file. This makes it easy to share your graph with someone else - you just have to send the file to them and they can import it like this:"
   ]
  },
  {
   "cell_type": "code",
   "execution_count": 6,
   "metadata": {
    "slideshow": {
     "slide_type": "slide"
    },
    "tags": []
   },
   "outputs": [
    {
     "name": "stdout",
     "output_type": "stream",
     "text": [
      "Reading JSON file, all other params will be ignored...\n"
     ]
    },
    {
     "data": {
      "application/vnd.jupyter.widget-view+json": {
       "model_id": "9f4f5afb20c54353b4f611efd72ed7e5",
       "version_major": 2,
       "version_minor": 0
      },
      "text/plain": [
       "Motif(value=None, state={'data': [{'nodes': [{'create_date': '2019-01-03T00:00:00', 'icon': 'account_balance',…"
      ]
     },
     "metadata": {},
     "output_type": "display_data"
    }
   ],
   "source": [
    "# path to local dataset\n",
    "json_path = 'data/sample.json'\n",
    "\n",
    "motif_json = Motif(json_path=json_path)\n",
    "motif_json.plot()"
   ]
  },
  {
   "cell_type": "markdown",
   "metadata": {},
   "source": [
    "Note the message that appears: `Reading JSON file, all other params will be ignored...`, which means the `json_path` parameter overwrites any other parameter passed to the `Motif()` object."
   ]
  },
  {
   "cell_type": "markdown",
   "metadata": {},
   "source": [
    "#### NetworkX Graphs\n",
    "\n",
    "If you have NetworkX or NetworkX-compatible graph data, it can be imported into Motif. In this example, we convert a `.gml` file into a NetworkX graph, then plot it in Motif:"
   ]
  },
  {
   "cell_type": "code",
   "execution_count": 3,
   "metadata": {
    "slideshow": {
     "slide_type": "slide"
    },
    "tags": []
   },
   "outputs": [],
   "source": [
    "import networkx as nx\n",
    "\n",
    "# path to local dataset\n",
    "gml = 'data/karate.gml'\n",
    "\n",
    "# read using networkx\n",
    "nx_graph = nx.read_gml(gml)"
   ]
  },
  {
   "cell_type": "code",
   "execution_count": 4,
   "metadata": {
    "slideshow": {
     "slide_type": "slide"
    },
    "tags": []
   },
   "outputs": [
    {
     "data": {
      "application/vnd.jupyter.widget-view+json": {
       "model_id": "b547001cdd8448d48aa9715b3c469100",
       "version_major": 2,
       "version_minor": 0
      },
      "text/plain": [
       "Motif(value=None, state={'data': [{'nodes': [{'id': '1', 'value': '1', 'name': '1'}, {'id': '2', 'value': '2',…"
      ]
     },
     "metadata": {},
     "output_type": "display_data"
    }
   ],
   "source": [
    "motif_nx = Motif(nx_graph=nx_graph, title='NetworkX')\n",
    "motif_nx.plot()"
   ]
  },
  {
   "cell_type": "markdown",
   "metadata": {},
   "source": [
    "#### Neo4j Data\n",
    "\n",
    "If you have data stored in a Neo4j database, it can also be plotted in Motif (change the placeholders to your own connection data):"
   ]
  },
  {
   "cell_type": "code",
   "execution_count": 5,
   "metadata": {},
   "outputs": [
    {
     "data": {
      "application/vnd.jupyter.widget-view+json": {
       "model_id": "8fc7b89903a14f9093c5c06c6a2801aa",
       "version_major": 2,
       "version_minor": 0
      },
      "text/plain": [
       "Motif(value=None, state={'data': [{'nodes': [{'name': 'Emil Eifrem', 'born': 1978, 'id': 'node-8', 'labels': '…"
      ]
     },
     "metadata": {},
     "output_type": "display_data"
    }
   ],
   "source": [
    "import neo4j\n",
    "\n",
    "neo4j_uri = 'bolt://3.238.89.105:7687'\n",
    "neo4j_auth = ('neo4j', 'surveyors-beat-weed')\n",
    "neo4j_driver = neo4j.GraphDatabase.driver(uri=neo4j_uri, auth=neo4j_auth)\n",
    "neo4j_query = 'MATCH p=()-[r:ACTED_IN]->() RETURN p LIMIT 25'\n",
    "\n",
    "# get query results and create a Motif object from it\n",
    "neo4j_results = neo4j_driver.session().run(neo4j_query)\n",
    "motif_neo4j = Motif(neo4j_graph=neo4j_results.graph(), title='Neo4j')\n",
    "\n",
    "motif_neo4j.plot()"
   ]
  },
  {
   "cell_type": "code",
   "execution_count": null,
   "metadata": {},
   "outputs": [],
   "source": [
    "Motif()"
   ]
  },
  {
   "cell_type": "code",
   "execution_count": null,
   "metadata": {},
   "outputs": [],
   "source": [
    "import neo4j\n",
    "\n",
    "neo4j_uri = 'bolt://<IP ADDRESS>:7687'\n",
    "neo4j_auth = ('<USERNAME>', '<PASSWORD>')\n",
    "neo4j_driver = neo4j.GraphDatabase.driver(uri=neo4j_uri, auth=neo4j_auth)\n",
    "neo4j_query = '<CYPHER QUERY>'\n",
    "\n",
    "# get query results and create a Motif object from it\n",
    "neo4j_results = neo4j_driver.session().run(neo4j_query)\n",
    "motif_neo4j = Motif(neo4j_graph=neo4j_results.graph(), title='Neo4j')\n",
    "\n",
    "# motif_neo4j.plot()"
   ]
  },
  {
   "cell_type": "markdown",
   "metadata": {},
   "source": [
    "See `neo4j_demo.ipynb` for more examples."
   ]
  },
  {
   "cell_type": "markdown",
   "metadata": {},
   "source": [
    "#### CSV Edgelists\n",
    "\n",
    "Plot graphs stored in CSV edgelists:"
   ]
  },
  {
   "cell_type": "code",
   "execution_count": null,
   "metadata": {},
   "outputs": [],
   "source": [
    "# path to local dataset\n",
    "csv_path = 'data/edgelist.csv'\n",
    "\n",
    "motif_csv = Motif(csv_path=csv_path, title='CSV')\n",
    "motif_csv.plot()"
   ]
  },
  {
   "cell_type": "markdown",
   "metadata": {},
   "source": [
    "---\n",
    "\n",
    "## 2. Save Data And Style\n",
    "\n",
    "You might have noticed a button at the bottom of each Motif widget. It will be useful when interacting with the graph via the UI. We'll import a graph, make a small change via the UI, then save it:"
   ]
  },
  {
   "cell_type": "code",
   "execution_count": null,
   "metadata": {},
   "outputs": [],
   "source": [
    "motif_saved_style = Motif(json_path=json_path)\n",
    "motif_saved_style"
   ]
  },
  {
   "cell_type": "markdown",
   "metadata": {},
   "source": [
    "In the graph above, change the layout with these steps:\n",
    "- Click on the 'Styles' icon on the left panel\n",
    "- Under `Layout`, change the selection from `Concentric` to `Radial`\n",
    "\n",
    "The nodes and edges should now be arranged differently.\n",
    "\n",
    "Save the current style by clicking on the `SAVE DATA AND STYLE` button, then plot the graph again in the following cell:"
   ]
  },
  {
   "cell_type": "code",
   "execution_count": null,
   "metadata": {},
   "outputs": [],
   "source": [
    "motif_saved_style"
   ]
  },
  {
   "cell_type": "markdown",
   "metadata": {},
   "source": [
    "Note how the style persists and the graph is still in a radial layout!"
   ]
  },
  {
   "cell_type": "markdown",
   "metadata": {},
   "source": [
    "---\n",
    "\n",
    "## 3. Set Style With Code\n",
    "\n",
    "We can also set styles via code. Let's change the graph above back to a `Concentric` layout:"
   ]
  },
  {
   "cell_type": "code",
   "execution_count": null,
   "metadata": {},
   "outputs": [],
   "source": [
    "style = {'layout': {'type': 'concentric'}}\n",
    "motif_saved_style.set_style(style)\n",
    "\n",
    "motif_saved_style"
   ]
  },
  {
   "cell_type": "markdown",
   "metadata": {},
   "source": [
    "You can also apply the current styling of one graph to another. An example:"
   ]
  },
  {
   "cell_type": "code",
   "execution_count": null,
   "metadata": {},
   "outputs": [],
   "source": [
    "nice_graph = Motif()\n",
    "\n",
    "# do styling here via UI / code\n",
    "# ...\n",
    "\n",
    "# extract the styles from graph\n",
    "nice_style = nice_graph.state['style']\n",
    "\n",
    "# apply style to another graph\n",
    "# ugly_graph = Motif(...)\n",
    "ugly_graph.set_style(nice_style)"
   ]
  },
  {
   "cell_type": "markdown",
   "metadata": {},
   "source": [
    "---\n",
    "\n",
    "## 4. Add Graphs\n",
    "\n",
    "You can add new graphs to existing Motif objects. We'll create a graph with the same JSON data as above, then add the CSV data into it:"
   ]
  },
  {
   "cell_type": "code",
   "execution_count": null,
   "metadata": {},
   "outputs": [],
   "source": [
    "# create initial graph with just json data\n",
    "motif_json_and_csv = Motif(json_path=json_path)\n",
    "\n",
    "# add csv data to it\n",
    "motif_json_and_csv.add_graph(csv_path=csv_path)\n",
    "\n",
    "motif_json_and_csv"
   ]
  },
  {
   "cell_type": "markdown",
   "metadata": {},
   "source": [
    "Hopefully the graphs you combine turn out more meaningful than this!"
   ]
  },
  {
   "cell_type": "markdown",
   "metadata": {},
   "source": [
    "---\n",
    "\n",
    "## 5. Plotting\n",
    "\n",
    "You've already done a lot of this - just know that for now, a graph can be plotted with or without using the `.plot()` method:"
   ]
  },
  {
   "cell_type": "code",
   "execution_count": null,
   "metadata": {},
   "outputs": [],
   "source": [
    "m = Motif()\n",
    "\n",
    "# this\n",
    "m\n",
    "\n",
    "# is the same as this\n",
    "m.plot()"
   ]
  },
  {
   "cell_type": "markdown",
   "metadata": {},
   "source": [
    "---\n",
    "\n",
    "## 6. State\n",
    "\n",
    "To find out the underlying state of a Motif object at a point in time, access the `.state` instance attribute. It will show its graph data (i.e. the nodes and edges) and style:"
   ]
  },
  {
   "cell_type": "code",
   "execution_count": null,
   "metadata": {},
   "outputs": [],
   "source": [
    "# should be empty since nothing was defined above\n",
    "m.state"
   ]
  }
 ],
 "metadata": {
  "kernelspec": {
   "display_name": "Python 3",
   "language": "python",
   "name": "python3"
  },
  "language_info": {
   "codemirror_mode": {
    "name": "ipython",
    "version": 3
   },
   "file_extension": ".py",
   "mimetype": "text/x-python",
   "name": "python",
   "nbconvert_exporter": "python",
   "pygments_lexer": "ipython3",
   "version": "3.8.5"
  },
  "widgets": {
   "application/vnd.jupyter.widget-state+json": {
    "state": {
     "19fbebdedb5249ad961a1830250e1535": {
      "model_module": "@cylynx/pymotif",
      "model_module_version": "^0.0.1",
      "model_name": "MotifModel",
      "state": {
       "_model_module_version": "^0.0.1",
       "_view_module_version": "^0.0.1",
       "layout": "IPY_MODEL_894ea083b55e40a28dfc6a613399eedb",
       "state": {
        "data": [
         {
          "edges": [
           {
            "amount": 1000000,
            "balance": 200000,
            "category": "ib_txn",
            "data": {},
            "date": "2020-01-01T00:00:00",
            "defaultStyle": {},
            "id": "ib_txn_1",
            "is_foreign_source": 0,
            "is_foreign_target": 1,
            "is_high_risk_source_target_location": 0,
            "relation": "ib_transfer",
            "source": "account_103",
            "source_owner": "customer_103",
            "target": "account_904",
            "target_owner": "other_banks",
            "time": "00:00:00"
           },
           {
            "amount": 100000,
            "balance": "-",
            "category": "ib_txn",
            "data": {},
            "date": "2020-01-02T01:00:00",
            "defaultStyle": {},
            "id": "ib_txn_2",
            "is_foreign_source": 1,
            "is_foreign_target": 0,
            "is_high_risk_source_target_location": 0,
            "relation": "ib_transfer",
            "source": "account_903",
            "source_owner": "other_banks",
            "target": "account_103",
            "target_owner": "customer_103",
            "time": "01:00:00"
           },
           {
            "amount": 50000,
            "balance": 250000,
            "category": "ib_txn",
            "data": {},
            "date": "2020-01-02T02:00:00",
            "defaultStyle": {},
            "id": "ib_txn_3",
            "is_foreign_source": 0,
            "is_foreign_target": 1,
            "is_high_risk_source_target_location": 0,
            "relation": "ib_transfer",
            "source": "account_103",
            "source_owner": "customer_103",
            "target": "account_904",
            "target_owner": "other_banks",
            "time": "02:00:00"
           },
           {
            "amount": 2000000,
            "balance": "-",
            "category": "ib_txn",
            "data": {},
            "date": "2020-01-01T03:00:00",
            "defaultStyle": {},
            "id": "ib_txn_4",
            "is_foreign_source": 1,
            "is_foreign_target": 0,
            "is_high_risk_source_target_location": 0,
            "relation": "ib_transfer",
            "source": "account_904",
            "source_owner": "other_banks",
            "target": "account_103",
            "target_owner": "customer_103",
            "time": "03:00:00"
           },
           {
            "amount": 1000000,
            "balance": 1250000,
            "category": "ib_txn",
            "data": {},
            "date": "2020-01-02T04:00:00",
            "defaultStyle": {},
            "id": "ib_txn_5",
            "is_foreign_source": 0,
            "is_foreign_target": 1,
            "is_high_risk_source_target_location": 0,
            "relation": "ib_transfer",
            "source": "account_103",
            "source_owner": "customer_103",
            "target": "account_903",
            "target_owner": "other_banks",
            "time": "04:00:00"
           },
           {
            "amount": 1000000,
            "balance": 250000,
            "category": "ib_txn",
            "data": {},
            "date": "2020-01-02T05:00:00",
            "defaultStyle": {},
            "id": "ib_txn_6",
            "is_foreign_source": 0,
            "is_foreign_target": 1,
            "is_high_risk_source_target_location": 0,
            "relation": "ib_transfer",
            "source": "account_103",
            "source_owner": "customer_103",
            "target": "account_903",
            "target_owner": "other_banks",
            "time": "05:00:00"
           },
           {
            "amount": 250000,
            "balance": 10000,
            "category": "ib_txn",
            "data": {},
            "date": "2020-01-01T06:00:00",
            "defaultStyle": {},
            "id": "ib_txn_7",
            "is_foreign_source": 0,
            "is_foreign_target": 0,
            "is_high_risk_source_target_location": 0,
            "relation": "ib_transfer",
            "source": "account_901",
            "source_owner": "customer_901",
            "target": "account_103",
            "target_owner": "customer_103",
            "time": "06:00:00"
           },
           {
            "amount": 250000,
            "balance": 300000,
            "category": "ib_txn",
            "data": {},
            "date": "2020-01-01T06:30:00",
            "defaultStyle": {},
            "id": "ib_txn_8",
            "is_foreign_source": 0,
            "is_foreign_target": 0,
            "is_high_risk_source_target_location": 0,
            "relation": "ib_transfer",
            "source": "account_902",
            "source_owner": "customer_902",
            "target": "account_103",
            "target_owner": "customer_103",
            "time": "06:30:00"
           },
           {
            "amount": 250000,
            "balance": "-",
            "category": "ib_txn",
            "data": {},
            "date": "2020-01-02T06:00:00",
            "defaultStyle": {},
            "id": "ib_txn_9",
            "is_foreign_source": 1,
            "is_foreign_target": 0,
            "is_high_risk_source_target_location": 0,
            "relation": "ib_transfer",
            "source": "account_903",
            "source_owner": "other_banks",
            "target": "account_103",
            "target_owner": "customer_103",
            "time": "06:00:00"
           },
           {
            "amount": 250000,
            "balance": "-",
            "category": "ib_txn",
            "data": {},
            "date": "2020-01-01T00:00:00",
            "defaultStyle": {},
            "id": "ib_txn_10",
            "is_foreign_source": 1,
            "is_foreign_target": 0,
            "is_high_risk_source_target_location": 0,
            "relation": "ib_transfer",
            "source": "account_904",
            "source_owner": "other_banks",
            "target": "account_103",
            "target_owner": "customer_103",
            "time": "00:00:00"
           },
           {
            "amount": 125000,
            "balance": 225000,
            "category": "ib_txn",
            "data": {},
            "date": "2020-01-03T22:00:00",
            "defaultStyle": {},
            "id": "ib_txn_72",
            "is_foreign_source": 0,
            "is_foreign_target": 0,
            "is_high_risk_source_target_location": 0,
            "relation": "ib_transfer",
            "source": "account_7",
            "source_owner": "customer_7",
            "target": "account_103",
            "target_owner": "customer_103",
            "time": "22:00:00"
           },
           {
            "amount": 250000,
            "balance": 475000,
            "category": "ib_txn",
            "data": {},
            "date": "2020-01-03T22:00:00",
            "defaultStyle": {},
            "id": "ib_txn_73",
            "is_foreign_source": 0,
            "is_foreign_target": 0,
            "is_high_risk_source_target_location": 0,
            "relation": "ib_transfer",
            "source": "account_55",
            "source_owner": "customer_55",
            "target": "account_103",
            "target_owner": "customer_103",
            "time": "22:00:00"
           },
           {
            "amount": 150000,
            "balance": 625000,
            "category": "ib_txn",
            "data": {},
            "date": "2020-01-04T18:00:00",
            "defaultStyle": {},
            "id": "ib_txn_74",
            "is_foreign_source": 0,
            "is_foreign_target": 0,
            "is_high_risk_source_target_location": 0,
            "relation": "ib_transfer",
            "source": "account_20",
            "source_owner": "customer_20",
            "target": "account_103",
            "target_owner": "customer_103",
            "time": "18:00:00"
           },
           {
            "amount": 300000,
            "balance": 925000,
            "category": "ib_txn",
            "data": {},
            "date": "2020-01-04T18:00:00",
            "defaultStyle": {},
            "id": "ib_txn_75",
            "is_foreign_source": 0,
            "is_foreign_target": 0,
            "is_high_risk_source_target_location": 0,
            "relation": "ib_transfer",
            "source": "account_81",
            "source_owner": "customer_81",
            "target": "account_103",
            "target_owner": "customer_103",
            "time": "18:00:00"
           },
           {
            "category": "ownership",
            "data": {},
            "defaultStyle": {},
            "id": "ownership_210",
            "relation": "owns",
            "source": "customer_7",
            "target": "account_7"
           },
           {
            "category": "ownership",
            "data": {},
            "defaultStyle": {},
            "id": "ownership_223",
            "relation": "owns",
            "source": "customer_20",
            "target": "account_20"
           },
           {
            "category": "ownership",
            "data": {},
            "defaultStyle": {},
            "id": "ownership_258",
            "relation": "owns",
            "source": "customer_55",
            "target": "account_55"
           },
           {
            "category": "ownership",
            "data": {},
            "defaultStyle": {},
            "id": "ownership_284",
            "relation": "owns",
            "source": "customer_81",
            "target": "account_81"
           },
           {
            "category": "ownership",
            "data": {},
            "defaultStyle": {},
            "id": "ownership_306",
            "relation": "owns",
            "source": "customer_103",
            "target": "account_103"
           },
           {
            "category": "ownership",
            "data": {},
            "defaultStyle": {},
            "id": "ownership_307",
            "relation": "owns",
            "source": "customer_901",
            "target": "account_901"
           },
           {
            "category": "ownership",
            "data": {},
            "defaultStyle": {},
            "id": "ownership_308",
            "relation": "owns",
            "source": "customer_902",
            "target": "account_902"
           },
           {
            "category": "ownership",
            "data": {},
            "defaultStyle": {},
            "id": "ownership_310",
            "relation": "owns",
            "source": "other_banks",
            "target": "account_903"
           },
           {
            "category": "ownership",
            "data": {},
            "defaultStyle": {},
            "id": "ownership_311",
            "relation": "owns",
            "source": "other_banks",
            "target": "account_904"
           }
          ],
          "metadata": {
           "fields": {
            "edges": [
             {
              "analyzerType": "INT",
              "format": "",
              "name": "amount",
              "type": "integer"
             },
             {
              "analyzerType": "STRING",
              "format": "",
              "name": "category",
              "type": "string"
             },
             {
              "analyzerType": "DATETIME",
              "format": "YYYY-M-DTH:m:s",
              "name": "date",
              "type": "timestamp"
             },
             {
              "analyzerType": "STRING",
              "format": "",
              "name": "id",
              "type": "string"
             },
             {
              "analyzerType": "INT",
              "format": "",
              "name": "is_foreign_source",
              "type": "integer"
             },
             {
              "analyzerType": "INT",
              "format": "",
              "name": "is_foreign_target",
              "type": "integer"
             },
             {
              "analyzerType": "INT",
              "format": "",
              "name": "is_high_risk_source_target_location",
              "type": "integer"
             },
             {
              "analyzerType": "STRING",
              "format": "",
              "name": "relation",
              "type": "string"
             },
             {
              "analyzerType": "STRING",
              "format": "",
              "name": "source",
              "type": "string"
             },
             {
              "analyzerType": "STRING",
              "format": "",
              "name": "source_owner",
              "type": "string"
             },
             {
              "analyzerType": "STRING",
              "format": "",
              "name": "target",
              "type": "string"
             },
             {
              "analyzerType": "STRING",
              "format": "",
              "name": "target_owner",
              "type": "string"
             },
             {
              "analyzerType": "TIME",
              "format": "H:m:s",
              "name": "time",
              "type": "time"
             }
            ],
            "nodes": [
             {
              "analyzerType": "DATETIME",
              "format": "YYYY-M-DTH:m:s",
              "name": "create_date",
              "type": "timestamp"
             },
             {
              "analyzerType": "STRING",
              "format": "",
              "name": "icon",
              "type": "string"
             },
             {
              "analyzerType": "STRING",
              "format": "",
              "name": "id",
              "type": "string"
             },
             {
              "analyzerType": "INT",
              "format": "",
              "name": "is_different_bank",
              "type": "integer"
             },
             {
              "analyzerType": "STRING",
              "format": "",
              "name": "address",
              "type": "string"
             },
             {
              "analyzerType": "STRING",
              "format": "",
              "name": "customer_type",
              "type": "string"
             },
             {
              "analyzerType": "STRING",
              "format": "",
              "name": "first_name",
              "type": "string"
             },
             {
              "analyzerType": "STRING",
              "format": "",
              "name": "last_name",
              "type": "string"
             },
             {
              "analyzerType": "STRING",
              "format": "",
              "name": "phone",
              "type": "string"
             },
             {
              "analyzerType": "STRING",
              "format": "",
              "name": "remarks",
              "type": "string"
             },
             {
              "analyzerType": "STRING",
              "format": "",
              "name": "risk_category",
              "type": "string"
             },
             {
              "analyzerType": "INT",
              "format": "",
              "name": "risk_score",
              "type": "integer"
             }
            ]
           },
           "groupEdges": {
            "availability": true,
            "toggle": true
           },
           "key": "K6T5dLXLY",
           "title": "Banking Connections"
          },
          "nodes": [
           {
            "create_date": "2019-01-03T00:00:00",
            "data": {},
            "defaultStyle": {},
            "icon": "account_balance",
            "id": "account_7",
            "is_different_bank": 0
           },
           {
            "create_date": "2019-01-05T00:00:00",
            "data": {},
            "defaultStyle": {},
            "icon": "account_balance",
            "id": "account_20",
            "is_different_bank": 0
           },
           {
            "create_date": "2019-01-07T00:00:00",
            "data": {},
            "defaultStyle": {},
            "icon": "account_balance",
            "id": "account_55",
            "is_different_bank": 0
           },
           {
            "create_date": "2019-01-15T00:00:00",
            "data": {},
            "defaultStyle": {},
            "icon": "account_balance",
            "id": "account_81",
            "is_different_bank": 0
           },
           {
            "create_date": "2019-01-15T00:00:00",
            "data": {},
            "defaultStyle": {},
            "icon": "account_balance",
            "id": "account_103",
            "is_different_bank": 0
           },
           {
            "create_date": "2019-01-03T00:00:00",
            "data": {},
            "defaultStyle": {},
            "icon": "account_balance",
            "id": "account_901",
            "is_different_bank": 0
           },
           {
            "create_date": "2019-01-10T00:00:00",
            "data": {},
            "defaultStyle": {},
            "icon": "account_balance",
            "id": "account_902",
            "is_different_bank": 0
           },
           {
            "create_date": "2019-01-09T00:00:00",
            "data": {},
            "defaultStyle": {},
            "icon": "account_balance",
            "id": "account_903",
            "is_different_bank": 1
           },
           {
            "create_date": "2019-01-08T00:00:00",
            "data": {},
            "defaultStyle": {},
            "icon": "account_balance",
            "id": "account_904",
            "is_different_bank": 1
           },
           {
            "address": "-",
            "customer_type": "retail",
            "data": {},
            "defaultStyle": {},
            "first_name": "-",
            "icon": "account_box",
            "id": "customer_7",
            "last_name": "-",
            "phone": "-",
            "remarks": "high-value IB txn into customer 103's account",
            "risk_category": "medium",
            "risk_score": 50
           },
           {
            "address": "-",
            "customer_type": "retail",
            "data": {},
            "defaultStyle": {},
            "first_name": "-",
            "icon": "account_box",
            "id": "customer_20",
            "last_name": "-",
            "phone": "-",
            "remarks": "high-value IB txn into customer 103's account",
            "risk_category": "medium",
            "risk_score": 50
           },
           {
            "address": "-",
            "customer_type": "retail",
            "data": {},
            "defaultStyle": {},
            "first_name": "-",
            "icon": "account_box",
            "id": "customer_55",
            "last_name": "-",
            "phone": "-",
            "remarks": "high-value IB txn into customer 103's account",
            "risk_category": "medium",
            "risk_score": 50
           },
           {
            "address": "-",
            "customer_type": "retail",
            "data": {},
            "defaultStyle": {},
            "first_name": "-",
            "icon": "account_box",
            "id": "customer_81",
            "last_name": "-",
            "phone": "-",
            "remarks": "high-value IB txn into customer 103's account",
            "risk_category": "medium",
            "risk_score": 50
           },
           {
            "address": "103 RD",
            "customer_type": "retail",
            "data": {},
            "defaultStyle": {},
            "first_name": "john",
            "icon": "account_box",
            "id": "customer_103",
            "last_name": "doe",
            "phone": "+65 0000 0103",
            "remarks": "high-value purchases from luxury retailer. source of funds from 4 related accounts",
            "risk_category": "high",
            "risk_score": 99
           },
           {
            "address": "901 RD",
            "customer_type": "retail",
            "data": {},
            "defaultStyle": {},
            "first_name": "jane",
            "icon": "account_box",
            "id": "customer_901",
            "last_name": "doe",
            "phone": "+65 0000 0103",
            "remarks": "source of funds for customer 103's purchase of luxury items. customer has same phone number as customer 103.",
            "risk_category": "medium",
            "risk_score": 74
           },
           {
            "address": "103 RD",
            "customer_type": "retail",
            "data": {},
            "defaultStyle": {},
            "first_name": "jim",
            "icon": "account_box",
            "id": "customer_902",
            "last_name": "smith",
            "phone": "+65 0000 0902",
            "remarks": "source of funds for customer 103's purchase of luxury items. customer has same address as customer 103.",
            "risk_category": "medium",
            "risk_score": 74
           },
           {
            "address": "-",
            "customer_type": "-",
            "data": {},
            "defaultStyle": {},
            "first_name": "-",
            "icon": "-",
            "id": "other_banks",
            "last_name": "-",
            "phone": "-",
            "remarks": "other banks",
            "risk_category": "-",
            "risk_score": "-"
           }
          ]
         }
        ],
        "style": {
         "edgeStyle": {
          "label": "none",
          "width": {
           "id": "fixed",
           "value": 1
          }
         },
         "groupEdges": false,
         "layout": {
          "minNodeSpacing": 50,
          "preventOverlap": true,
          "sortBy": "degree",
          "type": "concentric",
          "workerEnabled": true
         },
         "nodeStyle": {
          "color": {
           "id": "fixed",
           "value": "#66c2a5"
          },
          "size": {
           "id": "fixed",
           "value": 20
          }
         },
         "resetView": true
        }
       }
      }
     },
     "1c9f640b99174b9d888d8d4a2e1bf3b1": {
      "model_module": "@jupyter-widgets/base",
      "model_module_version": "1.2.0",
      "model_name": "LayoutModel",
      "state": {}
     },
     "3a685a839d514491aadcdc875a7db1f9": {
      "model_module": "@jupyter-widgets/base",
      "model_module_version": "1.2.0",
      "model_name": "LayoutModel",
      "state": {}
     },
     "894ea083b55e40a28dfc6a613399eedb": {
      "model_module": "@jupyter-widgets/base",
      "model_module_version": "1.2.0",
      "model_name": "LayoutModel",
      "state": {}
     },
     "8fc7b89903a14f9093c5c06c6a2801aa": {
      "model_module": "@cylynx/pymotif",
      "model_module_version": "^0.0.1",
      "model_name": "MotifModel",
      "state": {
       "_model_module_version": "^0.0.1",
       "_view_module_version": "^0.0.1",
       "layout": "IPY_MODEL_3a685a839d514491aadcdc875a7db1f9",
       "state": {
        "data": [
         {
          "edges": [
           {
            "id": "edge-7",
            "relationship": "ACTED_IN",
            "roles": [
             "Emil"
            ],
            "source": "node-8",
            "target": "node-0"
           },
           {
            "id": "edge-3",
            "relationship": "ACTED_IN",
            "roles": [
             "Agent Smith"
            ],
            "source": "node-4",
            "target": "node-0"
           },
           {
            "id": "edge-2",
            "relationship": "ACTED_IN",
            "roles": [
             "Morpheus"
            ],
            "source": "node-3",
            "target": "node-0"
           },
           {
            "id": "edge-1",
            "relationship": "ACTED_IN",
            "roles": [
             "Trinity"
            ],
            "source": "node-2",
            "target": "node-0"
           },
           {
            "id": "edge-0",
            "relationship": "ACTED_IN",
            "roles": [
             "Neo"
            ],
            "source": "node-1",
            "target": "node-0"
           },
           {
            "id": "edge-11",
            "relationship": "ACTED_IN",
            "roles": [
             "Agent Smith"
            ],
            "source": "node-4",
            "target": "node-9"
           },
           {
            "id": "edge-10",
            "relationship": "ACTED_IN",
            "roles": [
             "Morpheus"
            ],
            "source": "node-3",
            "target": "node-9"
           },
           {
            "id": "edge-9",
            "relationship": "ACTED_IN",
            "roles": [
             "Trinity"
            ],
            "source": "node-2",
            "target": "node-9"
           },
           {
            "id": "edge-8",
            "relationship": "ACTED_IN",
            "roles": [
             "Neo"
            ],
            "source": "node-1",
            "target": "node-9"
           },
           {
            "id": "edge-18",
            "relationship": "ACTED_IN",
            "roles": [
             "Agent Smith"
            ],
            "source": "node-4",
            "target": "node-10"
           },
           {
            "id": "edge-17",
            "relationship": "ACTED_IN",
            "roles": [
             "Morpheus"
            ],
            "source": "node-3",
            "target": "node-10"
           },
           {
            "id": "edge-16",
            "relationship": "ACTED_IN",
            "roles": [
             "Trinity"
            ],
            "source": "node-2",
            "target": "node-10"
           },
           {
            "id": "edge-15",
            "relationship": "ACTED_IN",
            "roles": [
             "Neo"
            ],
            "source": "node-1",
            "target": "node-10"
           },
           {
            "id": "edge-24",
            "relationship": "ACTED_IN",
            "roles": [
             "John Milton"
            ],
            "source": "node-13",
            "target": "node-11"
           },
           {
            "id": "edge-23",
            "relationship": "ACTED_IN",
            "roles": [
             "Mary Ann Lomax"
            ],
            "source": "node-12",
            "target": "node-11"
           },
           {
            "id": "edge-22",
            "relationship": "ACTED_IN",
            "roles": [
             "Kevin Lomax"
            ],
            "source": "node-1",
            "target": "node-11"
           },
           {
            "id": "edge-35",
            "relationship": "ACTED_IN",
            "roles": [
             "Pfc. Louden Downey"
            ],
            "source": "node-25",
            "target": "node-15"
           },
           {
            "id": "edge-33",
            "relationship": "ACTED_IN",
            "roles": [
             "Lt. Sam Weinberg"
            ],
            "source": "node-23",
            "target": "node-15"
           },
           {
            "id": "edge-34",
            "relationship": "ACTED_IN",
            "roles": [
             "Lt. Col. Matthew Andrew Markinson"
            ],
            "source": "node-24",
            "target": "node-15"
           },
           {
            "id": "edge-37",
            "relationship": "ACTED_IN",
            "roles": [
             "Man in Bar"
            ],
            "source": "node-28",
            "target": "node-15"
           },
           {
            "id": "edge-32",
            "relationship": "ACTED_IN",
            "roles": [
             "Cpl. Carl Hammaker"
            ],
            "source": "node-22",
            "target": "node-15"
           },
           {
            "id": "edge-36",
            "relationship": "ACTED_IN",
            "roles": [
             "Dr. Stone"
            ],
            "source": "node-26",
            "target": "node-15"
           },
           {
            "id": "edge-31",
            "relationship": "ACTED_IN",
            "roles": [
             "Cpl. Jeffrey Barnes"
            ],
            "source": "node-21",
            "target": "node-15"
           },
           {
            "id": "edge-30",
            "relationship": "ACTED_IN",
            "roles": [
             "Lt. Jonathan Kendrick"
            ],
            "source": "node-20",
            "target": "node-15"
           },
           {
            "id": "edge-29",
            "relationship": "ACTED_IN",
            "roles": [
             "Capt. Jack Ross"
            ],
            "source": "node-19",
            "target": "node-15"
           }
          ],
          "metadata": {
           "fields": {
            "edges": [
             {
              "analyzerType": "ARRAY",
              "format": "",
              "name": "roles",
              "type": "array<string>"
             },
             {
              "analyzerType": "STRING",
              "format": "",
              "name": "id",
              "type": "string"
             },
             {
              "analyzerType": "STRING",
              "format": "",
              "name": "source",
              "type": "string"
             },
             {
              "analyzerType": "STRING",
              "format": "",
              "name": "target",
              "type": "string"
             },
             {
              "analyzerType": "STRING",
              "format": "",
              "name": "relationship",
              "type": "string"
             }
            ],
            "nodes": [
             {
              "analyzerType": "STRING",
              "format": "",
              "name": "name",
              "type": "string"
             },
             {
              "analyzerType": "INT",
              "format": "",
              "name": "born",
              "type": "integer"
             },
             {
              "analyzerType": "STRING",
              "format": "",
              "name": "id",
              "type": "string"
             },
             {
              "analyzerType": "STRING",
              "format": "",
              "name": "labels",
              "type": "string"
             },
             {
              "analyzerType": "STRING",
              "format": "",
              "name": "tagline",
              "type": "string"
             },
             {
              "analyzerType": "STRING",
              "format": "",
              "name": "title",
              "type": "string"
             },
             {
              "analyzerType": "INT",
              "format": "",
              "name": "released",
              "type": "integer"
             }
            ]
           },
           "groupEdges": {
            "availability": false,
            "toggle": false
           },
           "key": "BjBEt8xb8",
           "title": "Neo4j"
          },
          "nodes": [
           {
            "born": 1978,
            "id": "node-8",
            "labels": "Person",
            "name": "Emil Eifrem"
           },
           {
            "id": "node-0",
            "labels": "Movie",
            "released": 1999,
            "tagline": "Welcome to the Real World",
            "title": "The Matrix"
           },
           {
            "born": 1960,
            "id": "node-4",
            "labels": "Person",
            "name": "Hugo Weaving"
           },
           {
            "born": 1961,
            "id": "node-3",
            "labels": "Person",
            "name": "Laurence Fishburne"
           },
           {
            "born": 1967,
            "id": "node-2",
            "labels": "Person",
            "name": "Carrie-Anne Moss"
           },
           {
            "born": 1964,
            "id": "node-1",
            "labels": "Person",
            "name": "Keanu Reeves"
           },
           {
            "id": "node-9",
            "labels": "Movie",
            "released": 2003,
            "tagline": "Free your mind",
            "title": "The Matrix Reloaded"
           },
           {
            "id": "node-10",
            "labels": "Movie",
            "released": 2003,
            "tagline": "Everything that has a beginning has an end",
            "title": "The Matrix Revolutions"
           },
           {
            "born": 1940,
            "id": "node-13",
            "labels": "Person",
            "name": "Al Pacino"
           },
           {
            "id": "node-11",
            "labels": "Movie",
            "released": 1997,
            "tagline": "Evil has its winning ways",
            "title": "The Devil's Advocate"
           },
           {
            "born": 1975,
            "id": "node-12",
            "labels": "Person",
            "name": "Charlize Theron"
           },
           {
            "born": 1967,
            "id": "node-25",
            "labels": "Person",
            "name": "James Marshall"
           },
           {
            "id": "node-15",
            "labels": "Movie",
            "released": 1992,
            "tagline": "In the heart of the nation's capital, in a courthouse of the U.S. government, one man will stop at nothing to keep his honor, and one will stop at nothing to find the truth.",
            "title": "A Few Good Men"
           },
           {
            "born": 1957,
            "id": "node-23",
            "labels": "Person",
            "name": "Kevin Pollak"
           },
           {
            "born": 1943,
            "id": "node-24",
            "labels": "Person",
            "name": "J.T. Walsh"
           },
           {
            "born": 1961,
            "id": "node-28",
            "labels": "Person",
            "name": "Aaron Sorkin"
           },
           {
            "born": 1968,
            "id": "node-22",
            "labels": "Person",
            "name": "Cuba Gooding Jr."
           },
           {
            "born": 1948,
            "id": "node-26",
            "labels": "Person",
            "name": "Christopher Guest"
           },
           {
            "born": 1971,
            "id": "node-21",
            "labels": "Person",
            "name": "Noah Wyle"
           },
           {
            "born": 1966,
            "id": "node-20",
            "labels": "Person",
            "name": "Kiefer Sutherland"
           },
           {
            "born": 1958,
            "id": "node-19",
            "labels": "Person",
            "name": "Kevin Bacon"
           }
          ]
         }
        ],
        "style": {
         "edgeStyle": {
          "width": {
           "id": "fixed",
           "value": 1
          }
         },
         "layout": {
          "nodeSep": 12,
          "rankSep": 50,
          "rankdir": "TB",
          "type": "dagre",
          "workerEnabled": true
         },
         "nodeStyle": {
          "color": {
           "id": "legend",
           "mapping": {
            "Movie": "#f28e2c",
            "Person": "#4e79a7"
           },
           "variable": "labels"
          },
          "label": [
           "name",
           "title"
          ],
          "size": {
           "id": "fixed",
           "value": 20
          }
         }
        }
       }
      }
     },
     "9f4f5afb20c54353b4f611efd72ed7e5": {
      "model_module": "@cylynx/pymotif",
      "model_module_version": "^0.0.1",
      "model_name": "MotifModel",
      "state": {
       "_model_module_version": "^0.0.1",
       "_view_module_version": "^0.0.1",
       "layout": "IPY_MODEL_1c9f640b99174b9d888d8d4a2e1bf3b1",
       "state": {
        "data": [
         {
          "edges": [
           {
            "amount": 1000000,
            "balance": 200000,
            "category": "ib_txn",
            "data": {},
            "date": "2020-01-01T00:00:00",
            "defaultStyle": {},
            "id": "ib_txn_1",
            "is_foreign_source": 0,
            "is_foreign_target": 1,
            "is_high_risk_source_target_location": 0,
            "relation": "ib_transfer",
            "source": "account_103",
            "source_owner": "customer_103",
            "target": "account_904",
            "target_owner": "other_banks",
            "time": "00:00:00"
           },
           {
            "amount": 100000,
            "balance": "-",
            "category": "ib_txn",
            "data": {},
            "date": "2020-01-02T01:00:00",
            "defaultStyle": {},
            "id": "ib_txn_2",
            "is_foreign_source": 1,
            "is_foreign_target": 0,
            "is_high_risk_source_target_location": 0,
            "relation": "ib_transfer",
            "source": "account_903",
            "source_owner": "other_banks",
            "target": "account_103",
            "target_owner": "customer_103",
            "time": "01:00:00"
           },
           {
            "amount": 50000,
            "balance": 250000,
            "category": "ib_txn",
            "data": {},
            "date": "2020-01-02T02:00:00",
            "defaultStyle": {},
            "id": "ib_txn_3",
            "is_foreign_source": 0,
            "is_foreign_target": 1,
            "is_high_risk_source_target_location": 0,
            "relation": "ib_transfer",
            "source": "account_103",
            "source_owner": "customer_103",
            "target": "account_904",
            "target_owner": "other_banks",
            "time": "02:00:00"
           },
           {
            "amount": 2000000,
            "balance": "-",
            "category": "ib_txn",
            "data": {},
            "date": "2020-01-01T03:00:00",
            "defaultStyle": {},
            "id": "ib_txn_4",
            "is_foreign_source": 1,
            "is_foreign_target": 0,
            "is_high_risk_source_target_location": 0,
            "relation": "ib_transfer",
            "source": "account_904",
            "source_owner": "other_banks",
            "target": "account_103",
            "target_owner": "customer_103",
            "time": "03:00:00"
           },
           {
            "amount": 1000000,
            "balance": 1250000,
            "category": "ib_txn",
            "data": {},
            "date": "2020-01-02T04:00:00",
            "defaultStyle": {},
            "id": "ib_txn_5",
            "is_foreign_source": 0,
            "is_foreign_target": 1,
            "is_high_risk_source_target_location": 0,
            "relation": "ib_transfer",
            "source": "account_103",
            "source_owner": "customer_103",
            "target": "account_903",
            "target_owner": "other_banks",
            "time": "04:00:00"
           },
           {
            "amount": 1000000,
            "balance": 250000,
            "category": "ib_txn",
            "data": {},
            "date": "2020-01-02T05:00:00",
            "defaultStyle": {},
            "id": "ib_txn_6",
            "is_foreign_source": 0,
            "is_foreign_target": 1,
            "is_high_risk_source_target_location": 0,
            "relation": "ib_transfer",
            "source": "account_103",
            "source_owner": "customer_103",
            "target": "account_903",
            "target_owner": "other_banks",
            "time": "05:00:00"
           },
           {
            "amount": 250000,
            "balance": 10000,
            "category": "ib_txn",
            "data": {},
            "date": "2020-01-01T06:00:00",
            "defaultStyle": {},
            "id": "ib_txn_7",
            "is_foreign_source": 0,
            "is_foreign_target": 0,
            "is_high_risk_source_target_location": 0,
            "relation": "ib_transfer",
            "source": "account_901",
            "source_owner": "customer_901",
            "target": "account_103",
            "target_owner": "customer_103",
            "time": "06:00:00"
           },
           {
            "amount": 250000,
            "balance": 300000,
            "category": "ib_txn",
            "data": {},
            "date": "2020-01-01T06:30:00",
            "defaultStyle": {},
            "id": "ib_txn_8",
            "is_foreign_source": 0,
            "is_foreign_target": 0,
            "is_high_risk_source_target_location": 0,
            "relation": "ib_transfer",
            "source": "account_902",
            "source_owner": "customer_902",
            "target": "account_103",
            "target_owner": "customer_103",
            "time": "06:30:00"
           },
           {
            "amount": 250000,
            "balance": "-",
            "category": "ib_txn",
            "data": {},
            "date": "2020-01-02T06:00:00",
            "defaultStyle": {},
            "id": "ib_txn_9",
            "is_foreign_source": 1,
            "is_foreign_target": 0,
            "is_high_risk_source_target_location": 0,
            "relation": "ib_transfer",
            "source": "account_903",
            "source_owner": "other_banks",
            "target": "account_103",
            "target_owner": "customer_103",
            "time": "06:00:00"
           },
           {
            "amount": 250000,
            "balance": "-",
            "category": "ib_txn",
            "data": {},
            "date": "2020-01-01T00:00:00",
            "defaultStyle": {},
            "id": "ib_txn_10",
            "is_foreign_source": 1,
            "is_foreign_target": 0,
            "is_high_risk_source_target_location": 0,
            "relation": "ib_transfer",
            "source": "account_904",
            "source_owner": "other_banks",
            "target": "account_103",
            "target_owner": "customer_103",
            "time": "00:00:00"
           },
           {
            "amount": 125000,
            "balance": 225000,
            "category": "ib_txn",
            "data": {},
            "date": "2020-01-03T22:00:00",
            "defaultStyle": {},
            "id": "ib_txn_72",
            "is_foreign_source": 0,
            "is_foreign_target": 0,
            "is_high_risk_source_target_location": 0,
            "relation": "ib_transfer",
            "source": "account_7",
            "source_owner": "customer_7",
            "target": "account_103",
            "target_owner": "customer_103",
            "time": "22:00:00"
           },
           {
            "amount": 250000,
            "balance": 475000,
            "category": "ib_txn",
            "data": {},
            "date": "2020-01-03T22:00:00",
            "defaultStyle": {},
            "id": "ib_txn_73",
            "is_foreign_source": 0,
            "is_foreign_target": 0,
            "is_high_risk_source_target_location": 0,
            "relation": "ib_transfer",
            "source": "account_55",
            "source_owner": "customer_55",
            "target": "account_103",
            "target_owner": "customer_103",
            "time": "22:00:00"
           },
           {
            "amount": 150000,
            "balance": 625000,
            "category": "ib_txn",
            "data": {},
            "date": "2020-01-04T18:00:00",
            "defaultStyle": {},
            "id": "ib_txn_74",
            "is_foreign_source": 0,
            "is_foreign_target": 0,
            "is_high_risk_source_target_location": 0,
            "relation": "ib_transfer",
            "source": "account_20",
            "source_owner": "customer_20",
            "target": "account_103",
            "target_owner": "customer_103",
            "time": "18:00:00"
           },
           {
            "amount": 300000,
            "balance": 925000,
            "category": "ib_txn",
            "data": {},
            "date": "2020-01-04T18:00:00",
            "defaultStyle": {},
            "id": "ib_txn_75",
            "is_foreign_source": 0,
            "is_foreign_target": 0,
            "is_high_risk_source_target_location": 0,
            "relation": "ib_transfer",
            "source": "account_81",
            "source_owner": "customer_81",
            "target": "account_103",
            "target_owner": "customer_103",
            "time": "18:00:00"
           },
           {
            "category": "ownership",
            "data": {},
            "defaultStyle": {},
            "id": "ownership_210",
            "relation": "owns",
            "source": "customer_7",
            "target": "account_7"
           },
           {
            "category": "ownership",
            "data": {},
            "defaultStyle": {},
            "id": "ownership_223",
            "relation": "owns",
            "source": "customer_20",
            "target": "account_20"
           },
           {
            "category": "ownership",
            "data": {},
            "defaultStyle": {},
            "id": "ownership_258",
            "relation": "owns",
            "source": "customer_55",
            "target": "account_55"
           },
           {
            "category": "ownership",
            "data": {},
            "defaultStyle": {},
            "id": "ownership_284",
            "relation": "owns",
            "source": "customer_81",
            "target": "account_81"
           },
           {
            "category": "ownership",
            "data": {},
            "defaultStyle": {},
            "id": "ownership_306",
            "relation": "owns",
            "source": "customer_103",
            "target": "account_103"
           },
           {
            "category": "ownership",
            "data": {},
            "defaultStyle": {},
            "id": "ownership_307",
            "relation": "owns",
            "source": "customer_901",
            "target": "account_901"
           },
           {
            "category": "ownership",
            "data": {},
            "defaultStyle": {},
            "id": "ownership_308",
            "relation": "owns",
            "source": "customer_902",
            "target": "account_902"
           },
           {
            "category": "ownership",
            "data": {},
            "defaultStyle": {},
            "id": "ownership_310",
            "relation": "owns",
            "source": "other_banks",
            "target": "account_903"
           },
           {
            "category": "ownership",
            "data": {},
            "defaultStyle": {},
            "id": "ownership_311",
            "relation": "owns",
            "source": "other_banks",
            "target": "account_904"
           }
          ],
          "metadata": {
           "fields": {
            "edges": [
             {
              "analyzerType": "INT",
              "format": "",
              "name": "amount",
              "type": "integer"
             },
             {
              "analyzerType": "STRING",
              "format": "",
              "name": "category",
              "type": "string"
             },
             {
              "analyzerType": "DATETIME",
              "format": "YYYY-M-DTH:m:s",
              "name": "date",
              "type": "timestamp"
             },
             {
              "analyzerType": "STRING",
              "format": "",
              "name": "id",
              "type": "string"
             },
             {
              "analyzerType": "INT",
              "format": "",
              "name": "is_foreign_source",
              "type": "integer"
             },
             {
              "analyzerType": "INT",
              "format": "",
              "name": "is_foreign_target",
              "type": "integer"
             },
             {
              "analyzerType": "INT",
              "format": "",
              "name": "is_high_risk_source_target_location",
              "type": "integer"
             },
             {
              "analyzerType": "STRING",
              "format": "",
              "name": "relation",
              "type": "string"
             },
             {
              "analyzerType": "STRING",
              "format": "",
              "name": "source",
              "type": "string"
             },
             {
              "analyzerType": "STRING",
              "format": "",
              "name": "source_owner",
              "type": "string"
             },
             {
              "analyzerType": "STRING",
              "format": "",
              "name": "target",
              "type": "string"
             },
             {
              "analyzerType": "STRING",
              "format": "",
              "name": "target_owner",
              "type": "string"
             },
             {
              "analyzerType": "TIME",
              "format": "H:m:s",
              "name": "time",
              "type": "time"
             }
            ],
            "nodes": [
             {
              "analyzerType": "DATETIME",
              "format": "YYYY-M-DTH:m:s",
              "name": "create_date",
              "type": "timestamp"
             },
             {
              "analyzerType": "STRING",
              "format": "",
              "name": "icon",
              "type": "string"
             },
             {
              "analyzerType": "STRING",
              "format": "",
              "name": "id",
              "type": "string"
             },
             {
              "analyzerType": "INT",
              "format": "",
              "name": "is_different_bank",
              "type": "integer"
             },
             {
              "analyzerType": "STRING",
              "format": "",
              "name": "address",
              "type": "string"
             },
             {
              "analyzerType": "STRING",
              "format": "",
              "name": "customer_type",
              "type": "string"
             },
             {
              "analyzerType": "STRING",
              "format": "",
              "name": "first_name",
              "type": "string"
             },
             {
              "analyzerType": "STRING",
              "format": "",
              "name": "last_name",
              "type": "string"
             },
             {
              "analyzerType": "STRING",
              "format": "",
              "name": "phone",
              "type": "string"
             },
             {
              "analyzerType": "STRING",
              "format": "",
              "name": "remarks",
              "type": "string"
             },
             {
              "analyzerType": "STRING",
              "format": "",
              "name": "risk_category",
              "type": "string"
             },
             {
              "analyzerType": "INT",
              "format": "",
              "name": "risk_score",
              "type": "integer"
             }
            ]
           },
           "groupEdges": {
            "availability": true,
            "toggle": true
           },
           "key": "K6T5dLXLY",
           "title": "Banking Connections"
          },
          "nodes": [
           {
            "create_date": "2019-01-03T00:00:00",
            "data": {},
            "defaultStyle": {},
            "icon": "account_balance",
            "id": "account_7",
            "is_different_bank": 0
           },
           {
            "create_date": "2019-01-05T00:00:00",
            "data": {},
            "defaultStyle": {},
            "icon": "account_balance",
            "id": "account_20",
            "is_different_bank": 0
           },
           {
            "create_date": "2019-01-07T00:00:00",
            "data": {},
            "defaultStyle": {},
            "icon": "account_balance",
            "id": "account_55",
            "is_different_bank": 0
           },
           {
            "create_date": "2019-01-15T00:00:00",
            "data": {},
            "defaultStyle": {},
            "icon": "account_balance",
            "id": "account_81",
            "is_different_bank": 0
           },
           {
            "create_date": "2019-01-15T00:00:00",
            "data": {},
            "defaultStyle": {},
            "icon": "account_balance",
            "id": "account_103",
            "is_different_bank": 0
           },
           {
            "create_date": "2019-01-03T00:00:00",
            "data": {},
            "defaultStyle": {},
            "icon": "account_balance",
            "id": "account_901",
            "is_different_bank": 0
           },
           {
            "create_date": "2019-01-10T00:00:00",
            "data": {},
            "defaultStyle": {},
            "icon": "account_balance",
            "id": "account_902",
            "is_different_bank": 0
           },
           {
            "create_date": "2019-01-09T00:00:00",
            "data": {},
            "defaultStyle": {},
            "icon": "account_balance",
            "id": "account_903",
            "is_different_bank": 1
           },
           {
            "create_date": "2019-01-08T00:00:00",
            "data": {},
            "defaultStyle": {},
            "icon": "account_balance",
            "id": "account_904",
            "is_different_bank": 1
           },
           {
            "address": "-",
            "customer_type": "retail",
            "data": {},
            "defaultStyle": {},
            "first_name": "-",
            "icon": "account_box",
            "id": "customer_7",
            "last_name": "-",
            "phone": "-",
            "remarks": "high-value IB txn into customer 103's account",
            "risk_category": "medium",
            "risk_score": 50
           },
           {
            "address": "-",
            "customer_type": "retail",
            "data": {},
            "defaultStyle": {},
            "first_name": "-",
            "icon": "account_box",
            "id": "customer_20",
            "last_name": "-",
            "phone": "-",
            "remarks": "high-value IB txn into customer 103's account",
            "risk_category": "medium",
            "risk_score": 50
           },
           {
            "address": "-",
            "customer_type": "retail",
            "data": {},
            "defaultStyle": {},
            "first_name": "-",
            "icon": "account_box",
            "id": "customer_55",
            "last_name": "-",
            "phone": "-",
            "remarks": "high-value IB txn into customer 103's account",
            "risk_category": "medium",
            "risk_score": 50
           },
           {
            "address": "-",
            "customer_type": "retail",
            "data": {},
            "defaultStyle": {},
            "first_name": "-",
            "icon": "account_box",
            "id": "customer_81",
            "last_name": "-",
            "phone": "-",
            "remarks": "high-value IB txn into customer 103's account",
            "risk_category": "medium",
            "risk_score": 50
           },
           {
            "address": "103 RD",
            "customer_type": "retail",
            "data": {},
            "defaultStyle": {},
            "first_name": "john",
            "icon": "account_box",
            "id": "customer_103",
            "last_name": "doe",
            "phone": "+65 0000 0103",
            "remarks": "high-value purchases from luxury retailer. source of funds from 4 related accounts",
            "risk_category": "high",
            "risk_score": 99
           },
           {
            "address": "901 RD",
            "customer_type": "retail",
            "data": {},
            "defaultStyle": {},
            "first_name": "jane",
            "icon": "account_box",
            "id": "customer_901",
            "last_name": "doe",
            "phone": "+65 0000 0103",
            "remarks": "source of funds for customer 103's purchase of luxury items. customer has same phone number as customer 103.",
            "risk_category": "medium",
            "risk_score": 74
           },
           {
            "address": "103 RD",
            "customer_type": "retail",
            "data": {},
            "defaultStyle": {},
            "first_name": "jim",
            "icon": "account_box",
            "id": "customer_902",
            "last_name": "smith",
            "phone": "+65 0000 0902",
            "remarks": "source of funds for customer 103's purchase of luxury items. customer has same address as customer 103.",
            "risk_category": "medium",
            "risk_score": 74
           },
           {
            "address": "-",
            "customer_type": "-",
            "data": {},
            "defaultStyle": {},
            "first_name": "-",
            "icon": "-",
            "id": "other_banks",
            "last_name": "-",
            "phone": "-",
            "remarks": "other banks",
            "risk_category": "-",
            "risk_score": "-"
           }
          ]
         }
        ],
        "style": {
         "edgeStyle": {
          "label": "none",
          "width": {
           "id": "fixed",
           "value": 1
          }
         },
         "groupEdges": false,
         "layout": {
          "minNodeSpacing": 50,
          "preventOverlap": true,
          "sortBy": "degree",
          "type": "concentric",
          "workerEnabled": true
         },
         "nodeStyle": {
          "color": {
           "id": "fixed",
           "value": "#66c2a5"
          },
          "size": {
           "id": "fixed",
           "value": 20
          }
         },
         "resetView": true
        }
       }
      }
     },
     "b547001cdd8448d48aa9715b3c469100": {
      "model_module": "@cylynx/pymotif",
      "model_module_version": "^0.0.1",
      "model_name": "MotifModel",
      "state": {
       "_model_module_version": "^0.0.1",
       "_view_module_version": "^0.0.1",
       "layout": "IPY_MODEL_f48fcb33b59a441ab5899ad25219097b",
       "state": {
        "data": [
         {
          "edges": [
           {
            "source": "1",
            "target": "2"
           },
           {
            "source": "1",
            "target": "3"
           },
           {
            "source": "1",
            "target": "4"
           },
           {
            "source": "1",
            "target": "5"
           },
           {
            "source": "1",
            "target": "6"
           },
           {
            "source": "1",
            "target": "7"
           },
           {
            "source": "1",
            "target": "8"
           },
           {
            "source": "1",
            "target": "9"
           },
           {
            "source": "1",
            "target": "11"
           },
           {
            "source": "1",
            "target": "12"
           },
           {
            "source": "1",
            "target": "13"
           },
           {
            "source": "1",
            "target": "14"
           },
           {
            "source": "1",
            "target": "18"
           },
           {
            "source": "1",
            "target": "20"
           },
           {
            "source": "1",
            "target": "22"
           },
           {
            "source": "1",
            "target": "32"
           },
           {
            "source": "2",
            "target": "3"
           },
           {
            "source": "2",
            "target": "4"
           },
           {
            "source": "2",
            "target": "8"
           },
           {
            "source": "2",
            "target": "14"
           },
           {
            "source": "2",
            "target": "18"
           },
           {
            "source": "2",
            "target": "20"
           },
           {
            "source": "2",
            "target": "22"
           },
           {
            "source": "2",
            "target": "31"
           },
           {
            "source": "3",
            "target": "4"
           },
           {
            "source": "3",
            "target": "8"
           },
           {
            "source": "3",
            "target": "9"
           },
           {
            "source": "3",
            "target": "10"
           },
           {
            "source": "3",
            "target": "14"
           },
           {
            "source": "3",
            "target": "28"
           },
           {
            "source": "3",
            "target": "29"
           },
           {
            "source": "3",
            "target": "33"
           },
           {
            "source": "4",
            "target": "8"
           },
           {
            "source": "4",
            "target": "13"
           },
           {
            "source": "4",
            "target": "14"
           },
           {
            "source": "5",
            "target": "7"
           },
           {
            "source": "5",
            "target": "11"
           },
           {
            "source": "6",
            "target": "7"
           },
           {
            "source": "6",
            "target": "11"
           },
           {
            "source": "6",
            "target": "17"
           },
           {
            "source": "7",
            "target": "17"
           },
           {
            "source": "9",
            "target": "31"
           },
           {
            "source": "9",
            "target": "33"
           },
           {
            "source": "9",
            "target": "34"
           },
           {
            "source": "10",
            "target": "34"
           },
           {
            "source": "14",
            "target": "34"
           },
           {
            "source": "15",
            "target": "33"
           },
           {
            "source": "15",
            "target": "34"
           },
           {
            "source": "16",
            "target": "33"
           },
           {
            "source": "16",
            "target": "34"
           },
           {
            "source": "19",
            "target": "33"
           },
           {
            "source": "19",
            "target": "34"
           },
           {
            "source": "20",
            "target": "34"
           },
           {
            "source": "21",
            "target": "33"
           },
           {
            "source": "21",
            "target": "34"
           },
           {
            "source": "23",
            "target": "33"
           },
           {
            "source": "23",
            "target": "34"
           },
           {
            "source": "24",
            "target": "26"
           },
           {
            "source": "24",
            "target": "28"
           },
           {
            "source": "24",
            "target": "30"
           },
           {
            "source": "24",
            "target": "33"
           },
           {
            "source": "24",
            "target": "34"
           },
           {
            "source": "25",
            "target": "26"
           },
           {
            "source": "25",
            "target": "28"
           },
           {
            "source": "25",
            "target": "32"
           },
           {
            "source": "26",
            "target": "32"
           },
           {
            "source": "27",
            "target": "30"
           },
           {
            "source": "27",
            "target": "34"
           },
           {
            "source": "28",
            "target": "34"
           },
           {
            "source": "29",
            "target": "32"
           },
           {
            "source": "29",
            "target": "34"
           },
           {
            "source": "30",
            "target": "33"
           },
           {
            "source": "30",
            "target": "34"
           },
           {
            "source": "31",
            "target": "33"
           },
           {
            "source": "31",
            "target": "34"
           },
           {
            "source": "32",
            "target": "33"
           },
           {
            "source": "32",
            "target": "34"
           },
           {
            "source": "33",
            "target": "34"
           }
          ],
          "metadata": {
           "title": "NetworkX"
          },
          "nodes": [
           {
            "id": "1",
            "name": "1",
            "value": "1"
           },
           {
            "id": "2",
            "name": "2",
            "value": "2"
           },
           {
            "id": "3",
            "name": "3",
            "value": "3"
           },
           {
            "id": "4",
            "name": "4",
            "value": "4"
           },
           {
            "id": "5",
            "name": "5",
            "value": "5"
           },
           {
            "id": "6",
            "name": "6",
            "value": "6"
           },
           {
            "id": "7",
            "name": "7",
            "value": "7"
           },
           {
            "id": "8",
            "name": "8",
            "value": "8"
           },
           {
            "id": "9",
            "name": "9",
            "value": "9"
           },
           {
            "id": "10",
            "name": "10",
            "value": "10"
           },
           {
            "id": "11",
            "name": "11",
            "value": "11"
           },
           {
            "id": "12",
            "name": "12",
            "value": "12"
           },
           {
            "id": "13",
            "name": "13",
            "value": "13"
           },
           {
            "id": "14",
            "name": "14",
            "value": "14"
           },
           {
            "id": "15",
            "name": "15",
            "value": "15"
           },
           {
            "id": "16",
            "name": "16",
            "value": "16"
           },
           {
            "id": "17",
            "name": "17",
            "value": "17"
           },
           {
            "id": "18",
            "name": "18",
            "value": "18"
           },
           {
            "id": "19",
            "name": "19",
            "value": "19"
           },
           {
            "id": "20",
            "name": "20",
            "value": "20"
           },
           {
            "id": "21",
            "name": "21",
            "value": "21"
           },
           {
            "id": "22",
            "name": "22",
            "value": "22"
           },
           {
            "id": "23",
            "name": "23",
            "value": "23"
           },
           {
            "id": "24",
            "name": "24",
            "value": "24"
           },
           {
            "id": "25",
            "name": "25",
            "value": "25"
           },
           {
            "id": "26",
            "name": "26",
            "value": "26"
           },
           {
            "id": "27",
            "name": "27",
            "value": "27"
           },
           {
            "id": "28",
            "name": "28",
            "value": "28"
           },
           {
            "id": "29",
            "name": "29",
            "value": "29"
           },
           {
            "id": "30",
            "name": "30",
            "value": "30"
           },
           {
            "id": "31",
            "name": "31",
            "value": "31"
           },
           {
            "id": "32",
            "name": "32",
            "value": "32"
           },
           {
            "id": "33",
            "name": "33",
            "value": "33"
           },
           {
            "id": "34",
            "name": "34",
            "value": "34"
           }
          ]
         }
        ],
        "style": {}
       }
      }
     },
     "f48fcb33b59a441ab5899ad25219097b": {
      "model_module": "@jupyter-widgets/base",
      "model_module_version": "1.2.0",
      "model_name": "LayoutModel",
      "state": {}
     }
    },
    "version_major": 2,
    "version_minor": 0
   }
  }
 },
 "nbformat": 4,
 "nbformat_minor": 4
}
