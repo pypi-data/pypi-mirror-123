{
 "cells": [
  {
   "cell_type": "markdown",
   "id": "05461b94-3b60-40c0-90c1-8e072004cbe8",
   "metadata": {},
   "source": [
    "# Neo4j Demo"
   ]
  },
  {
   "cell_type": "code",
   "execution_count": null,
   "id": "c6584545-1f97-488f-89d7-663212849c84",
   "metadata": {},
   "outputs": [],
   "source": [
    "from pymotif import Motif\n",
    "\n",
    "import neo4j\n",
    "import networkx as nx"
   ]
  },
  {
   "cell_type": "markdown",
   "id": "25d58d7c-6047-491c-b170-f998c3daa8d1",
   "metadata": {},
   "source": [
    "## Try It Yourself\n",
    "\n",
    "Connect to your own Neo4j database, issue queries, and plot your results in Motif!"
   ]
  },
  {
   "cell_type": "code",
   "execution_count": null,
   "id": "985b1144-26e3-4ddb-b229-887b47515eab",
   "metadata": {},
   "outputs": [],
   "source": [
    "uri = # YOUR_URI\n",
    "auth = # YOUR_AUTH_DETAILS\n",
    "query = # YOUR_QUERY\n",
    "\n",
    "# get query results and create a Motif object from it\n",
    "driver = neo4j.GraphDatabase.driver(uri=uri,auth=auth)\n",
    "results = driver.session().run(query)\n",
    "motif = Motif(neo4j_graph=results.graph(), title='my neo4j graph')\n",
    "\n",
    "motif.plot()"
   ]
  },
  {
   "cell_type": "code",
   "execution_count": null,
   "id": "85e8c610-d83b-4f0d-b48d-cb533b816c75",
   "metadata": {},
   "outputs": [],
   "source": [
    "# Close connection\n",
    "driver.close()"
   ]
  },
  {
   "cell_type": "markdown",
   "id": "4619eb3f-5a82-4efb-9e08-a37c5719f839",
   "metadata": {},
   "source": [
    "## No Database Yet?\n",
    "\n",
    "You can easily set up a temporary Neo4j database at https://sandbox.neo4j.com/ - the following examples use datasets that are readily available in those sandboxes. Replace the URI and auth  and you should be able to query from your own sandbox as well!"
   ]
  },
  {
   "cell_type": "markdown",
   "id": "fa0668a2-61c9-4d3e-9d77-ebc5ee68ee48",
   "metadata": {},
   "source": [
    "## Movies Dataset"
   ]
  },
  {
   "cell_type": "code",
   "execution_count": null,
   "id": "ce3725f3-98dc-4e9c-98ff-b9567d4e0ce3",
   "metadata": {},
   "outputs": [],
   "source": [
    "# neo4j sandbox\n",
    "movies_uri = 'bolt://<IP ADDRESS>:7687'\n",
    "movies_auth = ('<USERNAME>', '<PASSWORD>')\n",
    "movies_driver = neo4j.GraphDatabase.driver(uri=movies_uri, auth=movies_auth)\n",
    "\n",
    "movies_query = 'MATCH (p:Person)-[r]->(m:Movie) RETURN * LIMIT 20'\n",
    "\n",
    "# get query results and create a Motif object from it\n",
    "movies_results = movies_driver.session().run(movies_query)\n",
    "movies = Motif(neo4j_graph=movies_results.graph(), title='movies neo4j graph')"
   ]
  },
  {
   "cell_type": "code",
   "execution_count": null,
   "id": "6300653c-21e8-4281-8754-5cd7a47fe7a4",
   "metadata": {},
   "outputs": [],
   "source": [
    "# plot the neo4j graph\n",
    "movies.plot()"
   ]
  },
  {
   "cell_type": "code",
   "execution_count": null,
   "id": "df73374f-37c1-480b-9f96-4350e8dc5706",
   "metadata": {},
   "outputs": [],
   "source": [
    "# Close connection\n",
    "movies_driver.close()"
   ]
  },
  {
   "cell_type": "markdown",
   "id": "14303ae1-da1e-4bd2-8647-ca4cbe624bd6",
   "metadata": {},
   "source": [
    "## Fraud Detection Dataset (Paysim)"
   ]
  },
  {
   "cell_type": "code",
   "execution_count": null,
   "id": "b75b7c6d-b562-44f4-b8d0-2f06e1bdb4c9",
   "metadata": {},
   "outputs": [],
   "source": [
    "# neo4j sandbox\n",
    "paysim_uri = 'bolt://<IP ADDRESS>:7687'\n",
    "paysim_auth = ('<USERNAME>', '<PASSWORD>')\n",
    "paysim_driver = neo4j.GraphDatabase.driver(uri=paysim_uri,auth=paysim_auth)\n",
    "\n",
    "paysim_query = '''\n",
    "    MATCH (m:Merchant)<-[:TO]-(r1:Transaction)<-[r2:PERFORMED]-(c:Client) RETURN * LIMIT 20\n",
    "'''\n",
    "\n",
    "# get query results and create a Motif object from it\n",
    "paysim_results = paysim_driver.session().run(paysim_query)\n",
    "paysim = Motif(neo4j_graph=paysim_results.graph(), title='paysim neo4j graph')"
   ]
  },
  {
   "cell_type": "code",
   "execution_count": null,
   "id": "3e7d3220-ce72-4836-854e-8d48b1d262a6",
   "metadata": {},
   "outputs": [],
   "source": [
    "# plot the neo4j graph\n",
    "paysim.plot()"
   ]
  },
  {
   "cell_type": "code",
   "execution_count": null,
   "id": "59936be8-8671-45ef-9bef-e87176afe1d4",
   "metadata": {},
   "outputs": [],
   "source": [
    "# Close connection\n",
    "paysim_driver.close()"
   ]
  },
  {
   "cell_type": "markdown",
   "id": "9370f13a-1a83-44e0-8772-9a0aed914127",
   "metadata": {},
   "source": [
    "## Create Own Dataset (Football)\n",
    "\n",
    "Assuming you've set up a blank sandbox, you can insert your own data and plot it as well."
   ]
  },
  {
   "cell_type": "code",
   "execution_count": null,
   "id": "463b0dc6-c851-419a-ab6f-4f6c90b1d704",
   "metadata": {},
   "outputs": [],
   "source": [
    "# ref: https://neo4j.com/labs/apoc/4.1/graph-querying/path-querying/#path-functions-examples\n",
    "\n",
    "# neo4j sandbox\n",
    "football_uri = 'bolt://<IP ADDRESS>:7687'\n",
    "football_auth = ('<USERNAME>', '<PASSWORD>')\n",
    "football_driver = neo4j.GraphDatabase.driver(uri=football_uri,auth=football_auth)\n",
    "\n",
    "football_insert = '''\n",
    "    MERGE (manUtd:Club {name: 'Man Utd'})\n",
    "    MERGE (juventus:Club {name: 'Juventus'})\n",
    "    MERGE (flamengo:Club {name: 'Flamengo'})\n",
    "\n",
    "    MERGE (premierLeague:League {name: 'Premier League'})\n",
    "    MERGE (serieA:League {name: 'Serie A'})\n",
    "    MERGE (brasileirao:League {name: 'Brasileirão'})\n",
    "\n",
    "    MERGE (england:Country {name: 'England'})\n",
    "    MERGE (brazil:Country {name: 'Brazil'})\n",
    "\n",
    "    MERGE (uefa:Confederation {name: 'UEFA'})\n",
    "\n",
    "    MERGE (manUtd)-[:IN_LEAGUE]->(premierLeague)\n",
    "    MERGE (premierLeague)-[:IN_COUNTRY]->(england)\n",
    "    MERGE (england)-[:IN_CONFEDERATION]->(uefa)\n",
    "\n",
    "    MERGE (juventus)-[:IN_LEAGUE]->(serieA)\n",
    "\n",
    "    MERGE (flamengo)-[:IN_LEAGUE]->(brasileirao)\n",
    "    MERGE (brasileirao)-[:IN_COUNTRY]->(brazil);\n",
    "'''\n",
    "\n",
    "# football_driver.session().run(football_insert)\n",
    "\n",
    "# path query\n",
    "football_query = '''\n",
    "    MATCH (club:Club)\n",
    "    OPTIONAL MATCH (club)-[inLeague:IN_LEAGUE]->(league)\n",
    "    OPTIONAL MATCH (league)-[inCountry:IN_COUNTRY]->(country)\n",
    "    OPTIONAL MATCH (country)-[inConfederation:IN_CONFEDERATION]->(confederation)\n",
    "    RETURN club.name, apoc.path.create(club, [inLeague, inCountry, inConfederation]) AS path\n",
    "    ORDER BY length(path);\n",
    "'''\n",
    "\n",
    "# get query results and create a Motif object from it\n",
    "football_results = football_driver.session().run(football_query)\n",
    "football = Motif(neo4j_graph=football_results.graph(), title='football neo4j graph')"
   ]
  },
  {
   "cell_type": "code",
   "execution_count": null,
   "id": "284b620d-3b71-46d0-8798-b7486055a6cb",
   "metadata": {},
   "outputs": [],
   "source": [
    "# plot the neo4j graph\n",
    "football.plot()"
   ]
  },
  {
   "cell_type": "code",
   "execution_count": null,
   "id": "cbf311da-3438-40ab-a6e3-3e82707e4ba8",
   "metadata": {},
   "outputs": [],
   "source": [
    "# Close connection\n",
    "football_driver.close()"
   ]
  }
 ],
 "metadata": {
  "kernelspec": {
   "display_name": "Python 3",
   "language": "python",
   "name": "python3"
  },
  "language_info": {
   "codemirror_mode": {
    "name": "ipython",
    "version": 3
   },
   "file_extension": ".py",
   "mimetype": "text/x-python",
   "name": "python",
   "nbconvert_exporter": "python",
   "pygments_lexer": "ipython3",
   "version": "3.9.4"
  },
  "widgets": {
   "application/vnd.jupyter.widget-state+json": {
    "state": {},
    "version_major": 2,
    "version_minor": 0
   }
  }
 },
 "nbformat": 4,
 "nbformat_minor": 5
}
