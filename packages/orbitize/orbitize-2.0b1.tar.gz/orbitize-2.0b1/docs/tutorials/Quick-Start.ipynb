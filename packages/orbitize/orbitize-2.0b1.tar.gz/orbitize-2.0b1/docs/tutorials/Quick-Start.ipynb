{
 "cells": [
  {
   "cell_type": "markdown",
   "metadata": {},
   "source": [
    "# Quick Start"
   ]
  },
  {
   "cell_type": "markdown",
   "metadata": {},
   "source": [
    "This brief tutorial goes through the most minimal code you could write to do an orbit fit with `orbitize!`. It uses an input .csv that was placed on your computer when you installed `orbitize!`. The file lives here:"
   ]
  },
  {
   "cell_type": "code",
   "execution_count": 1,
   "metadata": {},
   "outputs": [
    {
     "name": "stdout",
     "output_type": "stream",
     "text": [
      "/Users/bluez3303/Documents/GitHub/orbitize/orbitize/example_data/GJ504.csv\n"
     ]
    }
   ],
   "source": [
    "import orbitize\n",
    "\n",
    "path_to_file = '{}GJ504.csv'.format(orbitize.DATADIR)\n",
    "\n",
    "print(path_to_file)"
   ]
  },
  {
   "cell_type": "markdown",
   "metadata": {},
   "source": [
    "The input .csv file looks like this:"
   ]
  },
  {
   "cell_type": "code",
   "execution_count": 2,
   "metadata": {},
   "outputs": [
    {
     "data": {
      "text/html": [
       "<i>Table length=7</i>\n",
       "<table id=\"table140715255427216\" class=\"table-striped table-bordered table-condensed\">\n",
       "<thead><tr><th>epoch</th><th>object</th><th>quant1</th><th>quant1_err</th><th>quant2</th><th>quant2_err</th><th>quant12_corr</th><th>quant_type</th><th>instrument</th></tr></thead>\n",
       "<thead><tr><th>float64</th><th>int64</th><th>float64</th><th>float64</th><th>float64</th><th>float64</th><th>float64</th><th>bytes5</th><th>bytes5</th></tr></thead>\n",
       "<tr><td>55645.95</td><td>1</td><td>2479.0</td><td>16.0</td><td>327.94</td><td>0.39</td><td>nan</td><td>seppa</td><td>defsp</td></tr>\n",
       "<tr><td>55702.89</td><td>1</td><td>2483.0</td><td>8.0</td><td>327.45</td><td>0.19</td><td>nan</td><td>seppa</td><td>defsp</td></tr>\n",
       "<tr><td>55785.015</td><td>1</td><td>2481.0</td><td>33.0</td><td>326.84</td><td>0.94</td><td>nan</td><td>seppa</td><td>defsp</td></tr>\n",
       "<tr><td>55787.935</td><td>1</td><td>2448.0</td><td>24.0</td><td>325.82</td><td>0.66</td><td>nan</td><td>seppa</td><td>defsp</td></tr>\n",
       "<tr><td>55985.19400184</td><td>1</td><td>2483.0</td><td>15.0</td><td>326.46</td><td>0.36</td><td>nan</td><td>seppa</td><td>defsp</td></tr>\n",
       "<tr><td>56029.11400323</td><td>1</td><td>2487.0</td><td>8.0</td><td>326.54</td><td>0.18</td><td>nan</td><td>seppa</td><td>defsp</td></tr>\n",
       "<tr><td>56072.30200459</td><td>1</td><td>2499.0</td><td>26.0</td><td>326.14</td><td>0.61</td><td>nan</td><td>seppa</td><td>defsp</td></tr>\n",
       "</table>"
      ],
      "text/plain": [
       "<Table length=7>\n",
       "    epoch      object  quant1 quant1_err ... quant12_corr quant_type instrument\n",
       "   float64     int64  float64  float64   ...   float64      bytes5     bytes5  \n",
       "-------------- ------ ------- ---------- ... ------------ ---------- ----------\n",
       "      55645.95      1  2479.0       16.0 ...          nan      seppa      defsp\n",
       "      55702.89      1  2483.0        8.0 ...          nan      seppa      defsp\n",
       "     55785.015      1  2481.0       33.0 ...          nan      seppa      defsp\n",
       "     55787.935      1  2448.0       24.0 ...          nan      seppa      defsp\n",
       "55985.19400184      1  2483.0       15.0 ...          nan      seppa      defsp\n",
       "56029.11400323      1  2487.0        8.0 ...          nan      seppa      defsp\n",
       "56072.30200459      1  2499.0       26.0 ...          nan      seppa      defsp"
      ]
     },
     "execution_count": 2,
     "metadata": {},
     "output_type": "execute_result"
    }
   ],
   "source": [
    "from orbitize import read_input\n",
    "\n",
    "read_input.read_file(path_to_file)"
   ]
  },
  {
   "cell_type": "code",
   "execution_count": 3,
   "metadata": {},
   "outputs": [
    {
     "name": "stdout",
     "output_type": "stream",
     "text": [
      "574/1000 orbits found\r"
     ]
    },
    {
     "ename": "KeyboardInterrupt",
     "evalue": "",
     "output_type": "error",
     "traceback": [
      "\u001b[0;31m---------------------------------------------------------------------------\u001b[0m",
      "\u001b[0;31mKeyboardInterrupt\u001b[0m                         Traceback (most recent call last)",
      "\u001b[0;32m<ipython-input-3-6439d5d6ed59>\u001b[0m in \u001b[0;36m<module>\u001b[0;34m\u001b[0m\n\u001b[1;32m     12\u001b[0m     \u001b[0mplx_err\u001b[0m\u001b[0;34m=\u001b[0m\u001b[0;36m0.26\u001b[0m   \u001b[0;31m# parallax error [mas]\u001b[0m\u001b[0;34m\u001b[0m\u001b[0;34m\u001b[0m\u001b[0m\n\u001b[1;32m     13\u001b[0m )\n\u001b[0;32m---> 14\u001b[0;31m \u001b[0morbits\u001b[0m \u001b[0;34m=\u001b[0m \u001b[0mmyDriver\u001b[0m\u001b[0;34m.\u001b[0m\u001b[0msampler\u001b[0m\u001b[0;34m.\u001b[0m\u001b[0mrun_sampler\u001b[0m\u001b[0;34m(\u001b[0m\u001b[0;36m1000\u001b[0m\u001b[0;34m)\u001b[0m\u001b[0;34m\u001b[0m\u001b[0;34m\u001b[0m\u001b[0m\n\u001b[0m\u001b[1;32m     15\u001b[0m \u001b[0;34m\u001b[0m\u001b[0m\n\u001b[1;32m     16\u001b[0m \u001b[0;31m# plot the results\u001b[0m\u001b[0;34m\u001b[0m\u001b[0;34m\u001b[0m\u001b[0;34m\u001b[0m\u001b[0m\n",
      "\u001b[0;32m~/Documents/GitHub/orbitize/orbitize/sampler.py\u001b[0m in \u001b[0;36mrun_sampler\u001b[0;34m(self, total_orbits, num_samples, num_cores, use_c, use_gpu)\u001b[0m\n\u001b[1;32m    512\u001b[0m             \u001b[0;32mwhile\u001b[0m \u001b[0morbits_saved\u001b[0m\u001b[0;34m.\u001b[0m\u001b[0mvalue\u001b[0m \u001b[0;34m<\u001b[0m \u001b[0mtotal_orbits\u001b[0m\u001b[0;34m:\u001b[0m\u001b[0;34m\u001b[0m\u001b[0;34m\u001b[0m\u001b[0m\n\u001b[1;32m    513\u001b[0m                 \u001b[0mprint\u001b[0m\u001b[0;34m(\u001b[0m\u001b[0mstr\u001b[0m\u001b[0;34m(\u001b[0m\u001b[0morbits_saved\u001b[0m\u001b[0;34m.\u001b[0m\u001b[0mvalue\u001b[0m\u001b[0;34m)\u001b[0m\u001b[0;34m+\u001b[0m\u001b[0;34m'/'\u001b[0m\u001b[0;34m+\u001b[0m\u001b[0mstr\u001b[0m\u001b[0;34m(\u001b[0m\u001b[0mtotal_orbits\u001b[0m\u001b[0;34m)\u001b[0m\u001b[0;34m+\u001b[0m\u001b[0;34m' orbits found'\u001b[0m\u001b[0;34m,\u001b[0m \u001b[0mend\u001b[0m\u001b[0;34m=\u001b[0m\u001b[0;34m'\\r'\u001b[0m\u001b[0;34m)\u001b[0m\u001b[0;34m\u001b[0m\u001b[0;34m\u001b[0m\u001b[0m\n\u001b[0;32m--> 514\u001b[0;31m                 \u001b[0mtime\u001b[0m\u001b[0;34m.\u001b[0m\u001b[0msleep\u001b[0m\u001b[0;34m(\u001b[0m\u001b[0;36m0.1\u001b[0m\u001b[0;34m)\u001b[0m\u001b[0;34m\u001b[0m\u001b[0;34m\u001b[0m\u001b[0m\n\u001b[0m\u001b[1;32m    515\u001b[0m \u001b[0;34m\u001b[0m\u001b[0m\n\u001b[1;32m    516\u001b[0m             \u001b[0mprint\u001b[0m\u001b[0;34m(\u001b[0m\u001b[0mstr\u001b[0m\u001b[0;34m(\u001b[0m\u001b[0mtotal_orbits\u001b[0m\u001b[0;34m)\u001b[0m\u001b[0;34m+\u001b[0m\u001b[0;34m'/'\u001b[0m\u001b[0;34m+\u001b[0m\u001b[0mstr\u001b[0m\u001b[0;34m(\u001b[0m\u001b[0mtotal_orbits\u001b[0m\u001b[0;34m)\u001b[0m\u001b[0;34m+\u001b[0m\u001b[0;34m' orbits found'\u001b[0m\u001b[0;34m,\u001b[0m \u001b[0mend\u001b[0m\u001b[0;34m=\u001b[0m\u001b[0;34m'\\r'\u001b[0m\u001b[0;34m)\u001b[0m\u001b[0;34m\u001b[0m\u001b[0;34m\u001b[0m\u001b[0m\n",
      "\u001b[0;31mKeyboardInterrupt\u001b[0m: "
     ]
    },
    {
     "name": "stderr",
     "output_type": "stream",
     "text": [
      "Process Process-4:\n",
      "Process Process-5:\n",
      "Traceback (most recent call last):\n",
      "Traceback (most recent call last):\n",
      "  File \"/Users/bluez3303/miniconda3/envs/python3.7/lib/python3.7/multiprocessing/process.py\", line 297, in _bootstrap\n",
      "    self.run()\n",
      "  File \"/Users/bluez3303/miniconda3/envs/python3.7/lib/python3.7/multiprocessing/process.py\", line 297, in _bootstrap\n",
      "    self.run()\n",
      "  File \"/Users/bluez3303/miniconda3/envs/python3.7/lib/python3.7/multiprocessing/process.py\", line 99, in run\n",
      "    self._target(*self._args, **self._kwargs)\n",
      "Process Process-3:\n",
      "Process Process-2:\n",
      "Traceback (most recent call last):\n",
      "Traceback (most recent call last):\n",
      "  File \"/Users/bluez3303/miniconda3/envs/python3.7/lib/python3.7/multiprocessing/process.py\", line 297, in _bootstrap\n",
      "    self.run()\n",
      "  File \"/Users/bluez3303/miniconda3/envs/python3.7/lib/python3.7/multiprocessing/process.py\", line 297, in _bootstrap\n",
      "    self.run()\n",
      "  File \"/Users/bluez3303/miniconda3/envs/python3.7/lib/python3.7/multiprocessing/process.py\", line 99, in run\n",
      "    self._target(*self._args, **self._kwargs)\n",
      "  File \"/Users/bluez3303/miniconda3/envs/python3.7/lib/python3.7/multiprocessing/process.py\", line 99, in run\n",
      "    self._target(*self._args, **self._kwargs)\n",
      "  File \"/Users/bluez3303/Documents/GitHub/orbitize/orbitize/sampler.py\", line 436, in _sampler_process\n",
      "    accepted_orbits, lnlikes = self.reject(samples, use_c=use_c, use_gpu=use_gpu)\n",
      "  File \"/Users/bluez3303/Documents/GitHub/orbitize/orbitize/sampler.py\", line 436, in _sampler_process\n",
      "    accepted_orbits, lnlikes = self.reject(samples, use_c=use_c, use_gpu=use_gpu)\n",
      "  File \"/Users/bluez3303/Documents/GitHub/orbitize/orbitize/sampler.py\", line 357, in reject\n",
      "    lnp = self._logl(samples, use_c, use_gpu)\n",
      "  File \"/Users/bluez3303/Documents/GitHub/orbitize/orbitize/sampler.py\", line 357, in reject\n",
      "    lnp = self._logl(samples, use_c, use_gpu)\n",
      "  File \"/Users/bluez3303/Documents/GitHub/orbitize/orbitize/sampler.py\", line 68, in _logl\n",
      "    model, jitter = self.system.compute_model(params, use_c=use_c, use_gpu=use_gpu)\n",
      "  File \"/Users/bluez3303/Documents/GitHub/orbitize/orbitize/sampler.py\", line 68, in _logl\n",
      "    model, jitter = self.system.compute_model(params, use_c=use_c, use_gpu=use_gpu)\n",
      "  File \"/Users/bluez3303/Documents/GitHub/orbitize/orbitize/system.py\", line 514, in compute_model\n",
      "    raoff, decoff, vz = self.compute_all_orbits(standard_params_arr, use_c=use_c, use_gpu=use_gpu)\n",
      "  File \"/Users/bluez3303/Documents/GitHub/orbitize/orbitize/system.py\", line 514, in compute_model\n",
      "    raoff, decoff, vz = self.compute_all_orbits(standard_params_arr, use_c=use_c, use_gpu=use_gpu)\n",
      "  File \"/Users/bluez3303/Documents/GitHub/orbitize/orbitize/system.py\", line 467, in compute_all_orbits\n",
      "    raoff = ra_kepler + ra_perturb\n",
      "KeyboardInterrupt\n",
      "  File \"/Users/bluez3303/Documents/GitHub/orbitize/orbitize/system.py\", line 408, in compute_all_orbits\n",
      "    use_c=use_c, use_gpu=use_gpu\n",
      "  File \"/Users/bluez3303/Documents/GitHub/orbitize/orbitize/kepler.py\", line 124, in calc_orbit\n",
      "    s1 = np.sin(arg1)\n",
      "KeyboardInterrupt\n",
      "  File \"/Users/bluez3303/Documents/GitHub/orbitize/orbitize/sampler.py\", line 435, in _sampler_process\n",
      "    samples = self.prepare_samples(num_samples, use_c=use_c, use_gpu=use_gpu)\n",
      "  File \"/Users/bluez3303/miniconda3/envs/python3.7/lib/python3.7/multiprocessing/process.py\", line 99, in run\n",
      "    self._target(*self._args, **self._kwargs)\n",
      "  File \"/Users/bluez3303/Documents/GitHub/orbitize/orbitize/sampler.py\", line 436, in _sampler_process\n",
      "    accepted_orbits, lnlikes = self.reject(samples, use_c=use_c, use_gpu=use_gpu)\n",
      "  File \"/Users/bluez3303/Documents/GitHub/orbitize/orbitize/sampler.py\", line 293, in prepare_samples\n",
      "    tau_ref_epoch=0, mass_for_Kamp=m1, use_c=use_c, use_gpu=use_gpu\n",
      "  File \"/Users/bluez3303/Documents/GitHub/orbitize/orbitize/sampler.py\", line 357, in reject\n",
      "    lnp = self._logl(samples, use_c, use_gpu)\n",
      "  File \"/Users/bluez3303/Documents/GitHub/orbitize/orbitize/kepler.py\", line 108, in calc_orbit\n",
      "    eanom = _calc_ecc_anom(manom, ecc_arr, tolerance=tolerance, max_iter=max_iter, use_c=use_c, use_gpu=use_gpu)\n",
      "  File \"/Users/bluez3303/Documents/GitHub/orbitize/orbitize/sampler.py\", line 68, in _logl\n",
      "    model, jitter = self.system.compute_model(params, use_c=use_c, use_gpu=use_gpu)\n",
      "  File \"/Users/bluez3303/Documents/GitHub/orbitize/orbitize/system.py\", line 552, in compute_model\n",
      "    sep, pa = radec2seppa(raoff, decoff)\n",
      "  File \"/Users/bluez3303/Documents/GitHub/orbitize/orbitize/kepler.py\", line 191, in _calc_ecc_anom\n",
      "    eanom[ind_low] = _newton_solver_wrapper(manom[ind_low], ecc[ind_low], tolerance, max_iter, use_c, use_gpu)\n",
      "  File \"/Users/bluez3303/Documents/GitHub/orbitize/orbitize/kepler.py\", line 223, in _newton_solver_wrapper\n",
      "    eanom = _kepler._c_newton_solver(manom, ecc, tolerance=tolerance, max_iter=max_iter)\n",
      "  File \"/Users/bluez3303/Documents/GitHub/orbitize/orbitize/system.py\", line 630, in radec2seppa\n",
      "    sep = np.sqrt((ra**2) + (dec**2))\n",
      "KeyboardInterrupt\n",
      "KeyboardInterrupt\n"
     ]
    }
   ],
   "source": [
    "%matplotlib inline\n",
    "\n",
    "from orbitize import driver\n",
    "\n",
    "myDriver = driver.Driver(\n",
    "    '{}/GJ504.csv'.format(orbitize.DATADIR), # data file\n",
    "    'OFTI',        # choose from: ['OFTI', 'MCMC']\n",
    "    1,             # number of planets in system\n",
    "    1.22,          # total mass [M_sun]\n",
    "    56.95,         # system parallax [mas]\n",
    "    mass_err=0.08, # mass error [M_sun]\n",
    "    plx_err=0.26   # parallax error [mas]\n",
    ")\n",
    "orbits = myDriver.sampler.run_sampler(10)\n",
    "\n",
    "# plot the results\n",
    "myResults = myDriver.sampler.results\n",
    "orbit_figure = myResults.plot_orbits(\n",
    "    start_mjd=myDriver.sampler.epochs[0] # minimum MJD for colorbar (choose first data epoch)\n",
    ")"
   ]
  }
 ],
 "metadata": {
  "interpreter": {
   "hash": "e899b22145868d3cd465733d82c36c2ae3ac0d3591d6a0807ec2e5e577a9cf5c"
  },
  "kernelspec": {
   "display_name": "Python 3.7.6 64-bit ('python3.7': conda)",
   "language": "python",
   "name": "python37664bitpython37conda5785220be34f4f6fa52b2ff37321b463"
  },
  "language_info": {
   "codemirror_mode": {
    "name": "ipython",
    "version": 3
   },
   "file_extension": ".py",
   "mimetype": "text/x-python",
   "name": "python",
   "nbconvert_exporter": "python",
   "pygments_lexer": "ipython3",
   "version": "3.7.6"
  }
 },
 "nbformat": 4,
 "nbformat_minor": 2
}
