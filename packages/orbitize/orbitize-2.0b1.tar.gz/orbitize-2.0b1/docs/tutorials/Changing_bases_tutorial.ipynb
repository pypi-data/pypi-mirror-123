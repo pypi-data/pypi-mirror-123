{
 "cells": [
  {
   "cell_type": "markdown",
   "metadata": {},
   "source": [
    "# Fitting in different orbital bases\n",
    "\n",
    "In this tutorial, we show how one can perform orbit-fits in different coordinate bases amongst the ones supported by `orbitize`. Currently fitting in different bases is only supported in MCMC, so we will use MCMC to perform an orbit-fit in an orbital basis distinct from the default one. For a general introduction to MCMC, be sure to check out the [MCMC Introduction tutorial](https://orbitize.readthedocs.io/en/latest/tutorials/MCMC_tutorial.html) first!"
   ]
  },
  {
   "cell_type": "markdown",
   "metadata": {},
   "source": [
    "## The \"standard\" and \"XYZ\" bases"
   ]
  },
  {
   "cell_type": "markdown",
   "metadata": {},
   "source": [
    "The default way to define an orbit in `orbitize` is through what we call the 'standard basis', which consists of eight parameters: semi-major axis (sma), eccentricity (ecc), inclination (inc), argument of periastron (aop), position angle of the nodes (pan), epoch of periastron expressed as a fraction of the period past a reference epoch (tau), parallax (plx) and total system mass (mtot). Each orbital element has an associated default prior; to see how to explore and modify these priors check out the [Modifying priors tutorial](http://orbitize.info/en/latest/tutorials/Modifying_Priors.html).\n",
    "\n",
    "An alternative way to define an orbit is through its position and velocity components in XYZ space for a given epoch; we will call this the 'XYZ basis'. The orbit is thus defined with the array ($x$, $y$, $z$, $\\dot{x}$, $\\dot{y}$,$\\dot{z}$, plx, mtot), with position coordinates measured in AU and velocity components in $\\text{km s}^{-1}$. In this basis, the sky-plane coordinates ($x,y$) are the separations of the planet relative to the primary, with the positive $x$ and $y$ directions coinciding with the positive RA and Dec directions, respectively. The $z$ direction is the line-of-sight coordinate, such that movement in the positive $z$ direction causes a redshift. The default priors are uniform all uniform."
   ]
  },
  {
   "cell_type": "markdown",
   "metadata": {},
   "source": [
    "## Setting up Sampler in the XYZ basis"
   ]
  },
  {
   "cell_type": "markdown",
   "metadata": {},
   "source": [
    "The easiest way to run an orbit-fit in an alternative orbital basis in `orbitize` is through the `orbitize.driver.Driver` interface. The process is exactly like initializing a regular `Driver` object, but setting the `fitting_basis` keyword to 'XYZ':"
   ]
  },
  {
   "cell_type": "code",
   "execution_count": 1,
   "metadata": {},
   "outputs": [
    {
     "name": "stdout",
     "output_type": "stream",
     "text": [
      "Converting ra/dec data points in data_table to sep/pa. Original data are stored in input_table.\n"
     ]
    }
   ],
   "source": [
    "import numpy as np\n",
    "\n",
    "import orbitize\n",
    "from orbitize import driver\n",
    "import multiprocessing as mp\n",
    "\n",
    "filename = \"{}xyz_test_data.csv\".format(orbitize.DATADIR) # a file with input in radec since rn it only works for that\n",
    "\n",
    "# system parameters\n",
    "num_secondary_bodies = 1\n",
    "system_mass = 1.75 # [Msol]\n",
    "plx = 51.44 # [mas]\n",
    "mass_err = 0.05 # [Msol]\n",
    "plx_err = 0.12 # [mas]\n",
    "\n",
    "# MCMC parameters\n",
    "num_temps = 5\n",
    "num_walkers = 20\n",
    "num_threads = mp.cpu_count() # or a different number if you prefer\n",
    "\n",
    "\n",
    "my_driver = driver.Driver(\n",
    "    filename, 'MCMC', num_secondary_bodies, system_mass, plx, mass_err=mass_err, plx_err=plx_err,\n",
    "    mcmc_kwargs={'num_temps': num_temps, 'num_walkers': num_walkers, 'num_threads': num_threads},\n",
    "    system_kwargs={'fitting_basis': 'XYZ'}\n",
    ")\n",
    "\n",
    "s = my_driver.sampler"
   ]
  },
  {
   "cell_type": "markdown",
   "metadata": {},
   "source": [
    "### (Properly) initializing walkers in the XYZ basis"
   ]
  },
  {
   "cell_type": "markdown",
   "metadata": {},
   "source": [
    "In the standard basis at this point we would be ready to use the `s.run_sampler` method to start the sampling, but with the XYZ basis we have to make sure that all our walkers are initialized in a valid region of parameter space. This is because randomly generated values of ($x$, $y$, $z$, $\\dot{x}$, $\\dot{y}$, $\\dot{z}$) can result in unbound, invalid orbits with, for example, negative eccentricities (which is not cool). This can be easily corrected with the `s.validate_xyz_positions` method:"
   ]
  },
  {
   "cell_type": "code",
   "execution_count": 2,
   "metadata": {},
   "outputs": [
    {
     "name": "stdout",
     "output_type": "stream",
     "text": [
      "All walker positions validated.\n"
     ]
    },
    {
     "name": "stderr",
     "output_type": "stream",
     "text": [
      "/Users/bluez3303/Documents/GitHub/orbitize/orbitize/basis.py:936: RuntimeWarning: invalid value encountered in arccos\n",
      "  eanom = np.arccos(cos_eanom)\n",
      "/Users/bluez3303/miniconda3/envs/python3.7/lib/python3.7/site-packages/astropy/units/quantity.py:477: RuntimeWarning: invalid value encountered in sqrt\n",
      "  result = super().__array_ufunc__(function, method, *arrays, **kwargs)\n"
     ]
    }
   ],
   "source": [
    "s.validate_xyz_positions()"
   ]
  },
  {
   "cell_type": "markdown",
   "metadata": {},
   "source": [
    "___________________"
   ]
  },
  {
   "cell_type": "markdown",
   "metadata": {},
   "source": [
    "After this is done, the sampler can be run and the results saved normally:"
   ]
  },
  {
   "cell_type": "code",
   "execution_count": 3,
   "metadata": {},
   "outputs": [
    {
     "name": "stdout",
     "output_type": "stream",
     "text": [
      "Starting Burn in\n"
     ]
    },
    {
     "name": "stderr",
     "output_type": "stream",
     "text": [
      "/Users/bluez3303/miniconda3/envs/python3.7/lib/python3.7/site-packages/astropy/table/column.py:1020: RuntimeWarning: invalid value encountered in greater\n",
      "  result = getattr(super(), op)(other)\n",
      "/Users/bluez3303/Documents/GitHub/orbitize/orbitize/kepler.py:112: RuntimeWarning: invalid value encountered in sqrt\n",
      "  tanom = 2.*np.arctan(np.sqrt((1.0 + ecc)/(1.0 - ecc))*np.tan(0.5*eanom))\n",
      "/Users/bluez3303/miniconda3/envs/python3.7/lib/python3.7/site-packages/astropy/table/column.py:1020: RuntimeWarning: invalid value encountered in greater\n",
      "  result = getattr(super(), op)(other)\n",
      "/Users/bluez3303/Documents/GitHub/orbitize/orbitize/kepler.py:112: RuntimeWarning: invalid value encountered in sqrt\n",
      "  tanom = 2.*np.arctan(np.sqrt((1.0 + ecc)/(1.0 - ecc))*np.tan(0.5*eanom))\n",
      "/Users/bluez3303/miniconda3/envs/python3.7/lib/python3.7/site-packages/astropy/table/column.py:1020: RuntimeWarning: invalid value encountered in greater\n",
      "  result = getattr(super(), op)(other)\n",
      "/Users/bluez3303/Documents/GitHub/orbitize/orbitize/kepler.py:112: RuntimeWarning: invalid value encountered in sqrt\n",
      "  tanom = 2.*np.arctan(np.sqrt((1.0 + ecc)/(1.0 - ecc))*np.tan(0.5*eanom))\n"
     ]
    },
    {
     "name": "stdout",
     "output_type": "stream",
     "text": [
      "10/10 steps of burn-in complete\n",
      "Burn in complete. Sampling posterior now.\n",
      "10/30 steps completed\r"
     ]
    },
    {
     "name": "stderr",
     "output_type": "stream",
     "text": [
      "/Users/bluez3303/miniconda3/envs/python3.7/lib/python3.7/site-packages/astropy/table/column.py:1020: RuntimeWarning: invalid value encountered in greater\n",
      "  result = getattr(super(), op)(other)\n",
      "/Users/bluez3303/Documents/GitHub/orbitize/orbitize/kepler.py:112: RuntimeWarning: invalid value encountered in sqrt\n",
      "  tanom = 2.*np.arctan(np.sqrt((1.0 + ecc)/(1.0 - ecc))*np.tan(0.5*eanom))\n"
     ]
    },
    {
     "name": "stdout",
     "output_type": "stream",
     "text": [
      "30/30 steps completed\n",
      "Run complete\n"
     ]
    }
   ],
   "source": [
    "total_orbits = 600 # number of steps x number of walkers (at lowest temperature)\n",
    "burn_steps = 10 # steps to burn in per walker\n",
    "thin = 2 # only save every 2nd step\n",
    "\n",
    "s.run_sampler(total_orbits, burn_steps=burn_steps, thin=thin)\n",
    "s.results.save_results('my_posterior.hdf5')"
   ]
  },
  {
   "cell_type": "markdown",
   "metadata": {},
   "source": [
    "## Loading and converting results"
   ]
  },
  {
   "cell_type": "markdown",
   "metadata": {},
   "source": [
    "You can load the results as you normally would. The orbit posteriors are saved in the `results.post` attribute, and the basis you used for the fit in the `results.fitting_basis` attribute:"
   ]
  },
  {
   "cell_type": "code",
   "execution_count": 4,
   "metadata": {},
   "outputs": [
    {
     "name": "stdout",
     "output_type": "stream",
     "text": [
      "Converting ra/dec data points in data_table to sep/pa. Original data are stored in input_table.\n",
      "The used basis for the fit was  XYZ\n",
      "The posteriors are  [[-15.6508584  -32.04267745  -4.98210691 ...   1.36314288  51.46035651\n",
      "    1.74628602]\n",
      " [-15.61693681 -32.03023285   0.76463531 ...   0.29882274  51.5241429\n",
      "    1.74053409]\n",
      " [-15.56850891 -32.06783191  -4.0151937  ...   0.10485667  51.42097064\n",
      "    1.74227245]\n",
      " ...\n",
      " [-15.58688831 -32.00939391  29.08240679 ...  -0.73752354  51.49309711\n",
      "    1.71268591]\n",
      " [-15.58571286 -32.00511931  31.52801203 ...  -0.78334825  51.49729211\n",
      "    1.71209793]\n",
      " [-15.60943388 -32.05041007  -2.86917234 ...   0.24048844  51.42411403\n",
      "    1.76502397]]\n"
     ]
    }
   ],
   "source": [
    "myResults = orbitize.results.Results() # create empty Results object\n",
    "myResults.load_results('my_posterior.hdf5') \n",
    "print('The used basis for the fit was ', myResults.fitting_basis)\n",
    "print('The posteriors are ', myResults.post)"
   ]
  },
  {
   "cell_type": "markdown",
   "metadata": {},
   "source": [
    "Let's convert back to the good old standard basis:"
   ]
  },
  {
   "cell_type": "code",
   "execution_count": 5,
   "metadata": {},
   "outputs": [],
   "source": [
    "xyz_posterior = myResults.post\n",
    "\n",
    "standard_posterior = myResults.system.basis.to_standard_basis(xyz_posterior)\n",
    "\n",
    "print('My posterior in standard basis is ', standard_posterior)"
   ]
  },
  {
   "cell_type": "markdown",
   "metadata": {},
   "source": [
    "And we're done! Enjoy the XYZ basis."
   ]
  }
 ],
 "metadata": {
  "interpreter": {
   "hash": "e899b22145868d3cd465733d82c36c2ae3ac0d3591d6a0807ec2e5e577a9cf5c"
  },
  "kernelspec": {
   "display_name": "Python 3.7.6 64-bit ('python3.7': conda)",
   "language": "python",
   "name": "python37664bitpython37conda5785220be34f4f6fa52b2ff37321b463"
  },
  "language_info": {
   "codemirror_mode": {
    "name": "ipython",
    "version": 3
   },
   "file_extension": ".py",
   "mimetype": "text/x-python",
   "name": "python",
   "nbconvert_exporter": "python",
   "pygments_lexer": "ipython3",
   "version": "3.7.6"
  }
 },
 "nbformat": 4,
 "nbformat_minor": 2
}
